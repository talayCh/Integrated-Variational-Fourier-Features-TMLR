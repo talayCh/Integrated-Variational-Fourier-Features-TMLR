{
 "cells": [
  {
   "cell_type": "code",
   "execution_count": 1,
   "id": "86943e48-306f-410a-acc2-5136822b26b1",
   "metadata": {},
   "outputs": [
    {
     "name": "stderr",
     "output_type": "stream",
     "text": [
      "2023-08-20 15:44:37.819674: I tensorflow/core/platform/cpu_feature_guard.cc:193] This TensorFlow binary is optimized with oneAPI Deep Neural Network Library (oneDNN) to use the following CPU instructions in performance-critical operations:  AVX2 FMA\n",
      "To enable them in other operations, rebuild TensorFlow with the appropriate compiler flags.\n",
      "2023-08-20 15:44:38.380804: W tensorflow/compiler/xla/stream_executor/platform/default/dso_loader.cc:64] Could not load dynamic library 'libnvinfer.so.7'; dlerror: libnvinfer.so.7: cannot open shared object file: No such file or directory\n",
      "2023-08-20 15:44:38.380882: W tensorflow/compiler/xla/stream_executor/platform/default/dso_loader.cc:64] Could not load dynamic library 'libnvinfer_plugin.so.7'; dlerror: libnvinfer_plugin.so.7: cannot open shared object file: No such file or directory\n",
      "2023-08-20 15:44:38.380888: W tensorflow/compiler/tf2tensorrt/utils/py_utils.cc:38] TF-TRT Warning: Cannot dlopen some TensorRT libraries. If you would like to use Nvidia GPU with TensorRT, please make sure the missing libraries mentioned above are installed properly.\n",
      "2023-08-20 15:44:41.266789: I tensorflow/compiler/xla/stream_executor/cuda/cuda_gpu_executor.cc:981] successful NUMA node read from SysFS had negative value (-1), but there must be at least one NUMA node, so returning NUMA node zero\n",
      "2023-08-20 15:44:41.290372: W tensorflow/compiler/xla/stream_executor/platform/default/dso_loader.cc:64] Could not load dynamic library 'libcudnn.so.8'; dlerror: libcudnn.so.8: cannot open shared object file: No such file or directory\n",
      "2023-08-20 15:44:41.290395: W tensorflow/core/common_runtime/gpu/gpu_device.cc:1934] Cannot dlopen some GPU libraries. Please make sure the missing libraries mentioned above are installed properly if you would like to use GPU. Follow the guide at https://www.tensorflow.org/install/gpu for how to download and setup the required libraries for your platform.\n",
      "Skipping registering GPU devices...\n"
     ]
    }
   ],
   "source": [
    "import lab\n",
    "import gpflow as gp\n",
    "import math\n",
    "import scipy.fft\n",
    "import numpy as np\n",
    "import time\n",
    "from matplotlib import pyplot as plt\n",
    "import seaborn\n",
    "import json\n",
    "\n",
    "import sys, importlib, pathlib\n",
    "sys.path.insert(0, str(pathlib.Path().resolve().parent))\n",
    "\n",
    "seaborn.set()\n",
    "seaborn.set_style('whitegrid') # use whitegrid for print-ready plots\n",
    "\n",
    "lab.default_dtype=np.float64\n",
    "\n",
    "import vff\n",
    "plt.rcParams.update({'figure.figsize' : (8, 6),\n",
    "                     # bigger labels for readability\n",
    "                    'font.size' : 22,\n",
    "                    'axes.labelsize' : 28,\n",
    "                    'xtick.labelsize' : 22,\n",
    "                    'ytick.labelsize' : 22,\n",
    "                     'axes.titlesize' : 28,\n",
    "                     # Latex-like fonts\n",
    "                     'text.usetex' : True,\n",
    "                     'font.family' : 'serif',\n",
    "                     'font.serif' : 'Computer Modern',\n",
    "                     'mathtext.fontset' : 'cm',\n",
    "                     'mathtext.rm' : 'Bitstream Vera Sans',\n",
    "                     'mathtext.it' : 'Bitstream Vera Sans:italic',\n",
    "                     'mathtext.bf' : 'Bitstream Ver Sans:bold',\n",
    "                      'lines.linewidth' : 3,\n",
    "                    })\n",
    "\n"
   ]
  },
  {
   "cell_type": "code",
   "execution_count": 42,
   "id": "cffd6f8d-3f3c-46ab-9002-335507ddc1b7",
   "metadata": {},
   "outputs": [
    {
     "name": "stdout",
     "output_type": "stream",
     "text": [
      "0.5422330495741096 [1.25509317]\n"
     ]
    }
   ],
   "source": [
    "lab.set_random_seed(7)\n",
    "\n",
    "N = 1000\n",
    "#L = 1.\n",
    "# OR\n",
    "L = 0.5\n",
    "sigma_f = 0.1*lab.exp(lab.squeeze(lab.randn(1)))\n",
    "width = math.sqrt(N/2)/L\n",
    "#snr = 2*lab.exp(lab.randn(1))\n",
    "# OR\n",
    "#snr = lab.exp(lab.randn(1))\n",
    "# OR\n",
    "snr = 2*lab.exp(lab.randn(1))\n",
    "print(sigma_f, snr)"
   ]
  },
  {
   "cell_type": "raw",
   "id": "9cd809fd-7880-464a-8452-717243e67a58",
   "metadata": {},
   "source": [
    "# Contour plots - how to choose the parameters"
   ]
  },
  {
   "cell_type": "code",
   "execution_count": 35,
   "id": "57bec902-7db9-407c-bac4-b06b3c51033a",
   "metadata": {},
   "outputs": [
    {
     "data": {
      "application/vnd.jupyter.widget-view+json": {
       "model_id": "24aa878b441a4664aa7b94f016f412ee",
       "version_major": 2,
       "version_minor": 0
      },
      "text/plain": [
       "  0%|          | 0/15 [00:00<?, ?it/s]"
      ]
     },
     "metadata": {},
     "output_type": "display_data"
    },
    {
     "data": {
      "application/vnd.jupyter.widget-view+json": {
       "model_id": "27ffdd7d316c450d9e63c5f16e5145d2",
       "version_major": 2,
       "version_minor": 0
      },
      "text/plain": [
       "  0%|          | 0/30 [00:00<?, ?it/s]"
      ]
     },
     "metadata": {},
     "output_type": "display_data"
    },
    {
     "data": {
      "application/vnd.jupyter.widget-view+json": {
       "model_id": "c47b94f766bc4463ad23eabadb0ed7d8",
       "version_major": 2,
       "version_minor": 0
      },
      "text/plain": [
       "  0%|          | 0/30 [00:00<?, ?it/s]"
      ]
     },
     "metadata": {},
     "output_type": "display_data"
    },
    {
     "data": {
      "application/vnd.jupyter.widget-view+json": {
       "model_id": "98c8cb041b094fcf85c2be853fbf585d",
       "version_major": 2,
       "version_minor": 0
      },
      "text/plain": [
       "  0%|          | 0/30 [00:00<?, ?it/s]"
      ]
     },
     "metadata": {},
     "output_type": "display_data"
    },
    {
     "data": {
      "application/vnd.jupyter.widget-view+json": {
       "model_id": "b5a73fe13eb64eaeb2b3bba25e24f9ff",
       "version_major": 2,
       "version_minor": 0
      },
      "text/plain": [
       "  0%|          | 0/30 [00:00<?, ?it/s]"
      ]
     },
     "metadata": {},
     "output_type": "display_data"
    },
    {
     "data": {
      "application/vnd.jupyter.widget-view+json": {
       "model_id": "4b4bc09f599e42d3a9072161d6c12425",
       "version_major": 2,
       "version_minor": 0
      },
      "text/plain": [
       "  0%|          | 0/30 [00:00<?, ?it/s]"
      ]
     },
     "metadata": {},
     "output_type": "display_data"
    },
    {
     "data": {
      "application/vnd.jupyter.widget-view+json": {
       "model_id": "116e4e8611c145dda9d4c9e63a4d38f9",
       "version_major": 2,
       "version_minor": 0
      },
      "text/plain": [
       "  0%|          | 0/30 [00:00<?, ?it/s]"
      ]
     },
     "metadata": {},
     "output_type": "display_data"
    },
    {
     "data": {
      "application/vnd.jupyter.widget-view+json": {
       "model_id": "0d66866cd816466a915c6320e6076919",
       "version_major": 2,
       "version_minor": 0
      },
      "text/plain": [
       "  0%|          | 0/30 [00:00<?, ?it/s]"
      ]
     },
     "metadata": {},
     "output_type": "display_data"
    },
    {
     "data": {
      "application/vnd.jupyter.widget-view+json": {
       "model_id": "8aeafa8116344483b83fe59018f916c4",
       "version_major": 2,
       "version_minor": 0
      },
      "text/plain": [
       "  0%|          | 0/30 [00:00<?, ?it/s]"
      ]
     },
     "metadata": {},
     "output_type": "display_data"
    },
    {
     "data": {
      "application/vnd.jupyter.widget-view+json": {
       "model_id": "912713a627004858bea329d950b7d4ef",
       "version_major": 2,
       "version_minor": 0
      },
      "text/plain": [
       "  0%|          | 0/30 [00:00<?, ?it/s]"
      ]
     },
     "metadata": {},
     "output_type": "display_data"
    },
    {
     "data": {
      "application/vnd.jupyter.widget-view+json": {
       "model_id": "379cc4aa012b491ba1d7a7063072eb28",
       "version_major": 2,
       "version_minor": 0
      },
      "text/plain": [
       "  0%|          | 0/30 [00:00<?, ?it/s]"
      ]
     },
     "metadata": {},
     "output_type": "display_data"
    },
    {
     "data": {
      "application/vnd.jupyter.widget-view+json": {
       "model_id": "1f190d6bf0134069abd6270457cddf13",
       "version_major": 2,
       "version_minor": 0
      },
      "text/plain": [
       "  0%|          | 0/30 [00:00<?, ?it/s]"
      ]
     },
     "metadata": {},
     "output_type": "display_data"
    },
    {
     "data": {
      "application/vnd.jupyter.widget-view+json": {
       "model_id": "e3fca0a585944734aca976fa2abb18a2",
       "version_major": 2,
       "version_minor": 0
      },
      "text/plain": [
       "  0%|          | 0/30 [00:00<?, ?it/s]"
      ]
     },
     "metadata": {},
     "output_type": "display_data"
    },
    {
     "data": {
      "application/vnd.jupyter.widget-view+json": {
       "model_id": "4431920633184ea1824829a2d490fd54",
       "version_major": 2,
       "version_minor": 0
      },
      "text/plain": [
       "  0%|          | 0/30 [00:00<?, ?it/s]"
      ]
     },
     "metadata": {},
     "output_type": "display_data"
    },
    {
     "data": {
      "application/vnd.jupyter.widget-view+json": {
       "model_id": "3c00a404ba0c4cf6a6579931ceccc644",
       "version_major": 2,
       "version_minor": 0
      },
      "text/plain": [
       "  0%|          | 0/30 [00:00<?, ?it/s]"
      ]
     },
     "metadata": {},
     "output_type": "display_data"
    },
    {
     "data": {
      "application/vnd.jupyter.widget-view+json": {
       "model_id": "565101dd5cd44f698afe3bd0d73d1007",
       "version_major": 2,
       "version_minor": 0
      },
      "text/plain": [
       "  0%|          | 0/30 [00:00<?, ?it/s]"
      ]
     },
     "metadata": {},
     "output_type": "display_data"
    }
   ],
   "source": [
    "import tensorflow as tf\n",
    "from tqdm.notebook import tqdm\n",
    "\n",
    "tf.config.run_functions_eagerly(True) \n",
    "lab.set_random_seed(7)\n",
    "\n",
    "N = 1000\n",
    "#L = 1.\n",
    "# OR\n",
    "L = 0.5\n",
    "sigma_f = 0.1*lab.exp(lab.squeeze(lab.randn(1)))\n",
    "width = math.sqrt(N/2)/L\n",
    "#snr = 2*lab.exp(lab.randn(1))\n",
    "# OR\n",
    "#snr = lab.exp(lab.randn(1))\n",
    "# OR\n",
    "snr = 8*lab.exp(lab.randn(1))\n",
    "#x = 6*width*lab.rand(N) -3*width\n",
    "x = lab.randn(N)*width\n",
    "gt_kernel = gp.kernels.SquaredExponential()\n",
    "gt_lik = gp.likelihoods.Gaussian()\n",
    "gt_kernel.variance.assign(sigma_f)\n",
    "gt_lik.variance.assign(lab.squeeze(gt_kernel.variance / snr))\n",
    "gt_kernel.lengthscales.assign(lab.squeeze(L))\n",
    "K = gt_kernel.K(lab.expand_dims(x, axis=-1), lab.expand_dims(x, axis=-1)) + gt_lik.variance * lab.eye(x.dtype, N)\n",
    "y = lab.squeeze(lab.mm(lab.chol(K), lab.randn(N, 1)), axis=-1)\n",
    "\n",
    "num_bw = 15\n",
    "num_bwx = 30\n",
    "bw_freq = np.linspace(0.4, 1.8, num_bw)\n",
    "eps_bw_x = np.linspace(0.1, 1.5, num_bwx)\n",
    "xx, yy = np.meshgrid(bw_freq, eps_bw_x)\n",
    "op = lab.zeros(np.float64, num_bw, num_bwx)\n",
    "for i in tqdm(range(num_bw)):\n",
    "    for j in tqdm(range(num_bwx)):\n",
    "        eps = eps_bw_x[j]/(6*width)\n",
    "        M = int(bw_freq[i]/(L*eps))\n",
    "        if M % 2 == 1:\n",
    "            M = M + 1\n",
    "        u = vff.inducing_variables.MaskedProductIFF(\n",
    "            [vff.inducing_variables.IntegratedFourierFeature1D(eps, M//2)]\n",
    "        )\n",
    "        model = vff.sgpr.SGPR(\n",
    "            data = (lab.expand_dims(x, axis=-1), lab.expand_dims(y, axis=-1)),\n",
    "            kernel = gt_kernel,\n",
    "            noise_variance = gt_lik.variance,\n",
    "            inducing_variable = u,\n",
    "    )\n",
    "\n",
    "        op[i, j] = (vff.objectives.log_marginal_likelihood(y, lab.expand_dims(x, axis=-1), gt_kernel, gt_lik)/N \n",
    "                    - model.elbo()/N\n",
    "                   )\n",
    "        #op[i, j] = lab.to_numpy(bound)\n",
    "\n",
    "tf.config.run_functions_eagerly(False) "
   ]
  },
  {
   "cell_type": "code",
   "execution_count": 36,
   "id": "b1120e36-187e-410d-b46c-4675de0c0f98",
   "metadata": {},
   "outputs": [
    {
     "data": {
      "text/plain": [
       "[<matplotlib.lines.Line2D at 0x7f46e434c610>]"
      ]
     },
     "execution_count": 36,
     "metadata": {},
     "output_type": "execute_result"
    },
    {
     "data": {
      "image/png": "[encoded data removed]",
      "text/plain": [
       "<Figure size 432x288 with 1 Axes>"
      ]
     },
     "metadata": {
      "needs_background": "light"
     },
     "output_type": "display_data"
    }
   ],
   "source": [
    "cs = plt.contour(xx, yy, lab.t(op), levels=[1e-7, 3.16e-7, 1e-6, 3.16e-6, 1e-5, 3.16e-5, 1e-4, 3.16e-4, 1e-3, 3.16e-3, 1e-2, \n",
    "                                       3.16e-2, 1e-1, 3.16e-1, 1], \n",
    "                 colors='k')\n",
    "fmt = {}\n",
    "strs = [r'$10^{-7}$', r'$\\sqrt{10}10^{-7}$',\n",
    "       r'$10^{-6}$', r'$\\sqrt{10}10^{-6}$',\n",
    "       r'$10^{-5}$', r'$\\sqrt{10}10^{-5}$',\n",
    "       r'$10^{-4}$', r'$\\sqrt{10}10^{-4}$',\n",
    "       r'$10^{-3}$', r'$\\sqrt{10}10^{-3}$',\n",
    "       r'$10^{-2}$', r'$\\sqrt{10}10^{-2}$',\n",
    "       r'$10^{-1}$',  r'$\\sqrt{10}10^{-1}$',\n",
    "       r'$10^{0}$']\n",
    "for l, s in zip(cs.levels, strs):\n",
    "    fmt[l] = s\n",
    "\n",
    "# Label every other level using strings\n",
    "txt = plt.clabel(cs, cs.levels[::2], fmt=fmt)\n",
    "\n",
    "# enforce consistent rotation\n",
    "\n",
    "#for t in txt:\n",
    "#    t.set_rotation(270)\n",
    "    \n",
    "plt.xlabel(r'Normalised bandwidth ($\\lambda M \\varepsilon$)')\n",
    "plt.ylabel(r'Normalised $\\varepsilon$ ($\\varepsilon W_{x}$)')\n",
    "plt.plot(bw_freq, [0.95 for u in bw_freq], 'k--')\n",
    "#plt.savefig('../images/contour_gaussian_snr_{:.3f}_L_{:.3f}.png'.format(snr[0], L[0]), bbox_inches=\"tight\")"
   ]
  },
  {
   "cell_type": "code",
   "execution_count": 37,
   "id": "c8e209a2-f311-41d1-9d4f-7b3ed6918542",
   "metadata": {},
   "outputs": [
    {
     "data": {
      "application/vnd.jupyter.widget-view+json": {
       "model_id": "5e4e36c1747b4698959cbb33ac4bd5a5",
       "version_major": 2,
       "version_minor": 0
      },
      "text/plain": [
       "  0%|          | 0/15 [00:00<?, ?it/s]"
      ]
     },
     "metadata": {},
     "output_type": "display_data"
    },
    {
     "data": {
      "application/vnd.jupyter.widget-view+json": {
       "model_id": "c3aaf035c569463b8b1388c3a4a053cb",
       "version_major": 2,
       "version_minor": 0
      },
      "text/plain": [
       "  0%|          | 0/30 [00:00<?, ?it/s]"
      ]
     },
     "metadata": {},
     "output_type": "display_data"
    },
    {
     "data": {
      "application/vnd.jupyter.widget-view+json": {
       "model_id": "0c516e3c04c74bf5bb8efc83dc0152bf",
       "version_major": 2,
       "version_minor": 0
      },
      "text/plain": [
       "  0%|          | 0/30 [00:00<?, ?it/s]"
      ]
     },
     "metadata": {},
     "output_type": "display_data"
    },
    {
     "data": {
      "application/vnd.jupyter.widget-view+json": {
       "model_id": "46a57a413fc44488b75eb9de1f2a4e22",
       "version_major": 2,
       "version_minor": 0
      },
      "text/plain": [
       "  0%|          | 0/30 [00:00<?, ?it/s]"
      ]
     },
     "metadata": {},
     "output_type": "display_data"
    },
    {
     "data": {
      "application/vnd.jupyter.widget-view+json": {
       "model_id": "86f04d39c0b44de6a7759107a71bdb79",
       "version_major": 2,
       "version_minor": 0
      },
      "text/plain": [
       "  0%|          | 0/30 [00:00<?, ?it/s]"
      ]
     },
     "metadata": {},
     "output_type": "display_data"
    },
    {
     "data": {
      "application/vnd.jupyter.widget-view+json": {
       "model_id": "1ed9b1a2f9dd45abafbbea232e75fc45",
       "version_major": 2,
       "version_minor": 0
      },
      "text/plain": [
       "  0%|          | 0/30 [00:00<?, ?it/s]"
      ]
     },
     "metadata": {},
     "output_type": "display_data"
    },
    {
     "data": {
      "application/vnd.jupyter.widget-view+json": {
       "model_id": "170704e7d1924594addb5894dbf0e6c6",
       "version_major": 2,
       "version_minor": 0
      },
      "text/plain": [
       "  0%|          | 0/30 [00:00<?, ?it/s]"
      ]
     },
     "metadata": {},
     "output_type": "display_data"
    },
    {
     "data": {
      "application/vnd.jupyter.widget-view+json": {
       "model_id": "5c419e69f05a4119b8baf2511814ef00",
       "version_major": 2,
       "version_minor": 0
      },
      "text/plain": [
       "  0%|          | 0/30 [00:00<?, ?it/s]"
      ]
     },
     "metadata": {},
     "output_type": "display_data"
    },
    {
     "data": {
      "application/vnd.jupyter.widget-view+json": {
       "model_id": "06ff1a6373474acab66765910e1c373a",
       "version_major": 2,
       "version_minor": 0
      },
      "text/plain": [
       "  0%|          | 0/30 [00:00<?, ?it/s]"
      ]
     },
     "metadata": {},
     "output_type": "display_data"
    },
    {
     "data": {
      "application/vnd.jupyter.widget-view+json": {
       "model_id": "fba15beba33b4f6d9b5a1bd67bbeff25",
       "version_major": 2,
       "version_minor": 0
      },
      "text/plain": [
       "  0%|          | 0/30 [00:00<?, ?it/s]"
      ]
     },
     "metadata": {},
     "output_type": "display_data"
    },
    {
     "data": {
      "application/vnd.jupyter.widget-view+json": {
       "model_id": "1cac36328ef447b6b96587c9282700ee",
       "version_major": 2,
       "version_minor": 0
      },
      "text/plain": [
       "  0%|          | 0/30 [00:00<?, ?it/s]"
      ]
     },
     "metadata": {},
     "output_type": "display_data"
    },
    {
     "data": {
      "application/vnd.jupyter.widget-view+json": {
       "model_id": "60bad09297214e849bd9e95c6404a291",
       "version_major": 2,
       "version_minor": 0
      },
      "text/plain": [
       "  0%|          | 0/30 [00:00<?, ?it/s]"
      ]
     },
     "metadata": {},
     "output_type": "display_data"
    },
    {
     "data": {
      "application/vnd.jupyter.widget-view+json": {
       "model_id": "93aa1f8d011f4ffab20ee0612de0092f",
       "version_major": 2,
       "version_minor": 0
      },
      "text/plain": [
       "  0%|          | 0/30 [00:00<?, ?it/s]"
      ]
     },
     "metadata": {},
     "output_type": "display_data"
    },
    {
     "data": {
      "application/vnd.jupyter.widget-view+json": {
       "model_id": "b4d8f83f28e14e04bd38beee1d2d3be2",
       "version_major": 2,
       "version_minor": 0
      },
      "text/plain": [
       "  0%|          | 0/30 [00:00<?, ?it/s]"
      ]
     },
     "metadata": {},
     "output_type": "display_data"
    },
    {
     "data": {
      "application/vnd.jupyter.widget-view+json": {
       "model_id": "77152a97c2944b66b915c864e780ce09",
       "version_major": 2,
       "version_minor": 0
      },
      "text/plain": [
       "  0%|          | 0/30 [00:00<?, ?it/s]"
      ]
     },
     "metadata": {},
     "output_type": "display_data"
    },
    {
     "data": {
      "application/vnd.jupyter.widget-view+json": {
       "model_id": "2c51fd8d95ee480a9072e63111b3c002",
       "version_major": 2,
       "version_minor": 0
      },
      "text/plain": [
       "  0%|          | 0/30 [00:00<?, ?it/s]"
      ]
     },
     "metadata": {},
     "output_type": "display_data"
    }
   ],
   "source": [
    "tf.config.run_functions_eagerly(True) \n",
    "gt_kernel2 = gp.kernels.Matern32()\n",
    "gt_kernel.variance.assign(sigma_f)\n",
    "gt_kernel.lengthscales.assign(lab.squeeze(L))\n",
    "K = gt_kernel2.K(lab.expand_dims(x, axis=-1), lab.expand_dims(x, axis=-1)) + gt_lik.variance * lab.eye(x.dtype, N)\n",
    "y = lab.squeeze(lab.mm(lab.chol(K), lab.randn(N, 1)), axis=-1)\n",
    "\n",
    "num_bw = 15\n",
    "num_bwx = 30\n",
    "bw_freq2 = np.linspace(1.0, 2.8, num_bw)\n",
    "eps_bw_x2 = np.linspace(0.1, 1.5, num_bwx)\n",
    "xx2, yy2 = np.meshgrid(bw_freq2, eps_bw_x2)\n",
    "op2 = lab.zeros(np.float64, num_bw, num_bwx)\n",
    "for i in tqdm(range(num_bw)):\n",
    "    for j in tqdm(range(num_bwx)):\n",
    "        eps = eps_bw_x2[j]/(6*width)\n",
    "        M = int(bw_freq2[i]/(L*eps))\n",
    "        if M % 2 == 1:\n",
    "            M = M + 1\n",
    "        u = vff.inducing_variables.MaskedProductIFF(\n",
    "            [vff.inducing_variables.IntegratedFourierFeature1D(eps, M//2)]\n",
    "        )\n",
    "        model = vff.sgpr.SGPR(\n",
    "            data = (lab.expand_dims(x, axis=-1), lab.expand_dims(y, axis=-1)),\n",
    "            kernel = gt_kernel2,\n",
    "            noise_variance = gt_lik.variance,\n",
    "            inducing_variable = u,\n",
    "    )\n",
    "\n",
    "        op2[i, j] = (vff.objectives.log_marginal_likelihood(y, lab.expand_dims(x, axis=-1), gt_kernel2, gt_lik)/N \n",
    "                    - model.elbo()/N\n",
    "                   )\n",
    "        #op[i, j] = lab.to_numpy(bound)\n",
    "\n",
    "tf.config.run_functions_eagerly(False) "
   ]
  },
  {
   "cell_type": "code",
   "execution_count": 38,
   "id": "206bed3e-de34-41bb-85f8-c88a7eb2079d",
   "metadata": {},
   "outputs": [
    {
     "data": {
      "text/plain": [
       "[<matplotlib.lines.Line2D at 0x7f46e4212be0>]"
      ]
     },
     "execution_count": 38,
     "metadata": {},
     "output_type": "execute_result"
    },
    {
     "data": {
      "image/png": "[encoded data removed]",
      "text/plain": [
       "<Figure size 432x288 with 1 Axes>"
      ]
     },
     "metadata": {
      "needs_background": "light"
     },
     "output_type": "display_data"
    }
   ],
   "source": [
    "proto = [0.15, 0.175, 0.2, 0.225, 0.25, 0.275, 0.3, 0.325, 0.35, 0.375, 0.4, 0.425, 0.45, 0.475, 0.5]\n",
    "levels = [x**(4) for x in proto]\n",
    "\n",
    "cs = plt.contour(xx2, yy2, lab.t(op2), levels=levels, \n",
    "                 colors='k')\n",
    "fmt = {}\n",
    "strs = [r'${}^4$'.format(lev) for lev in proto]\n",
    "for l, s in zip(cs.levels, strs):\n",
    "    fmt[l] = s\n",
    "    \n",
    "\n",
    "\n",
    "# Label every other level using strings\n",
    "txt = plt.clabel(cs, cs.levels[::2], fmt=fmt)\n",
    "\n",
    "# enforce consistent rotation\n",
    "\n",
    "for t in txt:\n",
    "    t.set_rotation(270)\n",
    "    \n",
    "plt.xlabel(r'Normalised bandwidth ($\\lambda M \\varepsilon$)')\n",
    "plt.ylabel(r'Normalised $\\varepsilon$ ($\\varepsilon W_{x}$)')\n",
    "\n",
    "plt.plot(bw_freq2, [0.95 for u in bw_freq2], 'k--')\n",
    "#plt.savefig('../images/contour_gaussian_snr_{:.3f}_L_{:.3f}.png'.format(snr[0], L[0]), bbox_inches=\"tight\")"
   ]
  },
  {
   "cell_type": "code",
   "execution_count": 39,
   "id": "147aecf1-dc9e-46bf-bb69-f8815ea64ce5",
   "metadata": {},
   "outputs": [
    {
     "data": {
      "image/png": "[encoded data removed]",
      "text/plain": [
       "<Figure size 1152x504 with 2 Axes>"
      ]
     },
     "metadata": {
      "needs_background": "light"
     },
     "output_type": "display_data"
    }
   ],
   "source": [
    "fig, axs = plt.subplots(1, 2, figsize=(16, 7), sharey=True)\n",
    "cs = axs[0].contour(xx, yy, lab.t(op), levels=[1e-9, 3.16e-9, 1e-8, 3.16e-8, 1e-7, 3.16e-7, 1e-6, 3.16e-6, 1e-5, 3.16e-5, 1e-4, 3.16e-4, 1e-3, 3.16e-3, 1e-2, \n",
    "                                       3.16e-2, 1e-1, 3.16e-1, 1], \n",
    "                 colors='k',)\n",
    "fmt = {}\n",
    "strs = [r'$10^{-9}$', r'$\\sqrt{10}10^{-9}$',\n",
    "    r'$10^{-8}$', r'$\\sqrt{10}10^{-8}$',\n",
    "    r'$10^{-7}$', r'$\\sqrt{10}10^{-7}$',\n",
    "       r'$10^{-6}$', r'$\\sqrt{10}10^{-6}$',\n",
    "       r'$10^{-5}$', r'$\\sqrt{10}10^{-5}$',\n",
    "       r'$10^{-4}$', r'$\\sqrt{10}10^{-4}$',\n",
    "       r'$10^{-3}$', r'$\\sqrt{10}10^{-3}$',\n",
    "       r'$10^{-2}$', r'$\\sqrt{10}10^{-2}$',\n",
    "       r'$10^{-1}$',  r'$\\sqrt{10}10^{-1}$',\n",
    "       r'$10^{0}$']\n",
    "for l, s in zip(cs.levels, strs):\n",
    "    fmt[l] = s\n",
    "\n",
    "# Label every other level using strings\n",
    "txt = axs[0].clabel(cs, cs.levels[::2], fmt=fmt, fontsize=20)\n",
    "\n",
    "# enforce consistent rotation\n",
    "\n",
    "for t in txt:\n",
    "    t.set_rotation(270)\n",
    "    \n",
    "#axs[0].set_xlabel(r'Normalised bandwidth ($\\lambda M \\varepsilon$)')\n",
    "axs[0].set_ylabel(r'Normalised $\\varepsilon$ ($\\varepsilon W_{x}$)')\n",
    "axs[0].plot(bw_freq, [0.95 for u in bw_freq], 'k--')\n",
    "axs[0].set_title(r\"Gaussian kernel\")\n",
    "\n",
    "\n",
    "proto = [0.1, 0.125, 0.15, 0.175, 0.2, 0.225, 0.25, 0.275, 0.3, 0.325, 0.35, 0.375, 0.4, 0.425, 0.45, 0.475, 0.5,\n",
    "        0.525, 0.55, 0.575, 0.6, 0.625, 0.65, 0.675, 0.7, 0.725, 0.75, 0.775, 0.8]\n",
    "levels = [x**(4) for x in proto]\n",
    "\n",
    "cs = plt.contour(xx2, yy2, lab.t(op2), levels=levels, \n",
    "                 colors='k')\n",
    "fmt = {}\n",
    "strs = [r'${}^4$'.format(lev) for lev in proto]\n",
    "for l, s in zip(cs.levels, strs):\n",
    "    fmt[l] = s\n",
    "    \n",
    "\n",
    "\n",
    "# Label every other level using strings\n",
    "txt = plt.clabel(cs, cs.levels[::2], fmt=fmt, fontsize=16)\n",
    "\n",
    "# enforce consistent rotation\n",
    "\n",
    "for t in txt:\n",
    "    t.set_rotation(270)\n",
    "    \n",
    "#axs[1].set_xlabel(r'Normalised bandwidth ($\\lambda M \\varepsilon$)')\n",
    "#axs[1].set_ylabel(r'Normalised $\\varepsilon$ ($\\varepsilon W_{x}$)')\n",
    "axs[1].plot(bw_freq2, [0.95 for u in bw_freq2], 'k--')\n",
    "axs[1].set_title(r\"Matérn-3/2 kernel\")\n",
    "\n",
    "fig.text(0.5, -0.03, r'Normalised bandwidth ($\\lambda M \\varepsilon$)', ha='center', fontsize=28)\n",
    "plt.tight_layout()\n",
    "plt.savefig(f\"../images/contour_combined_gaussian_data_snr_{snr[0]:.3f}_L_{L:.3f}.png\", bbox_inches=\"tight\")\n",
    "plt.savefig(f\"../images/contour_combined_gaussian_data_snr_{snr[0]:.3f}_L_{L:.3f}.svg\", bbox_inches=\"tight\")"
   ]
  },
  {
   "cell_type": "markdown",
   "id": "5a5ed9ff-ba96-4db0-be85-cb972f946e42",
   "metadata": {},
   "source": [
    "# Experimental evaluation"
   ]
  },
  {
   "cell_type": "code",
   "execution_count": 16,
   "id": "77be728d-19c5-428e-9266-8bc012ca7747",
   "metadata": {},
   "outputs": [
    {
     "name": "stdout",
     "output_type": "stream",
     "text": [
      "--------------------------------\n",
      "SGPR KM\n",
      "--------------------------------\n"
     ]
    },
    {
     "data": {
      "application/vnd.jupyter.widget-view+json": {
       "model_id": "e69a7af3fb7742b9bfe2b9adc089365f",
       "version_major": 2,
       "version_minor": 0
      },
      "text/plain": [
       "  0%|          | 0/5 [00:00<?, ?it/s]"
      ]
     },
     "metadata": {},
     "output_type": "display_data"
    },
    {
     "data": {
      "application/vnd.jupyter.widget-view+json": {
       "model_id": "ca69ead9ea414626a6f096fbc7121f43",
       "version_major": 2,
       "version_minor": 0
      },
      "text/plain": [
       "  0%|          | 0/11 [00:00<?, ?it/s]"
      ]
     },
     "metadata": {},
     "output_type": "display_data"
    },
    {
     "name": "stdout",
     "output_type": "stream",
     "text": [
      "M=50.0\t KL=6.990e-02\t gap=1.404e-01\n",
      "M=100.0\t KL=4.513e-02\t gap=8.276e-02\n",
      "M=200.0\t KL=1.698e-02\t gap=3.246e-02\n",
      "M=300.0\t KL=5.187e-03\t gap=8.457e-03\n",
      "M=400.0\t KL=1.271e-03\t gap=1.579e-03\n",
      "M=500.0\t KL=3.280e-04\t gap=1.370e-04\n",
      "M=600.0\t KL=4.607e-05\t gap=-2.096e-04\n",
      "M=700.0\t KL=2.024e-05\t gap=-2.378e-04\n",
      "M=800.0\t KL=7.661e-06\t gap=-2.514e-04\n",
      "M=900.0\t KL=3.983e-06\t gap=-2.551e-04\n",
      "M=1000.0\t KL=1.909e-06\t gap=-2.572e-04\n"
     ]
    },
    {
     "data": {
      "application/vnd.jupyter.widget-view+json": {
       "model_id": "cdf31da0ce264be5bf928cd6e3c08811",
       "version_major": 2,
       "version_minor": 0
      },
      "text/plain": [
       "  0%|          | 0/11 [00:00<?, ?it/s]"
      ]
     },
     "metadata": {},
     "output_type": "display_data"
    },
    {
     "name": "stdout",
     "output_type": "stream",
     "text": [
      "M=50.0\t KL=7.005e-02\t gap=1.366e-01\n",
      "M=100.0\t KL=4.597e-02\t gap=8.176e-02\n",
      "M=200.0\t KL=1.925e-02\t gap=3.506e-02\n",
      "M=300.0\t KL=5.242e-03\t gap=8.467e-03\n",
      "M=400.0\t KL=1.943e-03\t gap=2.533e-03\n",
      "M=500.0\t KL=2.725e-04\t gap=6.171e-05\n",
      "M=600.0\t KL=7.248e-05\t gap=-1.789e-04\n",
      "M=700.0\t KL=1.096e-05\t gap=-2.480e-04\n",
      "M=800.0\t KL=7.054e-06\t gap=-2.520e-04\n",
      "M=900.0\t KL=2.584e-06\t gap=-2.566e-04\n",
      "M=1000.0\t KL=9.254e-07\t gap=-2.582e-04\n"
     ]
    },
    {
     "data": {
      "application/vnd.jupyter.widget-view+json": {
       "model_id": "64637d1e2d3247eeb8b72843cf6b4934",
       "version_major": 2,
       "version_minor": 0
      },
      "text/plain": [
       "  0%|          | 0/11 [00:00<?, ?it/s]"
      ]
     },
     "metadata": {},
     "output_type": "display_data"
    },
    {
     "name": "stdout",
     "output_type": "stream",
     "text": [
      "M=50.0\t KL=7.791e-02\t gap=1.534e-01\n",
      "M=100.0\t KL=4.634e-02\t gap=8.394e-02\n",
      "M=200.0\t KL=1.845e-02\t gap=3.339e-02\n",
      "M=300.0\t KL=5.142e-03\t gap=8.818e-03\n",
      "M=400.0\t KL=1.192e-03\t gap=1.473e-03\n",
      "M=500.0\t KL=2.865e-04\t gap=9.086e-05\n",
      "M=600.0\t KL=5.568e-05\t gap=-1.998e-04\n",
      "M=700.0\t KL=2.569e-05\t gap=-2.325e-04\n",
      "M=800.0\t KL=1.409e-06\t gap=-2.577e-04\n",
      "M=900.0\t KL=2.421e-06\t gap=-2.567e-04\n",
      "M=1000.0\t KL=2.731e-06\t gap=-2.564e-04\n"
     ]
    },
    {
     "data": {
      "application/vnd.jupyter.widget-view+json": {
       "model_id": "e5c23e65bec64dd8a25fc9bcb3f6637f",
       "version_major": 2,
       "version_minor": 0
      },
      "text/plain": [
       "  0%|          | 0/11 [00:00<?, ?it/s]"
      ]
     },
     "metadata": {},
     "output_type": "display_data"
    },
    {
     "name": "stdout",
     "output_type": "stream",
     "text": [
      "M=50.0\t KL=7.668e-02\t gap=1.441e-01\n",
      "M=100.0\t KL=4.611e-02\t gap=8.257e-02\n",
      "M=200.0\t KL=1.622e-02\t gap=3.131e-02\n",
      "M=300.0\t KL=6.089e-03\t gap=1.005e-02\n",
      "M=400.0\t KL=1.142e-03\t gap=1.378e-03\n",
      "M=500.0\t KL=4.613e-04\t gap=3.015e-04\n",
      "M=600.0\t KL=7.598e-05\t gap=-1.781e-04\n",
      "M=700.0\t KL=2.547e-05\t gap=-2.327e-04\n",
      "M=800.0\t KL=1.061e-05\t gap=-2.483e-04\n",
      "M=900.0\t KL=3.360e-06\t gap=-2.558e-04\n",
      "M=1000.0\t KL=6.240e-06\t gap=-2.528e-04\n"
     ]
    },
    {
     "data": {
      "application/vnd.jupyter.widget-view+json": {
       "model_id": "e039b81a5d07437582bc7a5c78912578",
       "version_major": 2,
       "version_minor": 0
      },
      "text/plain": [
       "  0%|          | 0/11 [00:00<?, ?it/s]"
      ]
     },
     "metadata": {},
     "output_type": "display_data"
    },
    {
     "name": "stdout",
     "output_type": "stream",
     "text": [
      "M=50.0\t KL=7.303e-02\t gap=1.422e-01\n",
      "M=100.0\t KL=4.371e-02\t gap=7.978e-02\n",
      "M=200.0\t KL=1.842e-02\t gap=3.381e-02\n",
      "M=300.0\t KL=5.942e-03\t gap=9.473e-03\n",
      "M=400.0\t KL=2.354e-03\t gap=3.079e-03\n",
      "M=500.0\t KL=3.943e-04\t gap=2.229e-04\n",
      "M=600.0\t KL=4.734e-05\t gap=-2.091e-04\n",
      "M=700.0\t KL=1.043e-05\t gap=-2.484e-04\n",
      "M=800.0\t KL=6.892e-06\t gap=-2.522e-04\n",
      "M=900.0\t KL=3.918e-06\t gap=-2.552e-04\n",
      "M=1000.0\t KL=9.348e-07\t gap=-2.582e-04\n",
      "--------------------------------\n",
      "SGPR\n",
      "--------------------------------\n"
     ]
    },
    {
     "data": {
      "application/vnd.jupyter.widget-view+json": {
       "model_id": "c65099502d1643b4885b1f03a1f8cb37",
       "version_major": 2,
       "version_minor": 0
      },
      "text/plain": [
       "  0%|          | 0/5 [00:00<?, ?it/s]"
      ]
     },
     "metadata": {},
     "output_type": "display_data"
    },
    {
     "data": {
      "application/vnd.jupyter.widget-view+json": {
       "model_id": "2cb54af359b84908a65776381ff85f6b",
       "version_major": 2,
       "version_minor": 0
      },
      "text/plain": [
       "  0%|          | 0/11 [00:00<?, ?it/s]"
      ]
     },
     "metadata": {},
     "output_type": "display_data"
    },
    {
     "name": "stdout",
     "output_type": "stream",
     "text": [
      "2 Stopped reinit_Z procedure because new ELBO was smaller than old ELBO.\n",
      "M=50.0\t KL=1.646e-02\t gap=1.810e-01\n",
      "0 Stopped reinit_Z procedure because new ELBO was smaller than old ELBO.\n",
      "M=100.0\t KL=3.182e-02\t gap=1.444e-01\n",
      "0 Stopped reinit_Z procedure because new ELBO was smaller than old ELBO.\n",
      "M=200.0\t KL=2.244e-02\t gap=5.191e-02\n",
      "0 Stopped reinit_Z procedure because new ELBO was smaller than old ELBO.\n",
      "M=300.0\t KL=9.039e-03\t gap=2.055e-02\n",
      "0 Stopped reinit_Z procedure because new ELBO was smaller than old ELBO.\n",
      "M=400.0\t KL=9.039e-03\t gap=2.055e-02\n",
      "0 Stopped reinit_Z procedure because new ELBO was smaller than old ELBO.\n",
      "M=500.0\t KL=9.039e-03\t gap=2.055e-02\n",
      "0 Stopped reinit_Z procedure because new ELBO was smaller than old ELBO.\n",
      "M=600.0\t KL=9.039e-03\t gap=2.055e-02\n",
      "0 Stopped reinit_Z procedure because new ELBO was smaller than old ELBO.\n",
      "M=700.0\t KL=9.039e-03\t gap=2.055e-02\n",
      "0 Stopped reinit_Z procedure because new ELBO was smaller than old ELBO.\n",
      "M=800.0\t KL=9.039e-03\t gap=2.055e-02\n",
      "0 Stopped reinit_Z procedure because new ELBO was smaller than old ELBO.\n",
      "M=900.0\t KL=9.039e-03\t gap=2.055e-02\n",
      "0 Stopped reinit_Z procedure because new ELBO was smaller than old ELBO.\n",
      "M=1000.0\t KL=9.039e-03\t gap=2.055e-02\n"
     ]
    },
    {
     "data": {
      "application/vnd.jupyter.widget-view+json": {
       "model_id": "0d95de596b5a416594c47de20da44c46",
       "version_major": 2,
       "version_minor": 0
      },
      "text/plain": [
       "  0%|          | 0/11 [00:00<?, ?it/s]"
      ]
     },
     "metadata": {},
     "output_type": "display_data"
    },
    {
     "name": "stdout",
     "output_type": "stream",
     "text": [
      "2 Stopped reinit_Z procedure because new ELBO was smaller than old ELBO.\n",
      "M=50.0\t KL=1.646e-02\t gap=1.810e-01\n",
      "0 Stopped reinit_Z procedure because new ELBO was smaller than old ELBO.\n",
      "M=100.0\t KL=3.182e-02\t gap=1.444e-01\n",
      "0 Stopped reinit_Z procedure because new ELBO was smaller than old ELBO.\n",
      "M=200.0\t KL=2.244e-02\t gap=5.191e-02\n",
      "0 Stopped reinit_Z procedure because new ELBO was smaller than old ELBO.\n",
      "M=300.0\t KL=9.039e-03\t gap=2.055e-02\n",
      "0 Stopped reinit_Z procedure because new ELBO was smaller than old ELBO.\n",
      "M=400.0\t KL=9.039e-03\t gap=2.055e-02\n",
      "0 Stopped reinit_Z procedure because new ELBO was smaller than old ELBO.\n",
      "M=500.0\t KL=9.039e-03\t gap=2.055e-02\n",
      "0 Stopped reinit_Z procedure because new ELBO was smaller than old ELBO.\n",
      "M=600.0\t KL=9.039e-03\t gap=2.055e-02\n",
      "0 Stopped reinit_Z procedure because new ELBO was smaller than old ELBO.\n",
      "M=700.0\t KL=9.039e-03\t gap=2.055e-02\n",
      "0 Stopped reinit_Z procedure because new ELBO was smaller than old ELBO.\n",
      "M=800.0\t KL=9.039e-03\t gap=2.055e-02\n",
      "0 Stopped reinit_Z procedure because new ELBO was smaller than old ELBO.\n",
      "M=900.0\t KL=9.039e-03\t gap=2.055e-02\n",
      "0 Stopped reinit_Z procedure because new ELBO was smaller than old ELBO.\n",
      "M=1000.0\t KL=9.039e-03\t gap=2.055e-02\n"
     ]
    },
    {
     "data": {
      "application/vnd.jupyter.widget-view+json": {
       "model_id": "dece7b4736d74fed942465801473f4a0",
       "version_major": 2,
       "version_minor": 0
      },
      "text/plain": [
       "  0%|          | 0/11 [00:00<?, ?it/s]"
      ]
     },
     "metadata": {},
     "output_type": "display_data"
    },
    {
     "name": "stdout",
     "output_type": "stream",
     "text": [
      "2 Stopped reinit_Z procedure because new ELBO was smaller than old ELBO.\n",
      "M=50.0\t KL=1.646e-02\t gap=1.810e-01\n",
      "0 Stopped reinit_Z procedure because new ELBO was smaller than old ELBO.\n",
      "M=100.0\t KL=3.182e-02\t gap=1.444e-01\n",
      "0 Stopped reinit_Z procedure because new ELBO was smaller than old ELBO.\n",
      "M=200.0\t KL=2.244e-02\t gap=5.191e-02\n",
      "0 Stopped reinit_Z procedure because new ELBO was smaller than old ELBO.\n",
      "M=300.0\t KL=9.039e-03\t gap=2.055e-02\n",
      "0 Stopped reinit_Z procedure because new ELBO was smaller than old ELBO.\n",
      "M=400.0\t KL=9.039e-03\t gap=2.055e-02\n",
      "0 Stopped reinit_Z procedure because new ELBO was smaller than old ELBO.\n",
      "M=500.0\t KL=9.039e-03\t gap=2.055e-02\n",
      "0 Stopped reinit_Z procedure because new ELBO was smaller than old ELBO.\n",
      "M=600.0\t KL=9.039e-03\t gap=2.055e-02\n",
      "0 Stopped reinit_Z procedure because new ELBO was smaller than old ELBO.\n",
      "M=700.0\t KL=9.039e-03\t gap=2.055e-02\n",
      "0 Stopped reinit_Z procedure because new ELBO was smaller than old ELBO.\n",
      "M=800.0\t KL=9.039e-03\t gap=2.055e-02\n",
      "0 Stopped reinit_Z procedure because new ELBO was smaller than old ELBO.\n",
      "M=900.0\t KL=9.039e-03\t gap=2.055e-02\n",
      "0 Stopped reinit_Z procedure because new ELBO was smaller than old ELBO.\n",
      "M=1000.0\t KL=9.039e-03\t gap=2.055e-02\n"
     ]
    },
    {
     "data": {
      "application/vnd.jupyter.widget-view+json": {
       "model_id": "7eba014f3192497d86eac2a760806dfa",
       "version_major": 2,
       "version_minor": 0
      },
      "text/plain": [
       "  0%|          | 0/11 [00:00<?, ?it/s]"
      ]
     },
     "metadata": {},
     "output_type": "display_data"
    },
    {
     "name": "stdout",
     "output_type": "stream",
     "text": [
      "2 Stopped reinit_Z procedure because new ELBO was smaller than old ELBO.\n",
      "M=50.0\t KL=1.646e-02\t gap=1.810e-01\n",
      "0 Stopped reinit_Z procedure because new ELBO was smaller than old ELBO.\n",
      "M=100.0\t KL=3.182e-02\t gap=1.444e-01\n",
      "0 Stopped reinit_Z procedure because new ELBO was smaller than old ELBO.\n",
      "M=200.0\t KL=2.244e-02\t gap=5.191e-02\n",
      "0 Stopped reinit_Z procedure because new ELBO was smaller than old ELBO.\n",
      "M=300.0\t KL=9.039e-03\t gap=2.055e-02\n",
      "0 Stopped reinit_Z procedure because new ELBO was smaller than old ELBO.\n",
      "M=400.0\t KL=9.039e-03\t gap=2.055e-02\n",
      "0 Stopped reinit_Z procedure because new ELBO was smaller than old ELBO.\n",
      "M=500.0\t KL=9.039e-03\t gap=2.055e-02\n",
      "0 Stopped reinit_Z procedure because new ELBO was smaller than old ELBO.\n",
      "M=600.0\t KL=9.039e-03\t gap=2.055e-02\n",
      "0 Stopped reinit_Z procedure because new ELBO was smaller than old ELBO.\n",
      "M=700.0\t KL=9.039e-03\t gap=2.055e-02\n",
      "0 Stopped reinit_Z procedure because new ELBO was smaller than old ELBO.\n",
      "M=800.0\t KL=9.039e-03\t gap=2.055e-02\n",
      "0 Stopped reinit_Z procedure because new ELBO was smaller than old ELBO.\n",
      "M=900.0\t KL=9.039e-03\t gap=2.055e-02\n",
      "0 Stopped reinit_Z procedure because new ELBO was smaller than old ELBO.\n",
      "M=1000.0\t KL=9.039e-03\t gap=2.055e-02\n"
     ]
    },
    {
     "data": {
      "application/vnd.jupyter.widget-view+json": {
       "model_id": "0f17891a3691443697a04fe8234a21fd",
       "version_major": 2,
       "version_minor": 0
      },
      "text/plain": [
       "  0%|          | 0/11 [00:00<?, ?it/s]"
      ]
     },
     "metadata": {},
     "output_type": "display_data"
    },
    {
     "name": "stdout",
     "output_type": "stream",
     "text": [
      "2 Stopped reinit_Z procedure because new ELBO was smaller than old ELBO.\n",
      "M=50.0\t KL=1.646e-02\t gap=1.810e-01\n",
      "0 Stopped reinit_Z procedure because new ELBO was smaller than old ELBO.\n",
      "M=100.0\t KL=3.182e-02\t gap=1.444e-01\n",
      "0 Stopped reinit_Z procedure because new ELBO was smaller than old ELBO.\n",
      "M=200.0\t KL=2.244e-02\t gap=5.191e-02\n",
      "0 Stopped reinit_Z procedure because new ELBO was smaller than old ELBO.\n",
      "M=300.0\t KL=9.039e-03\t gap=2.055e-02\n",
      "0 Stopped reinit_Z procedure because new ELBO was smaller than old ELBO.\n",
      "M=400.0\t KL=9.039e-03\t gap=2.055e-02\n",
      "0 Stopped reinit_Z procedure because new ELBO was smaller than old ELBO.\n",
      "M=500.0\t KL=9.039e-03\t gap=2.055e-02\n",
      "0 Stopped reinit_Z procedure because new ELBO was smaller than old ELBO.\n",
      "M=600.0\t KL=9.039e-03\t gap=2.055e-02\n",
      "0 Stopped reinit_Z procedure because new ELBO was smaller than old ELBO.\n",
      "M=700.0\t KL=9.039e-03\t gap=2.055e-02\n",
      "0 Stopped reinit_Z procedure because new ELBO was smaller than old ELBO.\n",
      "M=800.0\t KL=9.039e-03\t gap=2.055e-02\n",
      "0 Stopped reinit_Z procedure because new ELBO was smaller than old ELBO.\n",
      "M=900.0\t KL=9.039e-03\t gap=2.055e-02\n",
      "0 Stopped reinit_Z procedure because new ELBO was smaller than old ELBO.\n",
      "M=1000.0\t KL=9.039e-03\t gap=2.055e-02\n",
      "--------------------------------\n",
      "IFF\n",
      "--------------------------------\n"
     ]
    },
    {
     "data": {
      "application/vnd.jupyter.widget-view+json": {
       "model_id": "0cf64491313b45ba91f1a6359ba74d06",
       "version_major": 2,
       "version_minor": 0
      },
      "text/plain": [
       "  0%|          | 0/5 [00:00<?, ?it/s]"
      ]
     },
     "metadata": {},
     "output_type": "display_data"
    },
    {
     "data": {
      "application/vnd.jupyter.widget-view+json": {
       "model_id": "56c06f67d8274ed4b1f01f232ab9fc41",
       "version_major": 2,
       "version_minor": 0
      },
      "text/plain": [
       "  0%|          | 0/13 [00:00<?, ?it/s]"
      ]
     },
     "metadata": {},
     "output_type": "display_data"
    },
    {
     "name": "stdout",
     "output_type": "stream",
     "text": [
      "M=50\t KL=1.748e-02\t gap=1.855e-01\n",
      "M=100\t KL=2.571e-02\t gap=1.337e-01\n",
      "M=200\t KL=1.824e-02\t gap=4.335e-02\n",
      "M=300\t KL=5.436e-03\t gap=1.000e-02\n",
      "M=400\t KL=8.396e-04\t gap=9.211e-04\n",
      "M=500\t KL=1.424e-04\t gap=-9.656e-05\n",
      "M=600\t KL=7.689e-06\t gap=-2.513e-04\n",
      "M=700\t KL=2.722e-07\t gap=-2.589e-04\n",
      "M=800\t KL=4.766e-09\t gap=-2.591e-04\n",
      "M=900\t KL=5.353e-11\t gap=-2.591e-04\n",
      "M=1000\t KL=4.792e-13\t gap=-2.591e-04\n",
      "M=1500\t KL=1.514e-13\t gap=-2.591e-04\n",
      "M=3000\t KL=2.089e-13\t gap=-2.591e-04\n"
     ]
    },
    {
     "data": {
      "application/vnd.jupyter.widget-view+json": {
       "model_id": "ffe91c273a4a43059208a56b1de0b011",
       "version_major": 2,
       "version_minor": 0
      },
      "text/plain": [
       "  0%|          | 0/13 [00:00<?, ?it/s]"
      ]
     },
     "metadata": {},
     "output_type": "display_data"
    },
    {
     "name": "stdout",
     "output_type": "stream",
     "text": [
      "M=50\t KL=1.748e-02\t gap=1.855e-01\n",
      "M=100\t KL=2.571e-02\t gap=1.337e-01\n",
      "M=200\t KL=1.824e-02\t gap=4.335e-02\n",
      "M=300\t KL=5.436e-03\t gap=1.000e-02\n",
      "M=400\t KL=8.396e-04\t gap=9.211e-04\n",
      "M=500\t KL=1.424e-04\t gap=-9.656e-05\n",
      "M=600\t KL=7.689e-06\t gap=-2.513e-04\n",
      "M=700\t KL=2.722e-07\t gap=-2.589e-04\n",
      "M=800\t KL=4.766e-09\t gap=-2.591e-04\n",
      "M=900\t KL=5.353e-11\t gap=-2.591e-04\n",
      "M=1000\t KL=4.792e-13\t gap=-2.591e-04\n",
      "M=1500\t KL=2.531e-14\t gap=-2.591e-04\n",
      "M=3000\t KL=1.625e-13\t gap=-2.591e-04\n"
     ]
    },
    {
     "data": {
      "application/vnd.jupyter.widget-view+json": {
       "model_id": "5d14205acf4745a3b033920ee9468f42",
       "version_major": 2,
       "version_minor": 0
      },
      "text/plain": [
       "  0%|          | 0/13 [00:00<?, ?it/s]"
      ]
     },
     "metadata": {},
     "output_type": "display_data"
    },
    {
     "name": "stdout",
     "output_type": "stream",
     "text": [
      "M=50\t KL=1.748e-02\t gap=1.855e-01\n",
      "M=100\t KL=2.571e-02\t gap=1.337e-01\n",
      "M=200\t KL=1.824e-02\t gap=4.335e-02\n",
      "M=300\t KL=5.436e-03\t gap=1.000e-02\n",
      "M=400\t KL=8.396e-04\t gap=9.211e-04\n",
      "M=500\t KL=1.424e-04\t gap=-9.656e-05\n",
      "M=600\t KL=7.689e-06\t gap=-2.513e-04\n",
      "M=700\t KL=2.722e-07\t gap=-2.589e-04\n",
      "M=800\t KL=4.766e-09\t gap=-2.591e-04\n",
      "M=900\t KL=5.353e-11\t gap=-2.591e-04\n",
      "M=1000\t KL=4.792e-13\t gap=-2.591e-04\n",
      "M=1500\t KL=9.548e-14\t gap=-2.591e-04\n",
      "M=3000\t KL=1.688e-13\t gap=-2.591e-04\n"
     ]
    },
    {
     "data": {
      "application/vnd.jupyter.widget-view+json": {
       "model_id": "ab4166803b09447faa675192e5a8dbfe",
       "version_major": 2,
       "version_minor": 0
      },
      "text/plain": [
       "  0%|          | 0/13 [00:00<?, ?it/s]"
      ]
     },
     "metadata": {},
     "output_type": "display_data"
    },
    {
     "name": "stdout",
     "output_type": "stream",
     "text": [
      "M=50\t KL=1.748e-02\t gap=1.855e-01\n",
      "M=100\t KL=2.571e-02\t gap=1.337e-01\n",
      "M=200\t KL=1.824e-02\t gap=4.335e-02\n",
      "M=300\t KL=5.436e-03\t gap=1.000e-02\n",
      "M=400\t KL=8.396e-04\t gap=9.211e-04\n",
      "M=500\t KL=1.424e-04\t gap=-9.656e-05\n",
      "M=600\t KL=7.689e-06\t gap=-2.513e-04\n",
      "M=700\t KL=2.722e-07\t gap=-2.589e-04\n",
      "M=800\t KL=4.766e-09\t gap=-2.591e-04\n",
      "M=900\t KL=5.353e-11\t gap=-2.591e-04\n",
      "M=1000\t KL=4.792e-13\t gap=-2.591e-04\n",
      "M=1500\t KL=-1.377e-14\t gap=-2.591e-04\n",
      "M=3000\t KL=1.315e-13\t gap=-2.591e-04\n"
     ]
    },
    {
     "data": {
      "application/vnd.jupyter.widget-view+json": {
       "model_id": "cd7722375dea42cab8dbd68a50adfa36",
       "version_major": 2,
       "version_minor": 0
      },
      "text/plain": [
       "  0%|          | 0/13 [00:00<?, ?it/s]"
      ]
     },
     "metadata": {},
     "output_type": "display_data"
    },
    {
     "name": "stdout",
     "output_type": "stream",
     "text": [
      "M=50\t KL=1.748e-02\t gap=1.855e-01\n",
      "M=100\t KL=2.571e-02\t gap=1.337e-01\n",
      "M=200\t KL=1.824e-02\t gap=4.335e-02\n",
      "M=300\t KL=5.436e-03\t gap=1.000e-02\n",
      "M=400\t KL=8.396e-04\t gap=9.211e-04\n",
      "M=500\t KL=1.424e-04\t gap=-9.656e-05\n",
      "M=600\t KL=7.689e-06\t gap=-2.513e-04\n",
      "M=700\t KL=2.722e-07\t gap=-2.589e-04\n",
      "M=800\t KL=4.766e-09\t gap=-2.591e-04\n",
      "M=900\t KL=5.353e-11\t gap=-2.591e-04\n",
      "M=1000\t KL=4.792e-13\t gap=-2.591e-04\n",
      "M=1500\t KL=1.050e-13\t gap=-2.591e-04\n",
      "M=3000\t KL=2.487e-13\t gap=-2.591e-04\n",
      "--------------------------------\n",
      "VFF\n",
      "--------------------------------\n"
     ]
    },
    {
     "data": {
      "application/vnd.jupyter.widget-view+json": {
       "model_id": "b3214519ec1f402cb25758b14ea49ad8",
       "version_major": 2,
       "version_minor": 0
      },
      "text/plain": [
       "  0%|          | 0/5 [00:00<?, ?it/s]"
      ]
     },
     "metadata": {},
     "output_type": "display_data"
    },
    {
     "data": {
      "application/vnd.jupyter.widget-view+json": {
       "model_id": "80802f488dc24e5381ef653b8ccca211",
       "version_major": 2,
       "version_minor": 0
      },
      "text/plain": [
       "  0%|          | 0/13 [00:00<?, ?it/s]"
      ]
     },
     "metadata": {},
     "output_type": "display_data"
    },
    {
     "name": "stdout",
     "output_type": "stream",
     "text": [
      "M=25\t KL=3.740e-02\t gap=1.903e-01\n",
      "M=51\t KL=4.404e-02\t gap=1.233e-01\n",
      "M=101\t KL=2.614e-02\t gap=4.308e-02\n",
      "M=151\t KL=1.078e-02\t gap=1.493e-02\n",
      "M=201\t KL=4.626e-03\t gap=5.912e-03\n",
      "M=251\t KL=2.858e-03\t gap=3.575e-03\n",
      "M=301\t KL=2.038e-03\t gap=2.609e-03\n",
      "M=351\t KL=1.644e-03\t gap=2.188e-03\n",
      "M=401\t KL=1.440e-03\t gap=1.985e-03\n",
      "M=451\t KL=1.317e-03\t gap=1.867e-03\n",
      "M=501\t KL=1.244e-03\t gap=1.799e-03\n",
      "M=751\t KL=1.149e-03\t gap=1.711e-03\n",
      "M=1501\t KL=1.126e-03\t gap=1.690e-03\n"
     ]
    },
    {
     "data": {
      "application/vnd.jupyter.widget-view+json": {
       "model_id": "525e8fc6381245b89fa2e51235f05ca4",
       "version_major": 2,
       "version_minor": 0
      },
      "text/plain": [
       "  0%|          | 0/13 [00:00<?, ?it/s]"
      ]
     },
     "metadata": {},
     "output_type": "display_data"
    },
    {
     "name": "stdout",
     "output_type": "stream",
     "text": [
      "M=25\t KL=3.740e-02\t gap=1.903e-01\n",
      "M=51\t KL=4.404e-02\t gap=1.233e-01\n",
      "M=101\t KL=2.614e-02\t gap=4.308e-02\n",
      "M=151\t KL=1.078e-02\t gap=1.493e-02\n",
      "M=201\t KL=4.626e-03\t gap=5.912e-03\n",
      "M=251\t KL=2.858e-03\t gap=3.575e-03\n",
      "M=301\t KL=2.038e-03\t gap=2.609e-03\n",
      "M=351\t KL=1.644e-03\t gap=2.188e-03\n",
      "M=401\t KL=1.440e-03\t gap=1.985e-03\n",
      "M=451\t KL=1.317e-03\t gap=1.867e-03\n",
      "M=501\t KL=1.244e-03\t gap=1.799e-03\n",
      "M=751\t KL=1.149e-03\t gap=1.711e-03\n",
      "M=1501\t KL=1.126e-03\t gap=1.690e-03\n"
     ]
    },
    {
     "data": {
      "application/vnd.jupyter.widget-view+json": {
       "model_id": "d8b36d4cd6074736bb4276d682f9e63d",
       "version_major": 2,
       "version_minor": 0
      },
      "text/plain": [
       "  0%|          | 0/13 [00:00<?, ?it/s]"
      ]
     },
     "metadata": {},
     "output_type": "display_data"
    },
    {
     "name": "stdout",
     "output_type": "stream",
     "text": [
      "M=25\t KL=3.740e-02\t gap=1.903e-01\n",
      "M=51\t KL=4.404e-02\t gap=1.233e-01\n",
      "M=101\t KL=2.614e-02\t gap=4.308e-02\n",
      "M=151\t KL=1.078e-02\t gap=1.493e-02\n",
      "M=201\t KL=4.626e-03\t gap=5.912e-03\n",
      "M=251\t KL=2.858e-03\t gap=3.575e-03\n",
      "M=301\t KL=2.038e-03\t gap=2.609e-03\n",
      "M=351\t KL=1.644e-03\t gap=2.188e-03\n",
      "M=401\t KL=1.440e-03\t gap=1.985e-03\n",
      "M=451\t KL=1.317e-03\t gap=1.867e-03\n",
      "M=501\t KL=1.244e-03\t gap=1.799e-03\n",
      "M=751\t KL=1.149e-03\t gap=1.711e-03\n",
      "M=1501\t KL=1.126e-03\t gap=1.690e-03\n"
     ]
    },
    {
     "data": {
      "application/vnd.jupyter.widget-view+json": {
       "model_id": "035e9c4d7dce47768fad54617bee68f1",
       "version_major": 2,
       "version_minor": 0
      },
      "text/plain": [
       "  0%|          | 0/13 [00:00<?, ?it/s]"
      ]
     },
     "metadata": {},
     "output_type": "display_data"
    },
    {
     "name": "stdout",
     "output_type": "stream",
     "text": [
      "M=25\t KL=3.740e-02\t gap=1.903e-01\n",
      "M=51\t KL=4.404e-02\t gap=1.233e-01\n",
      "M=101\t KL=2.614e-02\t gap=4.308e-02\n",
      "M=151\t KL=1.078e-02\t gap=1.493e-02\n",
      "M=201\t KL=4.626e-03\t gap=5.912e-03\n",
      "M=251\t KL=2.858e-03\t gap=3.575e-03\n",
      "M=301\t KL=2.038e-03\t gap=2.609e-03\n",
      "M=351\t KL=1.644e-03\t gap=2.188e-03\n",
      "M=401\t KL=1.440e-03\t gap=1.985e-03\n",
      "M=451\t KL=1.317e-03\t gap=1.867e-03\n",
      "M=501\t KL=1.244e-03\t gap=1.799e-03\n",
      "M=751\t KL=1.149e-03\t gap=1.711e-03\n",
      "M=1501\t KL=1.126e-03\t gap=1.690e-03\n"
     ]
    },
    {
     "data": {
      "application/vnd.jupyter.widget-view+json": {
       "model_id": "6992657dc5e34c62b40b2edfe409531a",
       "version_major": 2,
       "version_minor": 0
      },
      "text/plain": [
       "  0%|          | 0/13 [00:00<?, ?it/s]"
      ]
     },
     "metadata": {},
     "output_type": "display_data"
    },
    {
     "name": "stdout",
     "output_type": "stream",
     "text": [
      "M=25\t KL=3.740e-02\t gap=1.903e-01\n",
      "M=51\t KL=4.404e-02\t gap=1.233e-01\n",
      "M=101\t KL=2.614e-02\t gap=4.308e-02\n",
      "M=151\t KL=1.078e-02\t gap=1.493e-02\n",
      "M=201\t KL=4.626e-03\t gap=5.912e-03\n",
      "M=251\t KL=2.858e-03\t gap=3.575e-03\n",
      "M=301\t KL=2.038e-03\t gap=2.609e-03\n",
      "M=351\t KL=1.644e-03\t gap=2.188e-03\n",
      "M=401\t KL=1.440e-03\t gap=1.985e-03\n",
      "M=451\t KL=1.317e-03\t gap=1.867e-03\n",
      "M=501\t KL=1.244e-03\t gap=1.799e-03\n",
      "M=751\t KL=1.149e-03\t gap=1.711e-03\n",
      "M=1501\t KL=1.126e-03\t gap=1.690e-03\n"
     ]
    }
   ],
   "source": [
    "import tensorflow as tf\n",
    "from tqdm.notebook import tqdm\n",
    "\n",
    "seed = 7\n",
    "lab.set_random_seed(seed)\n",
    "\n",
    "# First make the data\n",
    "N = 10000\n",
    "L = lab.ones(1)\n",
    "D = 1\n",
    "width = math.sqrt(N/2)/(L)\n",
    "sigma_f = 1.\n",
    "snr = 0.774 # some arbitrary numeber\n",
    "x = 6*width*lab.rand(N, D) -3*width\n",
    "gt_kernel = gp.kernels.SquaredExponential(lengthscales=lab.concat(*[L for d in range(D)]))\n",
    "gt_lik = gp.likelihoods.Gaussian()\n",
    "gt_kernel.variance.assign(sigma_f)\n",
    "gt_lik.variance.assign(lab.squeeze(gt_kernel.variance / snr))\n",
    "K = gt_kernel.K(x,x) + gt_lik.variance * lab.eye(x.dtype, N)\n",
    "y = lab.squeeze(lab.mm(lab.chol(K), lab.randn(N, 1)), axis=-1)\n",
    "best_lml = vff.objectives.log_marginal_likelihood(y, x, gt_kernel, gt_lik)/N\n",
    "\n",
    "#KK = 0 # number of trials\n",
    "\n",
    "sgpr_all = {'kl' : [[]], 't' : [[]], 'gap' : [[]] }\n",
    "sgpr_opt_all = {'kl' : [[]], 't' : [[]], 'gap' : [[]] }\n",
    "iff_eff_all = {'kl' : [[]], 't' : [[]], 'gap' : [[]] }\n",
    "iff_all = {'kl' : [[]], 't' : [[]], 'gap' : [[]] }\n",
    "vff_all = {'kl' : [[]], 't' : [[]], 'gap' : [[]] }\n",
    "\n",
    "# Do SGPR\n",
    "print('--------------------------------')\n",
    "print('SGPR KM')\n",
    "print('--------------------------------')\n",
    "for kk in tqdm(range(5)):\n",
    "    \n",
    "    Ms = [50, 100, 200, 300, 400, 500, 600, 700, 800, 900, 1000,]\n",
    "    kls = []\n",
    "    gaps = []\n",
    "    times = []\n",
    "    for M in tqdm(Ms):\n",
    "        loc_kernel = gp.kernels.SquaredExponential(lengthscales=[0.2]*D)\n",
    "            \n",
    "        wc = time.perf_counter()\n",
    "        z, _ = scipy.cluster.vq.kmeans(x, M)\n",
    "        model = vff.sgpr.SGPR(\n",
    "            data = (x, lab.expand_dims(y, axis=-1)),\n",
    "            kernel = loc_kernel,\n",
    "            inducing_variable = z,\n",
    "        )\n",
    "        optim = gp.optimizers.Scipy()\n",
    "        opt_logs = optim.minimize(model.training_loss, model.trainable_variables, options=dict(maxiter=100))\n",
    "        wc = time.perf_counter() - wc\n",
    "        \n",
    "        elbo = model.elbo()/N\n",
    "        kls = kls + [vff.objectives.log_marginal_likelihood(y, model.data[0], model.kernel, model.likelihood)/N - elbo]\n",
    "        gaps = gaps + [best_lml - elbo]\n",
    "        print(\"M={}\\t KL={:.3e}\\t gap={:.3e}\".format(M**(1/D), lab.squeeze(lab.to_numpy(kls[-1])), \n",
    "                                                   lab.squeeze(lab.to_numpy(gaps[-1]))\n",
    "                                                  ))\n",
    "\n",
    "        times = times + [wc]\n",
    "    sgpr_all['kl'] += [lab.squeeze(lab.to_numpy(kls))]\n",
    "    sgpr_all['gap'] += [lab.squeeze(lab.to_numpy(gaps))]\n",
    "    sgpr_all['t'] += [times]\n",
    "fpath ='./redux_km_{}'.format(D)\n",
    "\n",
    "results_filename = f\"{fpath}.json\"\n",
    "with open(results_filename, \"w\") as fp:\n",
    "    json.dump(sgpr_all, fp, indent=4)\n",
    "    \n",
    "# Do SGPR\n",
    "print('--------------------------------')\n",
    "print('SGPR')\n",
    "print('--------------------------------')\n",
    "for kk in tqdm(range(5)):\n",
    "    \n",
    "    Ms = [50, 100, 200, 300, 400, 500, 600, 700, 800, 900, 1000]\n",
    "    kls = []\n",
    "    gaps = []\n",
    "    times = []\n",
    "    for M in tqdm(Ms):\n",
    "        loc_kernel = gp.kernels.SquaredExponential(lengthscales=[0.2]*D)\n",
    "            \n",
    "        wc = time.perf_counter()\n",
    "        initialiser = vff.initialise.ConditionalVariance(seed=seed)\n",
    "        z, _ = initialiser(lab.to_numpy(x), M, loc_kernel)\n",
    "        model = vff.sgpr.SGPR(\n",
    "            data = (x, lab.expand_dims(y, axis=-1)),\n",
    "            kernel = loc_kernel,\n",
    "            inducing_variable = z,\n",
    "        )\n",
    "        optim = gp.optimizers.Scipy()\n",
    "        vff.initialise.minimise_reinit(optim, model, initialiser)\n",
    "        wc = time.perf_counter() - wc\n",
    "        \n",
    "        elbo = model.elbo()/N\n",
    "        kls = kls + [vff.objectives.log_marginal_likelihood(y, model.data[0], model.kernel, model.likelihood)/N - elbo]\n",
    "        gaps = gaps + [best_lml - elbo]\n",
    "        print(\"M={}\\t KL={:.3e}\\t gap={:.3e}\".format(M**(1/D), lab.squeeze(lab.to_numpy(kls[-1])), \n",
    "                                                   lab.squeeze(lab.to_numpy(gaps[-1]))\n",
    "                                                  ))\n",
    "\n",
    "        times = times + [wc]\n",
    "    sgpr_all['kl'] += [lab.squeeze(lab.to_numpy(kls))]\n",
    "    sgpr_all['gap'] += [lab.squeeze(lab.to_numpy(gaps))]\n",
    "    sgpr_all['t'] += [times]\n",
    "fpath ='./redux_cv_{}'.format(D)\n",
    "\n",
    "results_filename = f\"{fpath}.json\"\n",
    "with open(results_filename, \"w\") as fp:\n",
    "    json.dump(sgpr_all, fp, indent=4)\n",
    "    \n",
    "    \n",
    "\n",
    "print('--------------------------------')\n",
    "print('IFF')\n",
    "print('--------------------------------')\n",
    "for kk in tqdm(range(5)):\n",
    "    # Now, our method\n",
    "    iff_Ms = [50, 100, 200, 300, 400, 500, 600, 700, 800, 900, 1000, 1500, 3000]\n",
    "    kls = []\n",
    "    gaps = []\n",
    "    times = []\n",
    "    for M in tqdm(iff_Ms):\n",
    "        loc_kernel = gp.kernels.SquaredExponential(lengthscales=[0.2]*D)\n",
    "\n",
    "        eps = .95/(6*width)\n",
    "        \n",
    "        optim = gp.optimizers.Scipy()\n",
    "        wc = time.perf_counter()\n",
    "        u = vff.inducing_variables.MaskedProductIFF(\n",
    "            [vff.inducing_variables.IntegratedFourierFeature1D(eps, M//2)]\n",
    "        )\n",
    "        model = vff.sgpr.SGPR(\n",
    "            data = (x, lab.expand_dims(y, axis=-1)),\n",
    "            kernel = loc_kernel,\n",
    "            inducing_variable = u,\n",
    "        )\n",
    "        opt_logs = optim.minimize(model.training_loss, model.trainable_variables, options=dict(maxiter=100))\n",
    "        wc = time.perf_counter() - wc\n",
    "\n",
    "        elbo = model.elbo()/N\n",
    "        kls = kls + [vff.objectives.log_marginal_likelihood(y, x, model.kernel, model.likelihood)/N - elbo]\n",
    "        gaps = gaps + [best_lml - elbo]\n",
    "        print(\"M={}\\t KL={:.3e}\\t gap={:.3e}\".format(M, lab.squeeze(lab.to_numpy(kls[-1])), \n",
    "                                                   lab.squeeze(lab.to_numpy(gaps[-1]))\n",
    "                                                  ))\n",
    "        times = times + [wc]\n",
    "    iff_eff_all['kl'] += [lab.squeeze(lab.to_numpy(kls))]\n",
    "    iff_eff_all['gap'] += [lab.squeeze(lab.to_numpy(gaps))]\n",
    "    iff_eff_all['t'] += [times]\n",
    "fpath ='./redux_iff_{}'.format(D)\n",
    "\n",
    "results_filename = f\"{fpath}.json\"\n",
    "with open(results_filename, \"w\") as fp:\n",
    "    json.dump(iff_eff_all, fp, indent=4)\n",
    "    \n",
    "print('--------------------------------')\n",
    "print('VFF')\n",
    "print('--------------------------------')\n",
    "for kk in tqdm(range(5)):\n",
    "    iff_Ms = [25, 51, 101, 151, 201, 251, 301, 351, 401, 451, 501, 751, 1501]\n",
    "\n",
    "    kls = []\n",
    "    gaps = []\n",
    "    times = []\n",
    "    for M in tqdm(iff_Ms):\n",
    "        a = x.min()-0.05\n",
    "        b = x.max()+0.05\n",
    "        loc_kernel = gp.kernels.Matern52(.2)\n",
    "        optim = gp.optimizers.Scipy()\n",
    "        wc = time.perf_counter() \n",
    "        u = vff.inducing_variables.VariationalFourierFeature1D(a, b, M)\n",
    "        model = vff.sgpr.SGPR(\n",
    "            data = (x, lab.expand_dims(y, axis=-1)),\n",
    "            kernel = loc_kernel,\n",
    "            inducing_variable = u,\n",
    "        )\n",
    "        opt_logs = optim.minimize(model.training_loss, model.trainable_variables, options=dict(maxiter=100))\n",
    "        wc = time.perf_counter() - wc      \n",
    "\n",
    "        elbo = model.elbo()/N\n",
    "        kls = kls + [vff.objectives.log_marginal_likelihood(y, x, model.kernel, model.likelihood)/N - elbo]\n",
    "        gaps = gaps + [best_lml - elbo]\n",
    "        print(\"M={}\\t KL={:.3e}\\t gap={:.3e}\".format(M, lab.squeeze(lab.to_numpy(kls[-1])), \n",
    "                                                   lab.squeeze(lab.to_numpy(gaps[-1]))\n",
    "                                                  ))\n",
    "        times = times + [wc]\n",
    "    vff_all['kl'] += [lab.squeeze(lab.to_numpy(kls))]\n",
    "    vff_all['gap'] += [lab.squeeze(lab.to_numpy(gaps))]\n",
    "    vff_all['t'] += [times]\n",
    "fpath ='./redux_vff_{}'.format(D)\n",
    "\n",
    "results_filename = f\"{fpath}.json\"\n",
    "with open(results_filename, \"w\") as fp:\n",
    "    json.dump(vff_all, fp, indent=4)"
   ]
  },
  {
   "cell_type": "code",
   "execution_count": 3,
   "id": "8bb77a32-7031-4a06-b18e-fcf6be79480e",
   "metadata": {},
   "outputs": [
    {
     "name": "stderr",
     "output_type": "stream",
     "text": [
      "2023-08-12 18:54:35.989630: I tensorflow/core/platform/cpu_feature_guard.cc:193] This TensorFlow binary is optimized with oneAPI Deep Neural Network Library (oneDNN) to use the following CPU instructions in performance-critical operations:  AVX2 FMA\n",
      "To enable them in other operations, rebuild TensorFlow with the appropriate compiler flags.\n"
     ]
    },
    {
     "name": "stdout",
     "output_type": "stream",
     "text": [
      "--------------------------------\n",
      "SGPR KM\n",
      "--------------------------------\n"
     ]
    },
    {
     "data": {
      "application/vnd.jupyter.widget-view+json": {
       "model_id": "0ad50ac72601447c8bda11ab4b51e077",
       "version_major": 2,
       "version_minor": 0
      },
      "text/plain": [
       "0it [00:00, ?it/s]"
      ]
     },
     "metadata": {},
     "output_type": "display_data"
    },
    {
     "name": "stdout",
     "output_type": "stream",
     "text": [
      "--------------------------------\n",
      "SGPR\n",
      "--------------------------------\n"
     ]
    },
    {
     "data": {
      "application/vnd.jupyter.widget-view+json": {
       "model_id": "ec7969858dbc448a8f708fa659ae1eab",
       "version_major": 2,
       "version_minor": 0
      },
      "text/plain": [
       "0it [00:00, ?it/s]"
      ]
     },
     "metadata": {},
     "output_type": "display_data"
    },
    {
     "name": "stdout",
     "output_type": "stream",
     "text": [
      "--------------------------------\n",
      "IFF\n",
      "--------------------------------\n"
     ]
    },
    {
     "data": {
      "application/vnd.jupyter.widget-view+json": {
       "model_id": "579cd78bb30742c3a6b47e2a515cca99",
       "version_major": 2,
       "version_minor": 0
      },
      "text/plain": [
       "0it [00:00, ?it/s]"
      ]
     },
     "metadata": {},
     "output_type": "display_data"
    },
    {
     "name": "stdout",
     "output_type": "stream",
     "text": [
      "--------------------------------\n",
      "IFF naive\n",
      "--------------------------------\n"
     ]
    },
    {
     "data": {
      "application/vnd.jupyter.widget-view+json": {
       "model_id": "245f1f39e6154ef9b6c383c09ac15bfb",
       "version_major": 2,
       "version_minor": 0
      },
      "text/plain": [
       "0it [00:00, ?it/s]"
      ]
     },
     "metadata": {},
     "output_type": "display_data"
    },
    {
     "name": "stdout",
     "output_type": "stream",
     "text": [
      "--------------------------------\n",
      "VFF naive\n",
      "--------------------------------\n"
     ]
    },
    {
     "data": {
      "application/vnd.jupyter.widget-view+json": {
       "model_id": "7ca822c122664382b3c4becdc83731e4",
       "version_major": 2,
       "version_minor": 0
      },
      "text/plain": [
       "  0%|          | 0/5 [00:00<?, ?it/s]"
      ]
     },
     "metadata": {},
     "output_type": "display_data"
    },
    {
     "data": {
      "application/vnd.jupyter.widget-view+json": {
       "model_id": "30b82770f1034969b7671e2d3c6c2288",
       "version_major": 2,
       "version_minor": 0
      },
      "text/plain": [
       "  0%|          | 0/15 [00:00<?, ?it/s]"
      ]
     },
     "metadata": {},
     "output_type": "display_data"
    },
    {
     "name": "stdout",
     "output_type": "stream",
     "text": [
      "WARNING:tensorflow:From /var/home/tmc49/.fourier-venv/lib/python3.8/site-packages/tensorflow/python/autograph/pyct/static_analysis/liveness.py:83: Analyzer.lamba_check (from tensorflow.python.autograph.pyct.static_analysis.liveness) is deprecated and will be removed after 2023-09-23.\n",
      "Instructions for updating:\n",
      "Lambda fuctions will be no more assumed to be used in the statement where they are used, or at least in the same block. https://github.com/tensorflow/tensorflow/issues/56089\n",
      "M=5\t KL=7.977e-02\t gap=1.495e-01\n",
      "M=11\t KL=3.538e-02\t gap=5.201e-02\n",
      "M=13\t KL=2.669e-02\t gap=4.240e-02\n",
      "M=15\t KL=2.113e-02\t gap=3.705e-02\n",
      "M=17\t KL=1.756e-02\t gap=3.405e-02\n",
      "M=19\t KL=1.462e-02\t gap=3.188e-02\n",
      "M=21\t KL=1.238e-02\t gap=3.041e-02\n",
      "M=23\t KL=1.066e-02\t gap=2.936e-02\n",
      "M=25\t KL=9.475e-03\t gap=2.868e-02\n",
      "M=27\t KL=8.554e-03\t gap=2.819e-02\n",
      "M=29\t KL=7.830e-03\t gap=2.782e-02\n",
      "M=31\t KL=7.281e-03\t gap=2.755e-02\n",
      "M=33\t KL=6.825e-03\t gap=2.732e-02\n",
      "M=35\t KL=6.518e-03\t gap=2.718e-02\n",
      "M=37\t KL=6.289e-03\t gap=2.707e-02\n"
     ]
    },
    {
     "data": {
      "application/vnd.jupyter.widget-view+json": {
       "model_id": "a2af32aa22c040b4acf87c6e470d95ee",
       "version_major": 2,
       "version_minor": 0
      },
      "text/plain": [
       "  0%|          | 0/15 [00:00<?, ?it/s]"
      ]
     },
     "metadata": {},
     "output_type": "display_data"
    },
    {
     "name": "stdout",
     "output_type": "stream",
     "text": [
      "M=5\t KL=7.977e-02\t gap=1.495e-01\n",
      "M=11\t KL=3.538e-02\t gap=5.201e-02\n",
      "M=13\t KL=2.669e-02\t gap=4.240e-02\n",
      "M=15\t KL=2.113e-02\t gap=3.705e-02\n",
      "M=17\t KL=1.756e-02\t gap=3.405e-02\n",
      "M=19\t KL=1.462e-02\t gap=3.188e-02\n",
      "M=21\t KL=1.238e-02\t gap=3.041e-02\n",
      "M=23\t KL=1.066e-02\t gap=2.936e-02\n",
      "M=25\t KL=9.475e-03\t gap=2.868e-02\n",
      "M=27\t KL=8.554e-03\t gap=2.819e-02\n",
      "M=29\t KL=7.830e-03\t gap=2.782e-02\n",
      "M=31\t KL=7.281e-03\t gap=2.755e-02\n",
      "M=33\t KL=6.825e-03\t gap=2.732e-02\n",
      "M=35\t KL=6.518e-03\t gap=2.718e-02\n",
      "M=37\t KL=6.289e-03\t gap=2.707e-02\n"
     ]
    },
    {
     "data": {
      "application/vnd.jupyter.widget-view+json": {
       "model_id": "ade1b4e1ea514837a14e239bffb54b16",
       "version_major": 2,
       "version_minor": 0
      },
      "text/plain": [
       "  0%|          | 0/15 [00:00<?, ?it/s]"
      ]
     },
     "metadata": {},
     "output_type": "display_data"
    },
    {
     "name": "stdout",
     "output_type": "stream",
     "text": [
      "M=5\t KL=7.977e-02\t gap=1.495e-01\n",
      "M=11\t KL=3.538e-02\t gap=5.201e-02\n",
      "M=13\t KL=2.669e-02\t gap=4.240e-02\n",
      "M=15\t KL=2.113e-02\t gap=3.705e-02\n",
      "M=17\t KL=1.756e-02\t gap=3.405e-02\n",
      "M=19\t KL=1.462e-02\t gap=3.188e-02\n",
      "M=21\t KL=1.238e-02\t gap=3.041e-02\n",
      "M=23\t KL=1.066e-02\t gap=2.936e-02\n",
      "M=25\t KL=9.475e-03\t gap=2.868e-02\n",
      "M=27\t KL=8.554e-03\t gap=2.819e-02\n",
      "M=29\t KL=7.830e-03\t gap=2.782e-02\n",
      "M=31\t KL=7.281e-03\t gap=2.755e-02\n",
      "M=33\t KL=6.825e-03\t gap=2.732e-02\n",
      "M=35\t KL=6.518e-03\t gap=2.718e-02\n",
      "M=37\t KL=6.289e-03\t gap=2.707e-02\n"
     ]
    },
    {
     "data": {
      "application/vnd.jupyter.widget-view+json": {
       "model_id": "660358d89882432ab415a77449531581",
       "version_major": 2,
       "version_minor": 0
      },
      "text/plain": [
       "  0%|          | 0/15 [00:00<?, ?it/s]"
      ]
     },
     "metadata": {},
     "output_type": "display_data"
    },
    {
     "name": "stdout",
     "output_type": "stream",
     "text": [
      "M=5\t KL=7.977e-02\t gap=1.495e-01\n",
      "M=11\t KL=3.538e-02\t gap=5.201e-02\n",
      "M=13\t KL=2.669e-02\t gap=4.240e-02\n",
      "M=15\t KL=2.113e-02\t gap=3.705e-02\n",
      "M=17\t KL=1.756e-02\t gap=3.405e-02\n",
      "M=19\t KL=1.462e-02\t gap=3.188e-02\n",
      "M=21\t KL=1.238e-02\t gap=3.041e-02\n",
      "M=23\t KL=1.066e-02\t gap=2.936e-02\n",
      "M=25\t KL=9.475e-03\t gap=2.868e-02\n",
      "M=27\t KL=8.554e-03\t gap=2.819e-02\n",
      "M=29\t KL=7.830e-03\t gap=2.782e-02\n",
      "M=31\t KL=7.281e-03\t gap=2.755e-02\n",
      "M=33\t KL=6.825e-03\t gap=2.732e-02\n",
      "M=35\t KL=6.518e-03\t gap=2.718e-02\n",
      "M=37\t KL=6.289e-03\t gap=2.707e-02\n"
     ]
    },
    {
     "data": {
      "application/vnd.jupyter.widget-view+json": {
       "model_id": "4a83364319c7434099586fd4121de2ff",
       "version_major": 2,
       "version_minor": 0
      },
      "text/plain": [
       "  0%|          | 0/15 [00:00<?, ?it/s]"
      ]
     },
     "metadata": {},
     "output_type": "display_data"
    },
    {
     "name": "stdout",
     "output_type": "stream",
     "text": [
      "M=5\t KL=7.977e-02\t gap=1.495e-01\n",
      "M=11\t KL=3.538e-02\t gap=5.201e-02\n",
      "M=13\t KL=2.669e-02\t gap=4.240e-02\n",
      "M=15\t KL=2.113e-02\t gap=3.705e-02\n",
      "M=17\t KL=1.756e-02\t gap=3.405e-02\n",
      "M=19\t KL=1.462e-02\t gap=3.188e-02\n",
      "M=21\t KL=1.238e-02\t gap=3.041e-02\n",
      "M=23\t KL=1.066e-02\t gap=2.936e-02\n",
      "M=25\t KL=9.475e-03\t gap=2.868e-02\n",
      "M=27\t KL=8.554e-03\t gap=2.819e-02\n",
      "M=29\t KL=7.830e-03\t gap=2.782e-02\n",
      "M=31\t KL=7.281e-03\t gap=2.755e-02\n",
      "M=33\t KL=6.825e-03\t gap=2.732e-02\n",
      "M=35\t KL=6.518e-03\t gap=2.718e-02\n",
      "M=37\t KL=6.289e-03\t gap=2.707e-02\n",
      "--------------------------------\n",
      "VFF\n",
      "--------------------------------\n"
     ]
    },
    {
     "data": {
      "application/vnd.jupyter.widget-view+json": {
       "model_id": "409892ade9a34245a814d2f3e750a67c",
       "version_major": 2,
       "version_minor": 0
      },
      "text/plain": [
       "  0%|          | 0/5 [00:00<?, ?it/s]"
      ]
     },
     "metadata": {},
     "output_type": "display_data"
    },
    {
     "data": {
      "application/vnd.jupyter.widget-view+json": {
       "model_id": "747ada7b00da4969854248c4122b8c3b",
       "version_major": 2,
       "version_minor": 0
      },
      "text/plain": [
       "  0%|          | 0/15 [00:00<?, ?it/s]"
      ]
     },
     "metadata": {},
     "output_type": "display_data"
    },
    {
     "name": "stdout",
     "output_type": "stream",
     "text": [
      "M=5\t KL=7.988e-02\t gap=1.528e-01\n",
      "M=11\t KL=3.905e-02\t gap=5.579e-02\n",
      "M=13\t KL=2.931e-02\t gap=4.460e-02\n",
      "M=15\t KL=2.259e-02\t gap=3.808e-02\n",
      "M=17\t KL=1.892e-02\t gap=3.488e-02\n",
      "M=19\t KL=1.562e-02\t gap=3.241e-02\n",
      "M=21\t KL=1.320e-02\t gap=3.080e-02\n",
      "M=23\t KL=1.135e-02\t gap=2.966e-02\n",
      "M=25\t KL=9.998e-03\t gap=2.889e-02\n",
      "M=27\t KL=8.882e-03\t gap=2.831e-02\n",
      "M=29\t KL=8.079e-03\t gap=2.791e-02\n",
      "M=31\t KL=7.493e-03\t gap=2.762e-02\n",
      "M=33\t KL=6.964e-03\t gap=2.737e-02\n",
      "M=35\t KL=6.610e-03\t gap=2.721e-02\n",
      "M=37\t KL=6.360e-03\t gap=2.709e-02\n"
     ]
    },
    {
     "data": {
      "application/vnd.jupyter.widget-view+json": {
       "model_id": "876ffa328e484b338c578e38d5e87273",
       "version_major": 2,
       "version_minor": 0
      },
      "text/plain": [
       "  0%|          | 0/15 [00:00<?, ?it/s]"
      ]
     },
     "metadata": {},
     "output_type": "display_data"
    },
    {
     "name": "stdout",
     "output_type": "stream",
     "text": [
      "M=5\t KL=7.988e-02\t gap=1.528e-01\n",
      "M=11\t KL=3.905e-02\t gap=5.579e-02\n",
      "M=13\t KL=2.931e-02\t gap=4.460e-02\n",
      "M=15\t KL=2.259e-02\t gap=3.808e-02\n",
      "M=17\t KL=1.892e-02\t gap=3.488e-02\n",
      "M=19\t KL=1.562e-02\t gap=3.241e-02\n",
      "M=21\t KL=1.320e-02\t gap=3.080e-02\n",
      "M=23\t KL=1.135e-02\t gap=2.966e-02\n",
      "M=25\t KL=9.998e-03\t gap=2.889e-02\n",
      "M=27\t KL=8.882e-03\t gap=2.831e-02\n",
      "M=29\t KL=8.079e-03\t gap=2.791e-02\n",
      "M=31\t KL=7.493e-03\t gap=2.762e-02\n",
      "M=33\t KL=6.964e-03\t gap=2.737e-02\n",
      "M=35\t KL=6.610e-03\t gap=2.721e-02\n",
      "M=37\t KL=6.360e-03\t gap=2.709e-02\n"
     ]
    },
    {
     "data": {
      "application/vnd.jupyter.widget-view+json": {
       "model_id": "f439c52c61ab4fa3abd216834e7517a5",
       "version_major": 2,
       "version_minor": 0
      },
      "text/plain": [
       "  0%|          | 0/15 [00:00<?, ?it/s]"
      ]
     },
     "metadata": {},
     "output_type": "display_data"
    },
    {
     "name": "stdout",
     "output_type": "stream",
     "text": [
      "M=5\t KL=7.988e-02\t gap=1.528e-01\n",
      "M=11\t KL=3.905e-02\t gap=5.579e-02\n",
      "M=13\t KL=2.931e-02\t gap=4.460e-02\n",
      "M=15\t KL=2.259e-02\t gap=3.808e-02\n",
      "M=17\t KL=1.892e-02\t gap=3.488e-02\n",
      "M=19\t KL=1.562e-02\t gap=3.241e-02\n",
      "M=21\t KL=1.320e-02\t gap=3.080e-02\n",
      "M=23\t KL=1.135e-02\t gap=2.966e-02\n",
      "M=25\t KL=9.998e-03\t gap=2.889e-02\n",
      "M=27\t KL=8.882e-03\t gap=2.831e-02\n",
      "M=29\t KL=8.079e-03\t gap=2.791e-02\n",
      "M=31\t KL=7.493e-03\t gap=2.762e-02\n",
      "M=33\t KL=6.964e-03\t gap=2.737e-02\n",
      "M=35\t KL=6.610e-03\t gap=2.721e-02\n",
      "M=37\t KL=6.360e-03\t gap=2.709e-02\n"
     ]
    },
    {
     "data": {
      "application/vnd.jupyter.widget-view+json": {
       "model_id": "6fd9cff904ff402eb0c9630648093beb",
       "version_major": 2,
       "version_minor": 0
      },
      "text/plain": [
       "  0%|          | 0/15 [00:00<?, ?it/s]"
      ]
     },
     "metadata": {},
     "output_type": "display_data"
    },
    {
     "name": "stdout",
     "output_type": "stream",
     "text": [
      "M=5\t KL=7.988e-02\t gap=1.528e-01\n",
      "M=11\t KL=3.905e-02\t gap=5.579e-02\n",
      "M=13\t KL=2.931e-02\t gap=4.460e-02\n",
      "M=15\t KL=2.259e-02\t gap=3.808e-02\n",
      "M=17\t KL=1.892e-02\t gap=3.488e-02\n",
      "M=19\t KL=1.562e-02\t gap=3.241e-02\n",
      "M=21\t KL=1.320e-02\t gap=3.080e-02\n",
      "M=23\t KL=1.135e-02\t gap=2.966e-02\n",
      "M=25\t KL=9.998e-03\t gap=2.889e-02\n",
      "M=27\t KL=8.882e-03\t gap=2.831e-02\n",
      "M=29\t KL=8.079e-03\t gap=2.791e-02\n",
      "M=31\t KL=7.493e-03\t gap=2.762e-02\n",
      "M=33\t KL=6.964e-03\t gap=2.737e-02\n",
      "M=35\t KL=6.610e-03\t gap=2.721e-02\n",
      "M=37\t KL=6.360e-03\t gap=2.709e-02\n"
     ]
    },
    {
     "data": {
      "application/vnd.jupyter.widget-view+json": {
       "model_id": "fec5d732aed446bba12195fd6a7d3dfa",
       "version_major": 2,
       "version_minor": 0
      },
      "text/plain": [
       "  0%|          | 0/15 [00:00<?, ?it/s]"
      ]
     },
     "metadata": {},
     "output_type": "display_data"
    },
    {
     "name": "stdout",
     "output_type": "stream",
     "text": [
      "M=5\t KL=7.988e-02\t gap=1.528e-01\n",
      "M=11\t KL=3.905e-02\t gap=5.579e-02\n",
      "M=13\t KL=2.931e-02\t gap=4.460e-02\n",
      "M=15\t KL=2.259e-02\t gap=3.808e-02\n",
      "M=17\t KL=1.892e-02\t gap=3.488e-02\n",
      "M=19\t KL=1.562e-02\t gap=3.241e-02\n",
      "M=21\t KL=1.320e-02\t gap=3.080e-02\n",
      "M=23\t KL=1.135e-02\t gap=2.966e-02\n",
      "M=25\t KL=9.998e-03\t gap=2.889e-02\n",
      "M=27\t KL=8.882e-03\t gap=2.831e-02\n",
      "M=29\t KL=8.079e-03\t gap=2.791e-02\n",
      "M=31\t KL=7.493e-03\t gap=2.762e-02\n",
      "M=33\t KL=6.964e-03\t gap=2.737e-02\n",
      "M=35\t KL=6.610e-03\t gap=2.721e-02\n",
      "M=37\t KL=6.360e-03\t gap=2.709e-02\n"
     ]
    }
   ],
   "source": [
    "import tensorflow as tf\n",
    "from tqdm.notebook import tqdm\n",
    "\n",
    "seed = 7\n",
    "lab.set_random_seed(seed)\n",
    "\n",
    "# First make the data\n",
    "N = 10000\n",
    "L = lab.ones(1)\n",
    "D = 2\n",
    "width = 5/(L)\n",
    "sigma_f = 1.\n",
    "snr = 0.774 # some arbitrary numeber\n",
    "x = 6*width*lab.rand(N, D) -3*width\n",
    "gt_kernel = gp.kernels.SquaredExponential(lengthscales=lab.concat(*[L for d in range(D)]))\n",
    "gt_lik = gp.likelihoods.Gaussian()\n",
    "gt_kernel.variance.assign(sigma_f)\n",
    "gt_lik.variance.assign(lab.squeeze(gt_kernel.variance / snr))\n",
    "K = gt_kernel.K(x,x) + gt_lik.variance * lab.eye(x.dtype, N)\n",
    "y = lab.squeeze(lab.mm(lab.chol(K), lab.randn(N, 1)), axis=-1)\n",
    "best_lml = vff.objectives.log_marginal_likelihood(y, x, gt_kernel, gt_lik)/N\n",
    "\n",
    "#KK = 0 # number of trials\n",
    "\n",
    "sgpr_all = {'kl' : [[]], 't' : [[]], 'gap' : [[]] }\n",
    "sgpr_opt_all = {'kl' : [[]], 't' : [[]], 'gap' : [[]] }\n",
    "iff_eff_all = {'kl' : [[]], 't' : [[]], 'gap' : [[]] }\n",
    "iff_all = {'kl' : [[]], 't' : [[]], 'gap' : [[]] }\n",
    "vff_all = {'kl' : [[]], 't' : [[]], 'gap' : [[]] }\n",
    "\n",
    "\n",
    "# Do SGPR\n",
    "print('--------------------------------')\n",
    "print('SGPR KM')\n",
    "print('--------------------------------')\n",
    "for kk in tqdm(range(0)):\n",
    "    \n",
    "    Ms_ = [10, 20, 24, 28, 32, 36, 40, 44, 48, 52]\n",
    "    Ms = [int(M**D) for M in Ms_]\n",
    "    \n",
    "    kls = []\n",
    "    gaps = []\n",
    "    times = []\n",
    "    for M in tqdm(Ms):\n",
    "        loc_kernel = gp.kernels.SquaredExponential(lengthscales=[0.2]*D)\n",
    "            \n",
    "        wc = time.perf_counter()\n",
    "        z, _ = scipy.cluster.vq.kmeans(x, M)\n",
    "        model = vff.sgpr.SGPR(\n",
    "            data = (x, lab.expand_dims(y, axis=-1)),\n",
    "            kernel = loc_kernel,\n",
    "            inducing_variable = z,\n",
    "        )\n",
    "        optim = gp.optimizers.Scipy()\n",
    "        opt_logs = optim.minimize(model.training_loss, model.trainable_variables, options=dict(maxiter=100))\n",
    "        wc = time.perf_counter() - wc\n",
    "        \n",
    "        elbo = model.elbo()/N\n",
    "        kls = kls + [vff.objectives.log_marginal_likelihood(y, model.data[0], model.kernel, model.likelihood)/N - elbo]\n",
    "        gaps = gaps + [best_lml - elbo]\n",
    "        print(\"M={}\\t KL={:.3e}\\t gap={:.3e}\".format(M**(1/D), lab.squeeze(lab.to_numpy(kls[-1])), \n",
    "                                                   lab.squeeze(lab.to_numpy(gaps[-1]))\n",
    "                                                  ))\n",
    "\n",
    "        times = times + [wc]\n",
    "    sgpr_all['kl'] += [lab.squeeze(lab.to_numpy(kls))]\n",
    "    sgpr_all['gap'] += [lab.squeeze(lab.to_numpy(gaps))]\n",
    "    sgpr_all['t'] += [times]\n",
    "fpath ='./redux_km_{}'.format(D)\n",
    "\n",
    "results_filename = f\"{fpath}.json\"\n",
    "#with open(results_filename, \"w\") as fp:\n",
    "#    json.dump(sgpr_all, fp, indent=4)\n",
    "\n",
    "# Do SGPR\n",
    "print('--------------------------------')\n",
    "print('SGPR')\n",
    "print('--------------------------------')\n",
    "for kk in tqdm(range(0)):\n",
    "    \n",
    "    Ms_ = [10, 20, 24, 28, 32, 36, 40, 44, 48, 52]\n",
    "    Ms = [int(M**D) for M in Ms_]\n",
    "    kls = []\n",
    "    gaps = []\n",
    "    times = []\n",
    "    for M in tqdm(Ms):\n",
    "        loc_kernel = gp.kernels.SquaredExponential(lengthscales=[0.2]*D)\n",
    "            \n",
    "        wc = time.perf_counter()\n",
    "        initialiser = vff.initialise.ConditionalVariance(seed=seed)\n",
    "        z, _ = initialiser(lab.to_numpy(x), M, loc_kernel)\n",
    "        model = vff.sgpr.SGPR(\n",
    "            data = (x, lab.expand_dims(y, axis=-1)),\n",
    "            kernel = loc_kernel,\n",
    "            inducing_variable = z,\n",
    "        )\n",
    "        optim = gp.optimizers.Scipy()\n",
    "        vff.initialise.minimise_reinit(optim, model, initialiser)\n",
    "        wc = time.perf_counter() - wc\n",
    "        \n",
    "        elbo = model.elbo()/N\n",
    "        kls = kls + [vff.objectives.log_marginal_likelihood(y, model.data[0], model.kernel, model.likelihood)/N - elbo]\n",
    "        gaps = gaps + [best_lml - elbo]\n",
    "        print(\"M={}\\t KL={:.3e}\\t gap={:.3e}\".format(M**(1/D), lab.squeeze(lab.to_numpy(kls[-1])), \n",
    "                                                   lab.squeeze(lab.to_numpy(gaps[-1]))\n",
    "                                                  ))\n",
    "\n",
    "        times = times + [wc]\n",
    "    sgpr_all['kl'] += [lab.squeeze(lab.to_numpy(kls))]\n",
    "    sgpr_all['gap'] += [lab.squeeze(lab.to_numpy(gaps))]\n",
    "    sgpr_all['t'] += [times]\n",
    "fpath ='./redux_cv_{}'.format(D)\n",
    "\n",
    "results_filename = f\"{fpath}.json\"\n",
    "#with open(results_filename, \"w\") as fp:\n",
    "#    json.dump(sgpr_all, fp, indent=4)\n",
    "    \n",
    "    \n",
    "print('--------------------------------')\n",
    "print('IFF')\n",
    "print('--------------------------------')\n",
    "for kk in tqdm(range(0)):\n",
    "    # Now, our method\n",
    "    iff_Ms = [10, 22, 26, 30, 34, 38, 42, 46, 50, 54, 58, 62, 66]\n",
    "    kls = []\n",
    "    gaps = []\n",
    "    times = []\n",
    "    for M in tqdm(iff_Ms):\n",
    "        loc_kernel = gp.kernels.SquaredExponential(lengthscales=[0.2]*D)\n",
    "\n",
    "        eps = .95/(6*width)\n",
    "        \n",
    "        optim = gp.optimizers.Scipy()\n",
    "        wc = time.perf_counter()\n",
    "        u = vff.inducing_variables.MaskedProductIFF(\n",
    "            [vff.inducing_variables.IntegratedFourierFeature1D(eps, M//2) for d in range(D)]\n",
    "        )\n",
    "        model = vff.sgpr.SGPR(\n",
    "            data = (x, lab.expand_dims(y, axis=-1)),\n",
    "            kernel = loc_kernel,\n",
    "            inducing_variable = u,\n",
    "        )\n",
    "        opt_logs = optim.minimize(model.training_loss, model.trainable_variables, options=dict(maxiter=100))\n",
    "        wc = time.perf_counter() - wc\n",
    "\n",
    "        elbo = model.elbo()/N\n",
    "        kls = kls + [vff.objectives.log_marginal_likelihood(y, x, model.kernel, model.likelihood)/N - elbo]\n",
    "        gaps = gaps + [best_lml - elbo]\n",
    "        print(\"M={}\\t KL={:.3e}\\t gap={:.3e}\".format(M, lab.squeeze(lab.to_numpy(kls[-1])), \n",
    "                                                   lab.squeeze(lab.to_numpy(gaps[-1]))\n",
    "                                                  ))\n",
    "        times = times + [wc]\n",
    "    iff_eff_all['kl'] += [lab.squeeze(lab.to_numpy(kls))]\n",
    "    iff_eff_all['gap'] += [lab.squeeze(lab.to_numpy(gaps))]\n",
    "    iff_eff_all['t'] += [times]\n",
    "fpath ='./redux_iff_{}'.format(D)\n",
    "\n",
    "results_filename = f\"{fpath}.json\"\n",
    "#with open(results_filename, \"w\") as fp:\n",
    "#    json.dump(iff_eff_all, fp, indent=4)\n",
    "\n",
    "print('--------------------------------')\n",
    "print('IFF naive')\n",
    "print('--------------------------------')\n",
    "for kk in tqdm(range(0)):\n",
    "    # Now, our method\n",
    "    iff_Ms = [10, 22, 26, 30, 34, 38, 42, 46, 50, 54, 58, 62, 66]\n",
    "    kls = []\n",
    "    gaps = []\n",
    "    times = []\n",
    "    for M in tqdm(iff_Ms):\n",
    "        loc_kernel = gp.kernels.SquaredExponential(lengthscales=[0.2]*D)\n",
    "\n",
    "        eps = .95/(6*width)\n",
    "        \n",
    "        optim = gp.optimizers.Scipy()\n",
    "        wc = time.perf_counter()\n",
    "        u = vff.inducing_variables.MaskedProductIFF(\n",
    "            [vff.inducing_variables.IntegratedFourierFeature1D(eps, M//2) for d in range(D)], mask_type=\"none\",\n",
    "        )\n",
    "        model = vff.sgpr.SGPR(\n",
    "            data = (x, lab.expand_dims(y, axis=-1)),\n",
    "            kernel = loc_kernel,\n",
    "            inducing_variable = u,\n",
    "        )\n",
    "        opt_logs = optim.minimize(model.training_loss, model.trainable_variables, options=dict(maxiter=100))\n",
    "        wc = time.perf_counter() - wc\n",
    "\n",
    "        elbo = model.elbo()/N\n",
    "        kls = kls + [vff.objectives.log_marginal_likelihood(y, x, model.kernel, model.likelihood)/N - elbo]\n",
    "        gaps = gaps + [best_lml - elbo]\n",
    "        print(\"M={}\\t KL={:.3e}\\t gap={:.3e}\".format(M, lab.squeeze(lab.to_numpy(kls[-1])), \n",
    "                                                   lab.squeeze(lab.to_numpy(gaps[-1]))\n",
    "                                                  ))\n",
    "        times = times + [wc]\n",
    "    iff_eff_all['kl'] += [lab.squeeze(lab.to_numpy(kls))]\n",
    "    iff_eff_all['gap'] += [lab.squeeze(lab.to_numpy(gaps))]\n",
    "    iff_eff_all['t'] += [times]\n",
    "fpath ='./redux_iff_naive_{}'.format(D)\n",
    "\n",
    "results_filename = f\"{fpath}.json\"\n",
    "#with open(results_filename, \"w\") as fp:\n",
    "#    json.dump(iff_eff_all, fp, indent=4)\n",
    "\n",
    "print('--------------------------------')\n",
    "print('VFF naive')\n",
    "print('--------------------------------')\n",
    "for kk in tqdm(range(5)):\n",
    "    iff_Ms = [5, 11, 13, 15, 17, 19, 21, 23, 25, 27, 29, 31, 33, 35, 37]\n",
    "\n",
    "    kls = []\n",
    "    gaps = []\n",
    "    times = []\n",
    "    for M in tqdm(iff_Ms):\n",
    "        a = np.array([x.min()-0.05]*D)\n",
    "        b = np.array([x.max()+0.05]*D)\n",
    "        loc_kernel = [gp.kernels.Matern52(.2, active_dims=[d]) for d in range(D)]\n",
    "        optim = gp.optimizers.Scipy()\n",
    "        wc = time.perf_counter() \n",
    "        u = vff.inducing_variables.VariationalFourierFeatureProduct(a=np.array(a), b=np.array(b), Md=M, D=D, \n",
    "                                                                    mask_type=\"none\")\n",
    "        model = vff.sgpr.SGPR(\n",
    "            data = (x, lab.expand_dims(y, axis=-1)),\n",
    "            kernel = gp.kernels.Product(loc_kernel),\n",
    "            inducing_variable = u,\n",
    "        )\n",
    "        opt_logs = optim.minimize(model.training_loss, model.trainable_variables, options=dict(maxiter=100))\n",
    "        wc = time.perf_counter() - wc      \n",
    "\n",
    "        elbo = model.elbo()/N\n",
    "        kls = kls + [vff.objectives.log_marginal_likelihood(y, x, model.kernel, model.likelihood)/N - elbo]\n",
    "        gaps = gaps + [best_lml - elbo]\n",
    "        print(\"M={}\\t KL={:.3e}\\t gap={:.3e}\".format(M, lab.squeeze(lab.to_numpy(kls[-1])), \n",
    "                                                   lab.squeeze(lab.to_numpy(gaps[-1]))\n",
    "                                                  ))\n",
    "        times = times + [wc]\n",
    "    vff_all['kl'] += [lab.squeeze(lab.to_numpy(kls))]\n",
    "    vff_all['gap'] += [lab.squeeze(lab.to_numpy(gaps))]\n",
    "    vff_all['t'] += [times]\n",
    "fpath ='./redux_vff_naive_{}'.format(D)\n",
    "\n",
    "results_filename = f\"{fpath}.json\"\n",
    "with open(results_filename, \"w\") as fp:\n",
    "    json.dump(vff_all, fp, indent=4)\n",
    "\n",
    "print('--------------------------------')\n",
    "print('VFF')\n",
    "print('--------------------------------')\n",
    "for kk in tqdm(range(5)):\n",
    "    iff_Ms = [5, 11, 13, 15, 17, 19, 21, 23, 25, 27, 29, 31, 33, 35, 37]\n",
    "\n",
    "    kls = []\n",
    "    gaps = []\n",
    "    times = []\n",
    "    for M in tqdm(iff_Ms):\n",
    "        a = np.array([x.min()-0.05]*D)\n",
    "        b = np.array([x.max()+0.05]*D)\n",
    "        loc_kernel = [gp.kernels.Matern52(.2, active_dims=[d]) for d in range(D)]\n",
    "        optim = gp.optimizers.Scipy()\n",
    "        wc = time.perf_counter() \n",
    "        u = vff.inducing_variables.VariationalFourierFeatureProduct(a=np.array(a), b=np.array(b), Md=M, D=D, \n",
    "                                                                    mask_type=\"spherical_vff\")\n",
    "        model = vff.sgpr.SGPR(\n",
    "            data = (x, lab.expand_dims(y, axis=-1)),\n",
    "            kernel = gp.kernels.Product(loc_kernel),\n",
    "            inducing_variable = u,\n",
    "        )\n",
    "        opt_logs = optim.minimize(model.training_loss, model.trainable_variables, options=dict(maxiter=100))\n",
    "        wc = time.perf_counter() - wc      \n",
    "\n",
    "        elbo = model.elbo()/N\n",
    "        kls = kls + [vff.objectives.log_marginal_likelihood(y, x, model.kernel, model.likelihood)/N - elbo]\n",
    "        gaps = gaps + [best_lml - elbo]\n",
    "        print(\"M={}\\t KL={:.3e}\\t gap={:.3e}\".format(M, lab.squeeze(lab.to_numpy(kls[-1])), \n",
    "                                                   lab.squeeze(lab.to_numpy(gaps[-1]))\n",
    "                                                  ))\n",
    "        times = times + [wc]\n",
    "    vff_all['kl'] += [lab.squeeze(lab.to_numpy(kls))]\n",
    "    vff_all['gap'] += [lab.squeeze(lab.to_numpy(gaps))]\n",
    "    vff_all['t'] += [times]\n",
    "fpath ='./redux_vff_{}'.format(D)\n",
    "\n",
    "results_filename = f\"{fpath}.json\"\n",
    "with open(results_filename, \"w\") as fp:\n",
    "    json.dump(vff_all, fp, indent=4)\n",
    "    \n"
   ]
  },
  {
   "cell_type": "code",
   "execution_count": 61,
   "id": "7f2778e5-4627-4027-913a-0a0490b1ba53",
   "metadata": {},
   "outputs": [
    {
     "name": "stdout",
     "output_type": "stream",
     "text": [
      "[0.03919799 0.07111935 0.14752433 0.24743911 0.39646874 0.58413827\n",
      " 0.78574099 1.         0.77832    0.56694758 0.27919152]\n"
     ]
    },
    {
     "data": {
      "image/png": "[encoded data removed]",
      "text/plain": [
       "<Figure size 864x1152 with 6 Axes>"
      ]
     },
     "metadata": {
      "needs_background": "light"
     },
     "output_type": "display_data"
    }
   ],
   "source": [
    "import matplotlib\n",
    "\n",
    "fig, axs = plt.subplots(3, 2, sharey=\"row\", figsize=(12, 16))\n",
    "\n",
    "D=1\n",
    "\n",
    "models = [\n",
    "    'iff',\n",
    "    'vff',\n",
    "    'cv',\n",
    "    'km',\n",
    "]\n",
    "\n",
    "results = {}\n",
    "for model in models: # load the data\n",
    "    f = open('./redux_{}_{}.json'.format(model, D))\n",
    "    results[model] = json.load(f)\n",
    "    \n",
    "    results[model]['gap'] = lab.concat(*[lab.expand_dims(np.array(a), axis=0) for a in results[model]['gap'][1:]], axis=0)\n",
    "    results[model]['kl'] = lab.concat(*[lab.expand_dims(np.array(a), axis=0) for a in results[model]['kl'][1:]], axis=0)\n",
    "    results[model]['t'] = lab.concat(*[lab.expand_dims(np.array(a), axis=0) for a in results[model]['t'][1:]], axis=0)\n",
    "\n",
    "means = {}\n",
    "stds = {}\n",
    "for model in models:\n",
    "    means[model] = {}\n",
    "    stds[model] = {}\n",
    "    for key in ['gap', 'kl', 't']:\n",
    "        means[model][key] = lab.mean(results[model][key], axis=0)\n",
    "        stds[model][key] = lab.std(results[model][key], axis=0)/lab.sqrt(results[model][key].shape[0])\n",
    "    \n",
    "    \n",
    "base_t = means['km']['t'][-4]\n",
    "for model in models:\n",
    "    means[model]['t'] = means[model]['t']/base_t\n",
    "    stds[model]['t'] = stds[model]['t']/base_t\n",
    "print(means['km']['t'])\n",
    "# plot style for each method\n",
    "styles = {\n",
    "    'iff' : ('r', 'solid', 1),\n",
    "    'vff' : ('b', 'solid', 1),\n",
    "    'km' : ('k', 'dashed', 1.),\n",
    "    'cv' : ('k', 'solid', 1.),\n",
    "}\n",
    "\n",
    "labels = {\n",
    "    'iff' : 'IFF (ours)',\n",
    "    'vff' : 'VFF (Hensman et al, 2017)',\n",
    "    'km' : 'Inducing points + k-means',\n",
    "    'cv' : 'Inducing points + k-DPP\\n(Burt et al, 2019)',\n",
    "    }\n",
    "\n",
    "Ms = {\n",
    "    'iff' : [50, 100, 200, 300, 400, 500, 600, 700, 800, 900, 1000, 1500, 3000],\n",
    "    'vff' :  [25, 51, 101, 151, 201, 251, 301, 351, 401, 451, 501, 751, 1501],\n",
    "    'km' : [50, 100, 200, 300, 400, 500, 600, 700, 800, 900, 1000],\n",
    "    'cv' :  [50, 100, 200, 300, 400, 500, 600, 700, 800, 900, 1000],\n",
    "}\n",
    "\n",
    "for model in models:\n",
    "    if model == \"km\":\n",
    "        end = -3\n",
    "    else:\n",
    "        end = -1\n",
    "    axs[0][0].errorbar(x=means[model]['t'][1:end], y=means[model]['kl'][1:end], \n",
    "                 yerr=2*stds[model]['kl'][1:end], xerr=2*stds[model]['kl'][1:end], label=labels[model], color=styles[model][0],\n",
    "                                   linestyle = styles[model][1], alpha=styles[model][2])\n",
    "axs[0][0].set_xlabel(r'Execution time (normalised)', weight='bold')\n",
    "axs[0][0].set_ylabel(r'Gap to $\\mathcal{L}$',  weight='bold')\n",
    "#plt.legend(handlelength=5)\n",
    "#plt.xlim(0.5, 5)\n",
    "#plt.savefig('../images/D_{}_N_{}_kl_t.png'.format(D, N),  bbox_inches=\"tight\")\n",
    "\n",
    "\n",
    "\n",
    "for model in models:\n",
    "    axs[1][0].errorbar(x=means[model]['t'][1:], y=means[model]['kl'][1:], \n",
    "                 yerr=2*stds[model]['gap'][1:], xerr=2*stds[model]['gap'][1:], label=labels[model], color=styles[model][0],\n",
    "                                   linestyle = styles[model][1], alpha=styles[model][2])\n",
    "axs[1][0].set_xlabel(r'Execution time (normalised)', weight='bold')\n",
    "axs[1][0].set_ylabel(r'Gap to groundtruth $\\mathcal{L}$',  weight='bold')\n",
    "#plt.legend()\n",
    "#plt.xlim(0.5, 5)\n",
    "#plt.savefig('../images/D_{}_N_{}_gap_t.png'.format(D, N),  bbox_inches=\"tight\")\n",
    "\n",
    "\n",
    "for model in models:\n",
    "    axs[2][0].errorbar(x=Ms[model][1:], y=means[model]['kl'][1:], \n",
    "                 yerr=2*stds[model]['kl'][1:], label=labels[model], color=styles[model][0],\n",
    "                                   linestyle = styles[model][1], alpha=styles[model][2])\n",
    "axs[2][0].set_xlabel(r'M', weight='bold')\n",
    "axs[2][0].set_ylabel(r'Gap to $\\mathcal{L}$',  weight='bold')\n",
    "#plt.legend()\n",
    "#plt.xlim(0.5, 5)\n",
    "#plt.savefig('../images/D_{}_N_{}kl_M.png'.format(D, N),  bbox_inches=\"tight\")\n",
    "\n",
    "D=2\n",
    "\n",
    "# Need eps, a, and b to recover the number of features in IFF and VFF\n",
    "seed = 7\n",
    "lab.set_random_seed(seed)\n",
    "\n",
    "N = 10000\n",
    "L = lab.ones(1)\n",
    "D = 2\n",
    "width = 5/(L)\n",
    "sigma_f = 1.\n",
    "snr = 0.774 # some arbitrary numeber\n",
    "x = 6*width*lab.rand(N, D) -3*width\n",
    "eps = .95/(6*width)\n",
    "a = np.array([x.min()-0.05]*D)\n",
    "b = np.array([x.max()+0.05]*D)\n",
    "\n",
    "models = [\n",
    "    'iff',\n",
    "    'iff_naive',\n",
    "    'vff',\n",
    "    'vff_naive',\n",
    "    'cv',\n",
    "    'km',\n",
    "]\n",
    "\n",
    "results = {}\n",
    "for model in models: # load the data\n",
    "    f = open('./redux_{}_{}.json'.format(model, D))\n",
    "    results[model] = json.load(f)\n",
    "    \n",
    "    results[model]['gap'] = lab.concat(*[lab.expand_dims(np.array(a), axis=0) for a in results[model]['gap'][1:]], axis=0)\n",
    "    results[model]['kl'] = lab.concat(*[lab.expand_dims(np.array(a), axis=0) for a in results[model]['kl'][1:]], axis=0)\n",
    "    results[model]['t'] = lab.concat(*[lab.expand_dims(np.array(a), axis=0) for a in results[model]['t'][1:]], axis=0)\n",
    "\n",
    "means = {}\n",
    "stds = {}\n",
    "for model in models:\n",
    "    means[model] = {}\n",
    "    stds[model] = {}\n",
    "    for key in ['gap', 'kl', 't']:\n",
    "        means[model][key] = lab.mean(results[model][key], axis=0)\n",
    "        stds[model][key] = lab.std(results[model][key], axis=0)/lab.sqrt(results[model][key].shape[0])\n",
    "    \n",
    "    \n",
    "base_t = means['cv']['t'][5]\n",
    "for model in models:\n",
    "    means[model]['t'] = means[model]['t']/base_t\n",
    "    stds[model]['t'] = stds[model]['t']/base_t\n",
    "\n",
    "# plot style for each method\n",
    "styles = {\n",
    "    'iff' : ('r', 'solid', 1),\n",
    "    'iff_naive' : ('r', 'dashed', 1),\n",
    "    'vff' : ('b', 'solid', 1),\n",
    "    'vff_naive' : ('b', 'dashed', 1),\n",
    "    'km' : ('k', 'dashed', 1.),\n",
    "    'cv' : ('k', 'solid', 1.),\n",
    "}\n",
    "\n",
    "labels = {\n",
    "    'iff' : 'IFF (ours)',\n",
    "    'iff_naive' : 'IFF naive (ours)',\n",
    "    'vff' : 'VFF reduced',\n",
    "    'vff_naive' : 'VFF (Hensman et al, 2017)',\n",
    "    'km' : 'Inducing points + k-means',\n",
    "    'cv' : 'Inducing points + k-DPP\\n(Burt et al, 2019)',\n",
    "    }\n",
    "\n",
    "def get_number_of_iff_features(m):\n",
    "    u = vff.inducing_variables.MaskedProductIFF(\n",
    "            [vff.inducing_variables.IntegratedFourierFeature1D(eps, m//2) for d in range(D)]\n",
    "        )\n",
    "    return u.M\n",
    "\n",
    "def get_number_of_vff_features(m, mask_type):\n",
    "    u = vff.inducing_variables.VariationalFourierFeatureProduct(a=np.array(a), b=np.array(b), Md=m, D=D, \n",
    "                                                                    mask_type=mask_type)\n",
    "    return u.M    \n",
    "    \n",
    "Ms = {\n",
    "    'iff' : [get_number_of_iff_features(M) for M in [10, 22, 26, 30, 34, 38, 42, 46, 50, 54, 58, 62, 66]],\n",
    "    'iff_naive' : [M**D for M in [10, 22, 26, 30, 34, 38, 42, 46, 50, 54, 58, 62, 66]],\n",
    "    'vff' : [get_number_of_vff_features(M, \"spherical_vff\") for M in [5, 11, 13, 15, 17, 19, 21, 23, 25, 27, 29, 31, 33, 35, 37]],\n",
    "    'vff_naive' : [get_number_of_vff_features(M, \"none\") for M in [5, 11, 13, 15, 17, 19, 21, 23, 25, 27, 29, 31, 33, 35, 37]],\n",
    "    'km' : [M**D for M in [10, 20, 24, 28, 32, 36, 40, 44, 48, 52]],\n",
    "    'cv' :  [M**D for M in [10, 20, 24, 28, 32, 36, 40, 44, 48, 52]],\n",
    "}\n",
    "\n",
    "for model in models:\n",
    "    axs[0][1].errorbar(x=means[model]['t'][1:], y=means[model]['kl'][1:], \n",
    "                 yerr=2*stds[model]['kl'][1:], xerr=2*stds[model]['kl'][1:], label=labels[model], color=styles[model][0],\n",
    "                                   linestyle = styles[model][1], alpha=styles[model][2])\n",
    "axs[0][1].set_xlabel(r'Execution time (normalised)', weight='bold')\n",
    "#plt.legend(handlelength=5)\n",
    "#plt.xlim(0.5, 5)\n",
    "#plt.savefig('../images/D_{}_N_{}_kl_t.png'.format(D, N),  bbox_inches=\"tight\")\n",
    "\n",
    "for model in models:\n",
    "    axs[1][1].errorbar(x=means[model]['t'][1:], y=means[model]['kl'][1:], \n",
    "                 yerr=2*stds[model]['gap'][1:], xerr=2*stds[model]['gap'][1:], label=labels[model], color=styles[model][0],\n",
    "                                   linestyle = styles[model][1], alpha=styles[model][2])\n",
    "axs[1][1].set_xlabel(r'Execution time (normalised)', weight='bold')\n",
    "#plt.legend()\n",
    "#plt.xlim(0.5, 5)\n",
    "#plt.savefig('../images/D_{}_N_{}_gap_t.png'.format(D, N),  bbox_inches=\"tight\")\n",
    "\n",
    "\n",
    "for model in models:\n",
    "    axs[2][1].errorbar(x=Ms[model][1:], y=means[model]['kl'][1:], \n",
    "                 yerr=2*stds[model]['kl'][1:], label=labels[model], color=styles[model][0],\n",
    "                                   linestyle = styles[model][1], alpha=styles[model][2])\n",
    "axs[2][1].set_xlabel(r'M', weight='bold')\n",
    "#plt.legend()\n",
    "#plt.xlim(0.5, 5)\n",
    "#plt.savefig('../images/D_{}_N_{}kl_M.png'.format(D, N),  bbox_inches=\"tight\")\n",
    "\n",
    "axs[2][1].legend(handlelength=5, loc=\"upper right\", fontsize=13)\n",
    "\n",
    "\n",
    "axs[2][0].set_xlim(0, 1000)\n",
    "axs[2][1].set_xlim(0, 4000)\n",
    "axs[0][0].set_xscale(\"log\", base=2)\n",
    "axs[1][0].set_xscale(\"log\", base=2)\n",
    "axs[0][1].set_xscale(\"log\", base=2)\n",
    "axs[1][1].set_xscale(\"log\", base=2)\n",
    "def format_func(n, tn):\n",
    "    for i in range(8):\n",
    "        if n == 1/(2**i):\n",
    "            break\n",
    "    if i == 0:\n",
    "        return r\"1\"\n",
    "    else:\n",
    "        return r\"$\\frac{{1}}{{{}}}$\".format(2**i)\n",
    "        return r\"$\\frac{1}{2}$\"\n",
    "axs[0][0].xaxis.set_major_locator(matplotlib.ticker.FixedLocator([1/128, 1/64, 1/32, 1/16, 1/8, 1/4, 1/2, 1.]))\n",
    "axs[0][0].xaxis.set_major_formatter(plt.FuncFormatter(format_func))\n",
    "axs[0][1].xaxis.set_major_locator(matplotlib.ticker.FixedLocator([1/128, 1/64, 1/32, 1/16, 1/8, 1/4, 1/2, 1.]))\n",
    "axs[0][1].xaxis.set_major_formatter(plt.FuncFormatter(format_func))\n",
    "axs[1][0].xaxis.set_major_locator(matplotlib.ticker.FixedLocator([1/128, 1/64, 1/32, 1/16, 1/8, 1/4, 1/2, 1.]))\n",
    "axs[1][0].xaxis.set_major_formatter(plt.FuncFormatter(format_func))\n",
    "axs[1][1].xaxis.set_major_locator(matplotlib.ticker.FixedLocator([1/128, 1/64, 1/32, 1/16, 1/8, 1/4, 1/2, 1.]))\n",
    "axs[1][1].xaxis.set_major_formatter(plt.FuncFormatter(format_func))\n",
    "axs[1][0].set_xlim(2**(-8), 1.)\n",
    "axs[1][1].set_xlim(2**(-8), 1.)\n",
    "axs[0][0].set_xlim(2**(-8), 1.)\n",
    "axs[0][1].set_xlim(2**(-8), 1.)\n",
    "\n",
    "\n",
    "axs[0][0].set_ylim(0., 0.03)\n",
    "axs[1][0].set_ylim(0., 0.04)\n",
    "\n",
    "\n",
    "plt.tight_layout()\n",
    "\n",
    "\n",
    "plt.savefig(f\"../images/se_tableau.png\", bbox_inches=\"tight\")\n",
    "plt.savefig(f\"../images/se_tableau.svg\", bbox_inches=\"tight\")\n",
    "plt.show()\n",
    "\n",
    "\n",
    "\n"
   ]
  }
 ],
 "metadata": {
  "kernelspec": {
   "display_name": "fourier",
   "language": "python",
   "name": "fourier"
  },
  "language_info": {
   "codemirror_mode": {
    "name": "ipython",
    "version": 3
   },
   "file_extension": ".py",
   "mimetype": "text/x-python",
   "name": "python",
   "nbconvert_exporter": "python",
   "pygments_lexer": "ipython3",
   "version": "3.8.13"
  }
 },
 "nbformat": 4,
 "nbformat_minor": 5
}
