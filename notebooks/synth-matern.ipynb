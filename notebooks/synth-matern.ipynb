{
 "cells": [
  {
   "cell_type": "code",
   "execution_count": 1,
   "id": "ed0cade0-bf8c-4731-a011-115ffcc1c1d7",
   "metadata": {},
   "outputs": [
    {
     "name": "stderr",
     "output_type": "stream",
     "text": [
      "2023-08-04 12:39:47.716543: I tensorflow/core/platform/cpu_feature_guard.cc:193] This TensorFlow binary is optimized with oneAPI Deep Neural Network Library (oneDNN) to use the following CPU instructions in performance-critical operations:  AVX2 FMA\n",
      "To enable them in other operations, rebuild TensorFlow with the appropriate compiler flags.\n",
      "2023-08-04 12:39:48.276506: W tensorflow/compiler/xla/stream_executor/platform/default/dso_loader.cc:64] Could not load dynamic library 'libnvinfer.so.7'; dlerror: libnvinfer.so.7: cannot open shared object file: No such file or directory\n",
      "2023-08-04 12:39:48.276594: W tensorflow/compiler/xla/stream_executor/platform/default/dso_loader.cc:64] Could not load dynamic library 'libnvinfer_plugin.so.7'; dlerror: libnvinfer_plugin.so.7: cannot open shared object file: No such file or directory\n",
      "2023-08-04 12:39:48.276601: W tensorflow/compiler/tf2tensorrt/utils/py_utils.cc:38] TF-TRT Warning: Cannot dlopen some TensorRT libraries. If you would like to use Nvidia GPU with TensorRT, please make sure the missing libraries mentioned above are installed properly.\n",
      "2023-08-04 12:39:51.187327: I tensorflow/compiler/xla/stream_executor/cuda/cuda_gpu_executor.cc:981] successful NUMA node read from SysFS had negative value (-1), but there must be at least one NUMA node, so returning NUMA node zero\n",
      "2023-08-04 12:39:51.210562: W tensorflow/compiler/xla/stream_executor/platform/default/dso_loader.cc:64] Could not load dynamic library 'libcudnn.so.8'; dlerror: libcudnn.so.8: cannot open shared object file: No such file or directory\n",
      "2023-08-04 12:39:51.210585: W tensorflow/core/common_runtime/gpu/gpu_device.cc:1934] Cannot dlopen some GPU libraries. Please make sure the missing libraries mentioned above are installed properly if you would like to use GPU. Follow the guide at https://www.tensorflow.org/install/gpu for how to download and setup the required libraries for your platform.\n",
      "Skipping registering GPU devices...\n"
     ]
    }
   ],
   "source": [
    "import lab\n",
    "import gpflow as gp\n",
    "import math\n",
    "import scipy.fft\n",
    "import numpy as np\n",
    "import time\n",
    "from matplotlib import pyplot as plt\n",
    "import seaborn\n",
    "import json\n",
    "\n",
    "import sys, importlib, pathlib\n",
    "sys.path.insert(0, str(pathlib.Path().resolve().parent))\n",
    "\n",
    "seaborn.set()\n",
    "seaborn.set_style('whitegrid') # use whitegrid for print-ready plots\n",
    "\n",
    "lab.default_dtype=np.float64\n",
    "\n",
    "import vff\n",
    "plt.rcParams.update({'figure.figsize' : (8, 6),\n",
    "                     # bigger labels for readability\n",
    "                    'font.size' : 22,\n",
    "                    'axes.labelsize' : 28,\n",
    "                    'xtick.labelsize' : 22,\n",
    "                    'ytick.labelsize' : 22,\n",
    "                     'axes.titlesize' : 28,\n",
    "                     # Latex-like fonts\n",
    "                     'text.usetex' : True,\n",
    "                     'font.family' : 'serif',\n",
    "                     'font.serif' : 'Computer Modern',\n",
    "                     'mathtext.fontset' : 'cm',\n",
    "                     'mathtext.rm' : 'Bitstream Vera Sans',\n",
    "                     'mathtext.it' : 'Bitstream Vera Sans:italic',\n",
    "                     'mathtext.bf' : 'Bitstream Ver Sans:bold',\n",
    "                      'lines.linewidth' : 3,\n",
    "                    })\n",
    "\n"
   ]
  },
  {
   "cell_type": "code",
   "execution_count": 6,
   "id": "5941d07f-65a4-4870-8167-d6de02b9179d",
   "metadata": {},
   "outputs": [
    {
     "name": "stdout",
     "output_type": "stream",
     "text": [
      "--------------------------------\n",
      "SGPR KM\n",
      "--------------------------------\n"
     ]
    },
    {
     "data": {
      "application/vnd.jupyter.widget-view+json": {
       "model_id": "726975d7f13242a3a261b28df642199b",
       "version_major": 2,
       "version_minor": 0
      },
      "text/plain": [
       "  0%|          | 0/5 [00:00<?, ?it/s]"
      ]
     },
     "metadata": {},
     "output_type": "display_data"
    },
    {
     "data": {
      "application/vnd.jupyter.widget-view+json": {
       "model_id": "c239b3734ea54754be4fd5122c8ec122",
       "version_major": 2,
       "version_minor": 0
      },
      "text/plain": [
       "  0%|          | 0/11 [00:00<?, ?it/s]"
      ]
     },
     "metadata": {},
     "output_type": "display_data"
    },
    {
     "name": "stdout",
     "output_type": "stream",
     "text": [
      "WARNING:tensorflow:From /var/home/tmc49/.fourier-venv/lib/python3.8/site-packages/tensorflow/python/autograph/pyct/static_analysis/liveness.py:83: Analyzer.lamba_check (from tensorflow.python.autograph.pyct.static_analysis.liveness) is deprecated and will be removed after 2023-09-23.\n",
      "Instructions for updating:\n",
      "Lambda fuctions will be no more assumed to be used in the statement where they are used, or at least in the same block. https://github.com/tensorflow/tensorflow/issues/56089\n",
      "M=50.0\t KL=6.908e-02\t gap=1.412e-01\n",
      "M=100.0\t KL=4.689e-02\t gap=9.060e-02\n",
      "M=200.0\t KL=2.310e-02\t gap=4.458e-02\n",
      "M=300.0\t KL=1.026e-02\t gap=1.932e-02\n",
      "M=400.0\t KL=5.883e-03\t gap=9.616e-03\n",
      "M=500.0\t KL=3.655e-03\t gap=5.312e-03\n",
      "M=600.0\t KL=1.976e-03\t gap=2.410e-03\n",
      "M=700.0\t KL=1.559e-03\t gap=1.675e-03\n",
      "M=800.0\t KL=8.529e-04\t gap=7.464e-04\n",
      "M=900.0\t KL=5.481e-04\t gap=3.369e-04\n",
      "M=1000.0\t KL=3.463e-04\t gap=1.193e-04\n"
     ]
    },
    {
     "data": {
      "application/vnd.jupyter.widget-view+json": {
       "model_id": "52275f5ce87145369045a389bfc12e26",
       "version_major": 2,
       "version_minor": 0
      },
      "text/plain": [
       "  0%|          | 0/11 [00:00<?, ?it/s]"
      ]
     },
     "metadata": {},
     "output_type": "display_data"
    },
    {
     "name": "stdout",
     "output_type": "stream",
     "text": [
      "M=50.0\t KL=6.561e-02\t gap=1.382e-01\n",
      "M=100.0\t KL=4.799e-02\t gap=8.992e-02\n",
      "M=200.0\t KL=2.340e-02\t gap=4.655e-02\n",
      "M=300.0\t KL=1.104e-02\t gap=2.010e-02\n",
      "M=400.0\t KL=6.838e-03\t gap=1.109e-02\n",
      "M=500.0\t KL=3.210e-03\t gap=4.603e-03\n",
      "M=600.0\t KL=2.196e-03\t gap=2.682e-03\n",
      "M=700.0\t KL=1.225e-03\t gap=1.271e-03\n",
      "M=800.0\t KL=7.340e-04\t gap=5.934e-04\n",
      "M=900.0\t KL=5.792e-04\t gap=3.911e-04\n",
      "M=1000.0\t KL=2.988e-04\t gap=6.178e-05\n"
     ]
    },
    {
     "data": {
      "application/vnd.jupyter.widget-view+json": {
       "model_id": "ac38df4ab75940e5a25f53e55c917f86",
       "version_major": 2,
       "version_minor": 0
      },
      "text/plain": [
       "  0%|          | 0/11 [00:00<?, ?it/s]"
      ]
     },
     "metadata": {},
     "output_type": "display_data"
    },
    {
     "name": "stdout",
     "output_type": "stream",
     "text": [
      "M=50.0\t KL=6.881e-02\t gap=1.464e-01\n",
      "M=100.0\t KL=5.047e-02\t gap=9.624e-02\n",
      "M=200.0\t KL=2.270e-02\t gap=4.408e-02\n",
      "M=300.0\t KL=1.074e-02\t gap=2.049e-02\n",
      "M=400.0\t KL=5.861e-03\t gap=9.457e-03\n",
      "M=500.0\t KL=3.372e-03\t gap=4.875e-03\n",
      "M=600.0\t KL=2.005e-03\t gap=2.468e-03\n",
      "M=700.0\t KL=1.599e-03\t gap=1.733e-03\n",
      "M=800.0\t KL=7.198e-04\t gap=5.678e-04\n",
      "M=900.0\t KL=6.219e-04\t gap=4.455e-04\n",
      "M=1000.0\t KL=4.399e-04\t gap=2.176e-04\n"
     ]
    },
    {
     "data": {
      "application/vnd.jupyter.widget-view+json": {
       "model_id": "f07a5748ad084983a5f2812443618cce",
       "version_major": 2,
       "version_minor": 0
      },
      "text/plain": [
       "  0%|          | 0/11 [00:00<?, ?it/s]"
      ]
     },
     "metadata": {},
     "output_type": "display_data"
    },
    {
     "name": "stdout",
     "output_type": "stream",
     "text": [
      "M=50.0\t KL=7.039e-02\t gap=1.472e-01\n",
      "M=100.0\t KL=4.742e-02\t gap=9.003e-02\n",
      "M=200.0\t KL=2.074e-02\t gap=4.257e-02\n",
      "M=300.0\t KL=1.195e-02\t gap=2.166e-02\n",
      "M=400.0\t KL=6.112e-03\t gap=1.011e-02\n",
      "M=500.0\t KL=4.272e-03\t gap=5.909e-03\n",
      "M=600.0\t KL=2.230e-03\t gap=2.813e-03\n",
      "M=700.0\t KL=1.236e-03\t gap=1.311e-03\n",
      "M=800.0\t KL=8.742e-04\t gap=7.700e-04\n",
      "M=900.0\t KL=4.832e-04\t gap=2.798e-04\n",
      "M=1000.0\t KL=5.769e-04\t gap=3.823e-04\n"
     ]
    },
    {
     "data": {
      "application/vnd.jupyter.widget-view+json": {
       "model_id": "c2c51a423fef48aaaa7af08027a957cd",
       "version_major": 2,
       "version_minor": 0
      },
      "text/plain": [
       "  0%|          | 0/11 [00:00<?, ?it/s]"
      ]
     },
     "metadata": {},
     "output_type": "display_data"
    },
    {
     "name": "stdout",
     "output_type": "stream",
     "text": [
      "M=50.0\t KL=7.033e-02\t gap=1.459e-01\n",
      "M=100.0\t KL=4.670e-02\t gap=8.941e-02\n",
      "M=200.0\t KL=2.235e-02\t gap=4.393e-02\n",
      "M=300.0\t KL=1.099e-02\t gap=2.038e-02\n",
      "M=400.0\t KL=8.100e-03\t gap=1.246e-02\n",
      "M=500.0\t KL=3.391e-03\t gap=4.896e-03\n",
      "M=600.0\t KL=2.276e-03\t gap=2.793e-03\n",
      "M=700.0\t KL=1.414e-03\t gap=1.550e-03\n",
      "M=800.0\t KL=1.037e-03\t gap=9.655e-04\n",
      "M=900.0\t KL=4.935e-04\t gap=2.892e-04\n",
      "M=1000.0\t KL=3.232e-04\t gap=8.932e-05\n",
      "--------------------------------\n",
      "SGPR\n",
      "--------------------------------\n"
     ]
    },
    {
     "data": {
      "application/vnd.jupyter.widget-view+json": {
       "model_id": "414e46c79e6e4e22b3f8f0925423ec87",
       "version_major": 2,
       "version_minor": 0
      },
      "text/plain": [
       "  0%|          | 0/5 [00:00<?, ?it/s]"
      ]
     },
     "metadata": {},
     "output_type": "display_data"
    },
    {
     "data": {
      "application/vnd.jupyter.widget-view+json": {
       "model_id": "19427d50c83c4cd79cf4238981907f63",
       "version_major": 2,
       "version_minor": 0
      },
      "text/plain": [
       "  0%|          | 0/11 [00:00<?, ?it/s]"
      ]
     },
     "metadata": {},
     "output_type": "display_data"
    },
    {
     "name": "stdout",
     "output_type": "stream",
     "text": [
      "0 Stopped reinit_Z procedure because new ELBO was smaller than old ELBO.\n",
      "M=50.0\t KL=4.642e-02\t gap=1.851e-01\n",
      "0 Stopped reinit_Z procedure because new ELBO was smaller than old ELBO.\n",
      "M=100.0\t KL=3.279e-02\t gap=1.365e-01\n",
      "3 Stopped reinit_Z procedure because new ELBO was smaller than old ELBO.\n",
      "M=200.0\t KL=2.798e-02\t gap=6.300e-02\n",
      "1 Stopped reinit_Z procedure because new ELBO was smaller than old ELBO.\n",
      "M=300.0\t KL=1.447e-02\t gap=2.793e-02\n",
      "1 Stopped reinit_Z procedure because new ELBO was smaller than old ELBO.\n",
      "M=400.0\t KL=8.090e-03\t gap=1.321e-02\n",
      "1 Stopped reinit_Z procedure because new ELBO was smaller than old ELBO.\n",
      "M=500.0\t KL=5.684e-03\t gap=8.377e-03\n",
      "1 Stopped reinit_Z procedure because new ELBO was smaller than old ELBO.\n",
      "M=600.0\t KL=3.208e-03\t gap=4.136e-03\n",
      "1 Stopped reinit_Z procedure because new ELBO was smaller than old ELBO.\n",
      "M=700.0\t KL=1.567e-03\t gap=1.668e-03\n",
      "1 Stopped reinit_Z procedure because new ELBO was smaller than old ELBO.\n",
      "M=800.0\t KL=9.819e-04\t gap=8.839e-04\n",
      "1 Stopped reinit_Z procedure because new ELBO was smaller than old ELBO.\n",
      "M=900.0\t KL=7.579e-04\t gap=5.959e-04\n",
      "1 Stopped reinit_Z procedure because new ELBO was smaller than old ELBO.\n",
      "M=1000.0\t KL=5.574e-04\t gap=3.532e-04\n"
     ]
    },
    {
     "data": {
      "application/vnd.jupyter.widget-view+json": {
       "model_id": "c458eff71e6d4aa6bfe8cb04b1eb8a9d",
       "version_major": 2,
       "version_minor": 0
      },
      "text/plain": [
       "  0%|          | 0/11 [00:00<?, ?it/s]"
      ]
     },
     "metadata": {},
     "output_type": "display_data"
    },
    {
     "name": "stdout",
     "output_type": "stream",
     "text": [
      "0 Stopped reinit_Z procedure because new ELBO was smaller than old ELBO.\n",
      "M=50.0\t KL=4.642e-02\t gap=1.851e-01\n",
      "0 Stopped reinit_Z procedure because new ELBO was smaller than old ELBO.\n",
      "M=100.0\t KL=3.279e-02\t gap=1.365e-01\n",
      "3 Stopped reinit_Z procedure because new ELBO was smaller than old ELBO.\n",
      "M=200.0\t KL=2.798e-02\t gap=6.300e-02\n",
      "1 Stopped reinit_Z procedure because new ELBO was smaller than old ELBO.\n",
      "M=300.0\t KL=1.447e-02\t gap=2.793e-02\n",
      "1 Stopped reinit_Z procedure because new ELBO was smaller than old ELBO.\n",
      "M=400.0\t KL=8.090e-03\t gap=1.321e-02\n",
      "1 Stopped reinit_Z procedure because new ELBO was smaller than old ELBO.\n",
      "M=500.0\t KL=5.684e-03\t gap=8.377e-03\n",
      "1 Stopped reinit_Z procedure because new ELBO was smaller than old ELBO.\n",
      "M=600.0\t KL=3.208e-03\t gap=4.136e-03\n",
      "1 Stopped reinit_Z procedure because new ELBO was smaller than old ELBO.\n",
      "M=700.0\t KL=1.567e-03\t gap=1.668e-03\n",
      "1 Stopped reinit_Z procedure because new ELBO was smaller than old ELBO.\n",
      "M=800.0\t KL=9.819e-04\t gap=8.839e-04\n",
      "1 Stopped reinit_Z procedure because new ELBO was smaller than old ELBO.\n",
      "M=900.0\t KL=7.579e-04\t gap=5.959e-04\n",
      "1 Stopped reinit_Z procedure because new ELBO was smaller than old ELBO.\n",
      "M=1000.0\t KL=5.574e-04\t gap=3.532e-04\n"
     ]
    },
    {
     "data": {
      "application/vnd.jupyter.widget-view+json": {
       "model_id": "ed23d2d907df4b6fba044d9035095bb5",
       "version_major": 2,
       "version_minor": 0
      },
      "text/plain": [
       "  0%|          | 0/11 [00:00<?, ?it/s]"
      ]
     },
     "metadata": {},
     "output_type": "display_data"
    },
    {
     "name": "stdout",
     "output_type": "stream",
     "text": [
      "0 Stopped reinit_Z procedure because new ELBO was smaller than old ELBO.\n",
      "M=50.0\t KL=4.642e-02\t gap=1.851e-01\n",
      "0 Stopped reinit_Z procedure because new ELBO was smaller than old ELBO.\n",
      "M=100.0\t KL=3.279e-02\t gap=1.365e-01\n",
      "3 Stopped reinit_Z procedure because new ELBO was smaller than old ELBO.\n",
      "M=200.0\t KL=2.798e-02\t gap=6.300e-02\n",
      "1 Stopped reinit_Z procedure because new ELBO was smaller than old ELBO.\n",
      "M=300.0\t KL=1.447e-02\t gap=2.793e-02\n",
      "1 Stopped reinit_Z procedure because new ELBO was smaller than old ELBO.\n",
      "M=400.0\t KL=8.090e-03\t gap=1.321e-02\n",
      "1 Stopped reinit_Z procedure because new ELBO was smaller than old ELBO.\n",
      "M=500.0\t KL=5.684e-03\t gap=8.377e-03\n",
      "1 Stopped reinit_Z procedure because new ELBO was smaller than old ELBO.\n",
      "M=600.0\t KL=3.208e-03\t gap=4.136e-03\n",
      "1 Stopped reinit_Z procedure because new ELBO was smaller than old ELBO.\n",
      "M=700.0\t KL=1.567e-03\t gap=1.668e-03\n",
      "1 Stopped reinit_Z procedure because new ELBO was smaller than old ELBO.\n",
      "M=800.0\t KL=9.819e-04\t gap=8.839e-04\n",
      "1 Stopped reinit_Z procedure because new ELBO was smaller than old ELBO.\n",
      "M=900.0\t KL=7.579e-04\t gap=5.959e-04\n",
      "1 Stopped reinit_Z procedure because new ELBO was smaller than old ELBO.\n",
      "M=1000.0\t KL=5.574e-04\t gap=3.532e-04\n"
     ]
    },
    {
     "data": {
      "application/vnd.jupyter.widget-view+json": {
       "model_id": "889a18d8d1a544e9b93c646de037f8aa",
       "version_major": 2,
       "version_minor": 0
      },
      "text/plain": [
       "  0%|          | 0/11 [00:00<?, ?it/s]"
      ]
     },
     "metadata": {},
     "output_type": "display_data"
    },
    {
     "name": "stdout",
     "output_type": "stream",
     "text": [
      "0 Stopped reinit_Z procedure because new ELBO was smaller than old ELBO.\n",
      "M=50.0\t KL=4.642e-02\t gap=1.851e-01\n",
      "0 Stopped reinit_Z procedure because new ELBO was smaller than old ELBO.\n",
      "M=100.0\t KL=3.279e-02\t gap=1.365e-01\n",
      "3 Stopped reinit_Z procedure because new ELBO was smaller than old ELBO.\n",
      "M=200.0\t KL=2.798e-02\t gap=6.300e-02\n",
      "1 Stopped reinit_Z procedure because new ELBO was smaller than old ELBO.\n",
      "M=300.0\t KL=1.447e-02\t gap=2.793e-02\n",
      "1 Stopped reinit_Z procedure because new ELBO was smaller than old ELBO.\n",
      "M=400.0\t KL=8.090e-03\t gap=1.321e-02\n",
      "1 Stopped reinit_Z procedure because new ELBO was smaller than old ELBO.\n",
      "M=500.0\t KL=5.684e-03\t gap=8.377e-03\n",
      "1 Stopped reinit_Z procedure because new ELBO was smaller than old ELBO.\n",
      "M=600.0\t KL=3.208e-03\t gap=4.136e-03\n",
      "1 Stopped reinit_Z procedure because new ELBO was smaller than old ELBO.\n",
      "M=700.0\t KL=1.567e-03\t gap=1.668e-03\n",
      "1 Stopped reinit_Z procedure because new ELBO was smaller than old ELBO.\n",
      "M=800.0\t KL=9.819e-04\t gap=8.839e-04\n",
      "1 Stopped reinit_Z procedure because new ELBO was smaller than old ELBO.\n",
      "M=900.0\t KL=7.579e-04\t gap=5.959e-04\n",
      "1 Stopped reinit_Z procedure because new ELBO was smaller than old ELBO.\n",
      "M=1000.0\t KL=5.574e-04\t gap=3.532e-04\n"
     ]
    },
    {
     "data": {
      "application/vnd.jupyter.widget-view+json": {
       "model_id": "e35194c581924bfca56c26cd37bdf88e",
       "version_major": 2,
       "version_minor": 0
      },
      "text/plain": [
       "  0%|          | 0/11 [00:00<?, ?it/s]"
      ]
     },
     "metadata": {},
     "output_type": "display_data"
    },
    {
     "name": "stdout",
     "output_type": "stream",
     "text": [
      "0 Stopped reinit_Z procedure because new ELBO was smaller than old ELBO.\n",
      "M=50.0\t KL=4.642e-02\t gap=1.851e-01\n",
      "0 Stopped reinit_Z procedure because new ELBO was smaller than old ELBO.\n",
      "M=100.0\t KL=3.279e-02\t gap=1.365e-01\n",
      "3 Stopped reinit_Z procedure because new ELBO was smaller than old ELBO.\n",
      "M=200.0\t KL=2.798e-02\t gap=6.300e-02\n",
      "1 Stopped reinit_Z procedure because new ELBO was smaller than old ELBO.\n",
      "M=300.0\t KL=1.447e-02\t gap=2.793e-02\n",
      "1 Stopped reinit_Z procedure because new ELBO was smaller than old ELBO.\n",
      "M=400.0\t KL=8.090e-03\t gap=1.321e-02\n",
      "1 Stopped reinit_Z procedure because new ELBO was smaller than old ELBO.\n",
      "M=500.0\t KL=5.684e-03\t gap=8.377e-03\n",
      "1 Stopped reinit_Z procedure because new ELBO was smaller than old ELBO.\n",
      "M=600.0\t KL=3.208e-03\t gap=4.136e-03\n",
      "1 Stopped reinit_Z procedure because new ELBO was smaller than old ELBO.\n",
      "M=700.0\t KL=1.567e-03\t gap=1.668e-03\n",
      "1 Stopped reinit_Z procedure because new ELBO was smaller than old ELBO.\n",
      "M=800.0\t KL=9.819e-04\t gap=8.839e-04\n",
      "1 Stopped reinit_Z procedure because new ELBO was smaller than old ELBO.\n",
      "M=900.0\t KL=7.579e-04\t gap=5.959e-04\n",
      "1 Stopped reinit_Z procedure because new ELBO was smaller than old ELBO.\n",
      "M=1000.0\t KL=5.574e-04\t gap=3.532e-04\n",
      "--------------------------------\n",
      "IFF\n",
      "--------------------------------\n"
     ]
    },
    {
     "data": {
      "application/vnd.jupyter.widget-view+json": {
       "model_id": "4cfd74fc1cd74e5fb7653550f3ad94f2",
       "version_major": 2,
       "version_minor": 0
      },
      "text/plain": [
       "  0%|          | 0/5 [00:00<?, ?it/s]"
      ]
     },
     "metadata": {},
     "output_type": "display_data"
    },
    {
     "data": {
      "application/vnd.jupyter.widget-view+json": {
       "model_id": "f2e8874bb9a244cfb483ab795a5a95a7",
       "version_major": 2,
       "version_minor": 0
      },
      "text/plain": [
       "  0%|          | 0/13 [00:00<?, ?it/s]"
      ]
     },
     "metadata": {},
     "output_type": "display_data"
    },
    {
     "name": "stdout",
     "output_type": "stream",
     "text": [
      "M=50\t KL=2.777e-02\t gap=1.811e-01\n",
      "M=100\t KL=3.678e-02\t gap=1.344e-01\n",
      "M=200\t KL=2.728e-02\t gap=5.690e-02\n",
      "M=300\t KL=1.383e-02\t gap=2.439e-02\n",
      "M=400\t KL=6.388e-03\t gap=9.704e-03\n",
      "M=500\t KL=3.523e-03\t gap=4.678e-03\n",
      "M=600\t KL=1.906e-03\t gap=2.160e-03\n",
      "M=700\t KL=1.125e-03\t gap=1.073e-03\n",
      "M=800\t KL=6.975e-04\t gap=5.251e-04\n",
      "M=900\t KL=4.213e-04\t gap=1.964e-04\n",
      "M=1000\t KL=2.675e-04\t gap=2.327e-05\n",
      "M=1500\t KL=4.731e-05\t gap=-2.106e-04\n",
      "M=3000\t KL=1.636e-06\t gap=-2.568e-04\n"
     ]
    },
    {
     "data": {
      "application/vnd.jupyter.widget-view+json": {
       "model_id": "e64a82dcdb8c44ba94bd33bb14b08375",
       "version_major": 2,
       "version_minor": 0
      },
      "text/plain": [
       "  0%|          | 0/13 [00:00<?, ?it/s]"
      ]
     },
     "metadata": {},
     "output_type": "display_data"
    },
    {
     "name": "stdout",
     "output_type": "stream",
     "text": [
      "M=50\t KL=2.777e-02\t gap=1.811e-01\n",
      "M=100\t KL=3.678e-02\t gap=1.344e-01\n",
      "M=200\t KL=2.728e-02\t gap=5.690e-02\n",
      "M=300\t KL=1.383e-02\t gap=2.439e-02\n",
      "M=400\t KL=6.388e-03\t gap=9.704e-03\n",
      "M=500\t KL=3.523e-03\t gap=4.678e-03\n",
      "M=600\t KL=1.906e-03\t gap=2.160e-03\n",
      "M=700\t KL=1.125e-03\t gap=1.073e-03\n",
      "M=800\t KL=6.975e-04\t gap=5.251e-04\n",
      "M=900\t KL=4.213e-04\t gap=1.964e-04\n",
      "M=1000\t KL=2.675e-04\t gap=2.327e-05\n",
      "M=1500\t KL=4.731e-05\t gap=-2.106e-04\n",
      "M=3000\t KL=1.636e-06\t gap=-2.568e-04\n"
     ]
    },
    {
     "data": {
      "application/vnd.jupyter.widget-view+json": {
       "model_id": "2639856ccff04d4d8d49aa0949f9a250",
       "version_major": 2,
       "version_minor": 0
      },
      "text/plain": [
       "  0%|          | 0/13 [00:00<?, ?it/s]"
      ]
     },
     "metadata": {},
     "output_type": "display_data"
    },
    {
     "name": "stdout",
     "output_type": "stream",
     "text": [
      "M=50\t KL=2.777e-02\t gap=1.811e-01\n",
      "M=100\t KL=3.678e-02\t gap=1.344e-01\n",
      "M=200\t KL=2.728e-02\t gap=5.690e-02\n",
      "M=300\t KL=1.383e-02\t gap=2.439e-02\n",
      "M=400\t KL=6.388e-03\t gap=9.704e-03\n",
      "M=500\t KL=3.523e-03\t gap=4.678e-03\n",
      "M=600\t KL=1.906e-03\t gap=2.160e-03\n",
      "M=700\t KL=1.125e-03\t gap=1.073e-03\n",
      "M=800\t KL=6.975e-04\t gap=5.251e-04\n",
      "M=900\t KL=4.213e-04\t gap=1.964e-04\n",
      "M=1000\t KL=2.675e-04\t gap=2.327e-05\n",
      "M=1500\t KL=4.731e-05\t gap=-2.106e-04\n",
      "M=3000\t KL=1.636e-06\t gap=-2.568e-04\n"
     ]
    },
    {
     "data": {
      "application/vnd.jupyter.widget-view+json": {
       "model_id": "6861cb82fd1e4a4485a12b18d348100a",
       "version_major": 2,
       "version_minor": 0
      },
      "text/plain": [
       "  0%|          | 0/13 [00:00<?, ?it/s]"
      ]
     },
     "metadata": {},
     "output_type": "display_data"
    },
    {
     "name": "stdout",
     "output_type": "stream",
     "text": [
      "M=50\t KL=2.777e-02\t gap=1.811e-01\n",
      "M=100\t KL=3.678e-02\t gap=1.344e-01\n",
      "M=200\t KL=2.728e-02\t gap=5.690e-02\n",
      "M=300\t KL=1.383e-02\t gap=2.439e-02\n",
      "M=400\t KL=6.388e-03\t gap=9.704e-03\n",
      "M=500\t KL=3.523e-03\t gap=4.678e-03\n",
      "M=600\t KL=1.906e-03\t gap=2.160e-03\n",
      "M=700\t KL=1.125e-03\t gap=1.073e-03\n",
      "M=800\t KL=6.975e-04\t gap=5.251e-04\n",
      "M=900\t KL=4.213e-04\t gap=1.964e-04\n",
      "M=1000\t KL=2.675e-04\t gap=2.327e-05\n",
      "M=1500\t KL=4.731e-05\t gap=-2.106e-04\n",
      "M=3000\t KL=1.636e-06\t gap=-2.568e-04\n"
     ]
    },
    {
     "data": {
      "application/vnd.jupyter.widget-view+json": {
       "model_id": "b2794ceb65764d1f8ba364598255e814",
       "version_major": 2,
       "version_minor": 0
      },
      "text/plain": [
       "  0%|          | 0/13 [00:00<?, ?it/s]"
      ]
     },
     "metadata": {},
     "output_type": "display_data"
    },
    {
     "name": "stdout",
     "output_type": "stream",
     "text": [
      "M=50\t KL=2.777e-02\t gap=1.811e-01\n",
      "M=100\t KL=3.678e-02\t gap=1.344e-01\n",
      "M=200\t KL=2.728e-02\t gap=5.690e-02\n",
      "M=300\t KL=1.383e-02\t gap=2.439e-02\n",
      "M=400\t KL=6.388e-03\t gap=9.704e-03\n",
      "M=500\t KL=3.523e-03\t gap=4.678e-03\n",
      "M=600\t KL=1.906e-03\t gap=2.160e-03\n",
      "M=700\t KL=1.125e-03\t gap=1.073e-03\n",
      "M=800\t KL=6.975e-04\t gap=5.251e-04\n",
      "M=900\t KL=4.213e-04\t gap=1.964e-04\n",
      "M=1000\t KL=2.675e-04\t gap=2.327e-05\n",
      "M=1500\t KL=4.731e-05\t gap=-2.106e-04\n",
      "M=3000\t KL=1.636e-06\t gap=-2.568e-04\n",
      "--------------------------------\n",
      "VFF\n",
      "--------------------------------\n"
     ]
    },
    {
     "data": {
      "application/vnd.jupyter.widget-view+json": {
       "model_id": "c4172ac9258f49db88139b9b9ea5368b",
       "version_major": 2,
       "version_minor": 0
      },
      "text/plain": [
       "  0%|          | 0/5 [00:00<?, ?it/s]"
      ]
     },
     "metadata": {},
     "output_type": "display_data"
    },
    {
     "data": {
      "application/vnd.jupyter.widget-view+json": {
       "model_id": "9b2cd05d2a094419b474a1e2587966b0",
       "version_major": 2,
       "version_minor": 0
      },
      "text/plain": [
       "  0%|          | 0/13 [00:00<?, ?it/s]"
      ]
     },
     "metadata": {},
     "output_type": "display_data"
    },
    {
     "name": "stdout",
     "output_type": "stream",
     "text": [
      "M=25\t KL=3.420e-02\t gap=1.838e-01\n",
      "M=51\t KL=3.914e-02\t gap=1.232e-01\n",
      "M=101\t KL=2.674e-02\t gap=5.183e-02\n",
      "M=151\t KL=1.493e-02\t gap=2.378e-02\n",
      "M=201\t KL=7.593e-03\t gap=1.033e-02\n",
      "M=251\t KL=4.306e-03\t gap=5.040e-03\n",
      "M=301\t KL=2.747e-03\t gap=2.819e-03\n",
      "M=351\t KL=1.987e-03\t gap=1.862e-03\n",
      "M=401\t KL=1.575e-03\t gap=1.388e-03\n",
      "M=451\t KL=1.311e-03\t gap=1.107e-03\n",
      "M=501\t KL=1.147e-03\t gap=9.412e-04\n",
      "M=751\t KL=9.159e-04\t gap=7.206e-04\n",
      "M=1501\t KL=8.641e-04\t gap=6.727e-04\n"
     ]
    },
    {
     "data": {
      "application/vnd.jupyter.widget-view+json": {
       "model_id": "2a5f4d1fa60d4cbab923d7827930f87d",
       "version_major": 2,
       "version_minor": 0
      },
      "text/plain": [
       "  0%|          | 0/13 [00:00<?, ?it/s]"
      ]
     },
     "metadata": {},
     "output_type": "display_data"
    },
    {
     "name": "stdout",
     "output_type": "stream",
     "text": [
      "M=25\t KL=3.420e-02\t gap=1.838e-01\n",
      "M=51\t KL=3.914e-02\t gap=1.232e-01\n",
      "M=101\t KL=2.674e-02\t gap=5.183e-02\n",
      "M=151\t KL=1.493e-02\t gap=2.378e-02\n",
      "M=201\t KL=7.593e-03\t gap=1.033e-02\n",
      "M=251\t KL=4.306e-03\t gap=5.040e-03\n",
      "M=301\t KL=2.747e-03\t gap=2.819e-03\n",
      "M=351\t KL=1.987e-03\t gap=1.862e-03\n",
      "M=401\t KL=1.575e-03\t gap=1.388e-03\n",
      "M=451\t KL=1.311e-03\t gap=1.107e-03\n",
      "M=501\t KL=1.147e-03\t gap=9.412e-04\n",
      "M=751\t KL=9.159e-04\t gap=7.206e-04\n",
      "M=1501\t KL=8.641e-04\t gap=6.727e-04\n"
     ]
    },
    {
     "data": {
      "application/vnd.jupyter.widget-view+json": {
       "model_id": "d43e01efc61441119bcb868a12e330bd",
       "version_major": 2,
       "version_minor": 0
      },
      "text/plain": [
       "  0%|          | 0/13 [00:00<?, ?it/s]"
      ]
     },
     "metadata": {},
     "output_type": "display_data"
    },
    {
     "name": "stdout",
     "output_type": "stream",
     "text": [
      "M=25\t KL=3.420e-02\t gap=1.838e-01\n",
      "M=51\t KL=3.914e-02\t gap=1.232e-01\n",
      "M=101\t KL=2.674e-02\t gap=5.183e-02\n",
      "M=151\t KL=1.493e-02\t gap=2.378e-02\n",
      "M=201\t KL=7.593e-03\t gap=1.033e-02\n",
      "M=251\t KL=4.306e-03\t gap=5.040e-03\n",
      "M=301\t KL=2.747e-03\t gap=2.819e-03\n",
      "M=351\t KL=1.987e-03\t gap=1.862e-03\n",
      "M=401\t KL=1.575e-03\t gap=1.388e-03\n",
      "M=451\t KL=1.311e-03\t gap=1.107e-03\n",
      "M=501\t KL=1.147e-03\t gap=9.412e-04\n",
      "M=751\t KL=9.159e-04\t gap=7.206e-04\n",
      "M=1501\t KL=8.641e-04\t gap=6.727e-04\n"
     ]
    },
    {
     "data": {
      "application/vnd.jupyter.widget-view+json": {
       "model_id": "e1e20272214a4f8faff2e65dab289bb5",
       "version_major": 2,
       "version_minor": 0
      },
      "text/plain": [
       "  0%|          | 0/13 [00:00<?, ?it/s]"
      ]
     },
     "metadata": {},
     "output_type": "display_data"
    },
    {
     "name": "stdout",
     "output_type": "stream",
     "text": [
      "M=25\t KL=3.420e-02\t gap=1.838e-01\n",
      "M=51\t KL=3.914e-02\t gap=1.232e-01\n",
      "M=101\t KL=2.674e-02\t gap=5.183e-02\n",
      "M=151\t KL=1.493e-02\t gap=2.378e-02\n",
      "M=201\t KL=7.593e-03\t gap=1.033e-02\n",
      "M=251\t KL=4.306e-03\t gap=5.040e-03\n",
      "M=301\t KL=2.747e-03\t gap=2.819e-03\n",
      "M=351\t KL=1.987e-03\t gap=1.862e-03\n",
      "M=401\t KL=1.575e-03\t gap=1.388e-03\n",
      "M=451\t KL=1.311e-03\t gap=1.107e-03\n",
      "M=501\t KL=1.147e-03\t gap=9.412e-04\n",
      "M=751\t KL=9.159e-04\t gap=7.206e-04\n",
      "M=1501\t KL=8.641e-04\t gap=6.727e-04\n"
     ]
    },
    {
     "data": {
      "application/vnd.jupyter.widget-view+json": {
       "model_id": "2d59b65322b442b68f60f43962cfb22a",
       "version_major": 2,
       "version_minor": 0
      },
      "text/plain": [
       "  0%|          | 0/13 [00:00<?, ?it/s]"
      ]
     },
     "metadata": {},
     "output_type": "display_data"
    },
    {
     "name": "stdout",
     "output_type": "stream",
     "text": [
      "M=25\t KL=3.420e-02\t gap=1.838e-01\n",
      "M=51\t KL=3.914e-02\t gap=1.232e-01\n",
      "M=101\t KL=2.674e-02\t gap=5.183e-02\n",
      "M=151\t KL=1.493e-02\t gap=2.378e-02\n",
      "M=201\t KL=7.593e-03\t gap=1.033e-02\n",
      "M=251\t KL=4.306e-03\t gap=5.040e-03\n",
      "M=301\t KL=2.747e-03\t gap=2.819e-03\n",
      "M=351\t KL=1.987e-03\t gap=1.862e-03\n",
      "M=401\t KL=1.575e-03\t gap=1.388e-03\n",
      "M=451\t KL=1.311e-03\t gap=1.107e-03\n",
      "M=501\t KL=1.147e-03\t gap=9.412e-04\n",
      "M=751\t KL=9.159e-04\t gap=7.206e-04\n",
      "M=1501\t KL=8.641e-04\t gap=6.727e-04\n"
     ]
    }
   ],
   "source": [
    "import tensorflow as tf\n",
    "from tqdm.notebook import tqdm\n",
    "\n",
    "seed = 7\n",
    "lab.set_random_seed(seed)\n",
    "\n",
    "# First make the data\n",
    "N = 10000\n",
    "L = lab.ones(1)\n",
    "D = 1\n",
    "width = math.sqrt(N/2)/(L)\n",
    "sigma_f = 1.\n",
    "snr = 0.774 # some arbitrary numeber\n",
    "x = 6*width*lab.rand(N, D) -3*width\n",
    "gt_kernel = gp.kernels.Matern52(lengthscales=lab.concat(*[L for d in range(D)]))\n",
    "gt_lik = gp.likelihoods.Gaussian()\n",
    "gt_kernel.variance.assign(sigma_f)\n",
    "gt_lik.variance.assign(lab.squeeze(gt_kernel.variance / snr))\n",
    "K = gt_kernel.K(x,x) + gt_lik.variance * lab.eye(x.dtype, N)\n",
    "y = lab.squeeze(lab.mm(lab.chol(K), lab.randn(N, 1)), axis=-1)\n",
    "best_lml = vff.objectives.log_marginal_likelihood(y, x, gt_kernel, gt_lik)/N\n",
    "\n",
    "#KK = 0 # number of trials\n",
    "\n",
    "sgpr_all = {'kl' : [[]], 't' : [[]], 'gap' : [[]] }\n",
    "sgpr_opt_all = {'kl' : [[]], 't' : [[]], 'gap' : [[]] }\n",
    "iff_eff_all = {'kl' : [[]], 't' : [[]], 'gap' : [[]] }\n",
    "iff_all = {'kl' : [[]], 't' : [[]], 'gap' : [[]] }\n",
    "vff_all = {'kl' : [[]], 't' : [[]], 'gap' : [[]] }\n",
    "\n",
    "# Do SGPR\n",
    "print('--------------------------------')\n",
    "print('SGPR KM')\n",
    "print('--------------------------------')\n",
    "for kk in tqdm(range(5)):\n",
    "    \n",
    "    Ms = [50, 100, 200, 300, 400, 500, 600, 700, 800, 900, 1000,]\n",
    "    kls = []\n",
    "    gaps = []\n",
    "    times = []\n",
    "    for M in tqdm(Ms):\n",
    "        loc_kernel = gp.kernels.Matern52(lengthscales=[0.2]*D)\n",
    "            \n",
    "        wc = time.perf_counter()\n",
    "        z, _ = scipy.cluster.vq.kmeans(x, M)\n",
    "        model = vff.sgpr.SGPR(\n",
    "            data = (x, lab.expand_dims(y, axis=-1)),\n",
    "            kernel = loc_kernel,\n",
    "            inducing_variable = z,\n",
    "        )\n",
    "        optim = gp.optimizers.Scipy()\n",
    "        opt_logs = optim.minimize(model.training_loss, model.trainable_variables, options=dict(maxiter=100))\n",
    "        wc = time.perf_counter() - wc\n",
    "        \n",
    "        elbo = model.elbo()/N\n",
    "        kls = kls + [vff.objectives.log_marginal_likelihood(y, model.data[0], model.kernel, model.likelihood)/N - elbo]\n",
    "        gaps = gaps + [best_lml - elbo]\n",
    "        print(\"M={}\\t KL={:.3e}\\t gap={:.3e}\".format(M**(1/D), lab.squeeze(lab.to_numpy(kls[-1])), \n",
    "                                                   lab.squeeze(lab.to_numpy(gaps[-1]))\n",
    "                                                  ))\n",
    "\n",
    "        times = times + [wc]\n",
    "    sgpr_all['kl'] += [lab.squeeze(lab.to_numpy(kls))]\n",
    "    sgpr_all['gap'] += [lab.squeeze(lab.to_numpy(gaps))]\n",
    "    sgpr_all['t'] += [times]\n",
    "fpath ='./redux_km_m52_{}'.format(D)\n",
    "\n",
    "results_filename = f\"{fpath}.json\"\n",
    "with open(results_filename, \"w\") as fp:\n",
    "    json.dump(sgpr_all, fp, indent=4)\n",
    "    \n",
    "# Do SGPR\n",
    "print('--------------------------------')\n",
    "print('SGPR')\n",
    "print('--------------------------------')\n",
    "for kk in tqdm(range(5)):\n",
    "    \n",
    "    Ms = [50, 100, 200, 300, 400, 500, 600, 700, 800, 900, 1000]\n",
    "    kls = []\n",
    "    gaps = []\n",
    "    times = []\n",
    "    for M in tqdm(Ms):\n",
    "        loc_kernel = gp.kernels.Matern52(lengthscales=[0.2]*D)\n",
    "            \n",
    "        wc = time.perf_counter()\n",
    "        initialiser = vff.initialise.ConditionalVariance(seed=seed)\n",
    "        z, _ = initialiser(lab.to_numpy(x), M, loc_kernel)\n",
    "        model = vff.sgpr.SGPR(\n",
    "            data = (x, lab.expand_dims(y, axis=-1)),\n",
    "            kernel = loc_kernel,\n",
    "            inducing_variable = z,\n",
    "        )\n",
    "        optim = gp.optimizers.Scipy()\n",
    "        vff.initialise.minimise_reinit(optim, model, initialiser)\n",
    "        wc = time.perf_counter() - wc\n",
    "        \n",
    "        elbo = model.elbo()/N\n",
    "        kls = kls + [vff.objectives.log_marginal_likelihood(y, model.data[0], model.kernel, model.likelihood)/N - elbo]\n",
    "        gaps = gaps + [best_lml - elbo]\n",
    "        print(\"M={}\\t KL={:.3e}\\t gap={:.3e}\".format(M**(1/D), lab.squeeze(lab.to_numpy(kls[-1])), \n",
    "                                                   lab.squeeze(lab.to_numpy(gaps[-1]))\n",
    "                                                  ))\n",
    "\n",
    "        times = times + [wc]\n",
    "    sgpr_all['kl'] += [lab.squeeze(lab.to_numpy(kls))]\n",
    "    sgpr_all['gap'] += [lab.squeeze(lab.to_numpy(gaps))]\n",
    "    sgpr_all['t'] += [times]\n",
    "fpath ='./redux_cv_m52_{}'.format(D)\n",
    "\n",
    "results_filename = f\"{fpath}.json\"\n",
    "with open(results_filename, \"w\") as fp:\n",
    "    json.dump(sgpr_all, fp, indent=4)\n",
    "    \n",
    "    \n",
    "\n",
    "print('--------------------------------')\n",
    "print('IFF')\n",
    "print('--------------------------------')\n",
    "for kk in tqdm(range(5)):\n",
    "    # Now, our method\n",
    "    iff_Ms = [50, 100, 200, 300, 400, 500, 600, 700, 800, 900, 1000, 1500, 3000]\n",
    "    kls = []\n",
    "    gaps = []\n",
    "    times = []\n",
    "    for M in tqdm(iff_Ms):\n",
    "        loc_kernel = gp.kernels.Matern52(lengthscales=[0.2]*D)\n",
    "\n",
    "        eps = .95/(6*width)\n",
    "        \n",
    "        optim = gp.optimizers.Scipy()\n",
    "        wc = time.perf_counter()\n",
    "        u = vff.inducing_variables.MaskedProductIFF(\n",
    "            [vff.inducing_variables.IntegratedFourierFeature1D(eps, M//2)]\n",
    "        )\n",
    "        model = vff.sgpr.SGPR(\n",
    "            data = (x, lab.expand_dims(y, axis=-1)),\n",
    "            kernel = loc_kernel,\n",
    "            inducing_variable = u,\n",
    "        )\n",
    "        opt_logs = optim.minimize(model.training_loss, model.trainable_variables, options=dict(maxiter=100))\n",
    "        wc = time.perf_counter() - wc\n",
    "\n",
    "        elbo = model.elbo()/N\n",
    "        kls = kls + [vff.objectives.log_marginal_likelihood(y, x, model.kernel, model.likelihood)/N - elbo]\n",
    "        gaps = gaps + [best_lml - elbo]\n",
    "        print(\"M={}\\t KL={:.3e}\\t gap={:.3e}\".format(M, lab.squeeze(lab.to_numpy(kls[-1])), \n",
    "                                                   lab.squeeze(lab.to_numpy(gaps[-1]))\n",
    "                                                  ))\n",
    "        times = times + [wc]\n",
    "    iff_eff_all['kl'] += [lab.squeeze(lab.to_numpy(kls))]\n",
    "    iff_eff_all['gap'] += [lab.squeeze(lab.to_numpy(gaps))]\n",
    "    iff_eff_all['t'] += [times]\n",
    "fpath ='./redux_iff_m52_{}'.format(D)\n",
    "\n",
    "results_filename = f\"{fpath}.json\"\n",
    "with open(results_filename, \"w\") as fp:\n",
    "    json.dump(iff_eff_all, fp, indent=4)\n",
    "    \n",
    "print('--------------------------------')\n",
    "print('VFF')\n",
    "print('--------------------------------')\n",
    "for kk in tqdm(range(5)):\n",
    "    iff_Ms = [25, 51, 101, 151, 201, 251, 301, 351, 401, 451, 501, 751, 1501]\n",
    "\n",
    "    kls = []\n",
    "    gaps = []\n",
    "    times = []\n",
    "    for M in tqdm(iff_Ms):\n",
    "        a = x.min()-0.05\n",
    "        b = x.max()+0.05\n",
    "        loc_kernel = gp.kernels.Matern52(.2)\n",
    "        optim = gp.optimizers.Scipy()\n",
    "        wc = time.perf_counter() \n",
    "        u = vff.inducing_variables.VariationalFourierFeature1D(a, b, M)\n",
    "        model = vff.sgpr.SGPR(\n",
    "            data = (x, lab.expand_dims(y, axis=-1)),\n",
    "            kernel = loc_kernel,\n",
    "            inducing_variable = u,\n",
    "        )\n",
    "        opt_logs = optim.minimize(model.training_loss, model.trainable_variables, options=dict(maxiter=100))\n",
    "        wc = time.perf_counter() - wc      \n",
    "\n",
    "        elbo = model.elbo()/N\n",
    "        kls = kls + [vff.objectives.log_marginal_likelihood(y, x, model.kernel, model.likelihood)/N - elbo]\n",
    "        gaps = gaps + [best_lml - elbo]\n",
    "        print(\"M={}\\t KL={:.3e}\\t gap={:.3e}\".format(M, lab.squeeze(lab.to_numpy(kls[-1])), \n",
    "                                                   lab.squeeze(lab.to_numpy(gaps[-1]))\n",
    "                                                  ))\n",
    "        times = times + [wc]\n",
    "    vff_all['kl'] += [lab.squeeze(lab.to_numpy(kls))]\n",
    "    vff_all['gap'] += [lab.squeeze(lab.to_numpy(gaps))]\n",
    "    vff_all['t'] += [times]\n",
    "fpath ='./redux_vff_m52_{}'.format(D)\n",
    "\n",
    "results_filename = f\"{fpath}.json\"\n",
    "with open(results_filename, \"w\") as fp:\n",
    "    json.dump(vff_all, fp, indent=4)"
   ]
  },
  {
   "cell_type": "code",
   "execution_count": 20,
   "id": "cf2533d4-786d-4530-8d98-e8588196b73d",
   "metadata": {},
   "outputs": [
    {
     "name": "stdout",
     "output_type": "stream",
     "text": [
      "--------------------------------\n",
      "SGPR KM\n",
      "--------------------------------\n"
     ]
    },
    {
     "data": {
      "application/vnd.jupyter.widget-view+json": {
       "model_id": "4ea8cbf9855241e9a9c9ba52e9e94b8e",
       "version_major": 2,
       "version_minor": 0
      },
      "text/plain": [
       "0it [00:00, ?it/s]"
      ]
     },
     "metadata": {},
     "output_type": "display_data"
    },
    {
     "name": "stdout",
     "output_type": "stream",
     "text": [
      "--------------------------------\n",
      "SGPR\n",
      "--------------------------------\n"
     ]
    },
    {
     "data": {
      "application/vnd.jupyter.widget-view+json": {
       "model_id": "8ee335ceb09740b5821a9c85f5218ce5",
       "version_major": 2,
       "version_minor": 0
      },
      "text/plain": [
       "0it [00:00, ?it/s]"
      ]
     },
     "metadata": {},
     "output_type": "display_data"
    },
    {
     "name": "stdout",
     "output_type": "stream",
     "text": [
      "--------------------------------\n",
      "IFF\n",
      "--------------------------------\n"
     ]
    },
    {
     "data": {
      "application/vnd.jupyter.widget-view+json": {
       "model_id": "c44f2c9d146c4f1bb6ba81f37c6f421d",
       "version_major": 2,
       "version_minor": 0
      },
      "text/plain": [
       "0it [00:00, ?it/s]"
      ]
     },
     "metadata": {},
     "output_type": "display_data"
    },
    {
     "name": "stdout",
     "output_type": "stream",
     "text": [
      "--------------------------------\n",
      "IFF naive\n",
      "--------------------------------\n"
     ]
    },
    {
     "data": {
      "application/vnd.jupyter.widget-view+json": {
       "model_id": "8168ac8d59264e4ebced51fe723178ea",
       "version_major": 2,
       "version_minor": 0
      },
      "text/plain": [
       "0it [00:00, ?it/s]"
      ]
     },
     "metadata": {},
     "output_type": "display_data"
    },
    {
     "name": "stdout",
     "output_type": "stream",
     "text": [
      "--------------------------------\n",
      "VFF naive\n",
      "--------------------------------\n"
     ]
    },
    {
     "data": {
      "application/vnd.jupyter.widget-view+json": {
       "model_id": "05b048018d1d4444bc1920b963d2459b",
       "version_major": 2,
       "version_minor": 0
      },
      "text/plain": [
       "  0%|          | 0/5 [00:00<?, ?it/s]"
      ]
     },
     "metadata": {},
     "output_type": "display_data"
    },
    {
     "data": {
      "application/vnd.jupyter.widget-view+json": {
       "model_id": "ff82a8357f574795a6d116e7419dc374",
       "version_major": 2,
       "version_minor": 0
      },
      "text/plain": [
       "  0%|          | 0/18 [00:00<?, ?it/s]"
      ]
     },
     "metadata": {},
     "output_type": "display_data"
    },
    {
     "name": "stdout",
     "output_type": "stream",
     "text": [
      "M=5\t KL=6.682e-02\t gap=1.342e-01\n",
      "M=11\t KL=3.839e-02\t gap=5.536e-02\n",
      "M=13\t KL=3.060e-02\t gap=4.483e-02\n",
      "M=15\t KL=2.472e-02\t gap=3.797e-02\n",
      "M=17\t KL=2.061e-02\t gap=3.381e-02\n",
      "M=19\t KL=1.694e-02\t gap=3.054e-02\n",
      "M=21\t KL=1.413e-02\t gap=2.838e-02\n",
      "M=23\t KL=1.195e-02\t gap=2.683e-02\n",
      "M=25\t KL=1.040e-02\t gap=2.583e-02\n",
      "M=27\t KL=9.137e-03\t gap=2.507e-02\n",
      "M=29\t KL=8.121e-03\t gap=2.451e-02\n",
      "M=31\t KL=7.313e-03\t gap=2.408e-02\n",
      "M=33\t KL=6.626e-03\t gap=2.373e-02\n",
      "M=35\t KL=6.140e-03\t gap=2.350e-02\n",
      "M=37\t KL=5.775e-03\t gap=2.332e-02\n",
      "M=39\t KL=5.463e-03\t gap=2.318e-02\n",
      "M=41\t KL=5.231e-03\t gap=2.307e-02\n",
      "M=43\t KL=5.026e-03\t gap=2.297e-02\n"
     ]
    },
    {
     "data": {
      "application/vnd.jupyter.widget-view+json": {
       "model_id": "fcf2797961a54604b417b391e3ac0409",
       "version_major": 2,
       "version_minor": 0
      },
      "text/plain": [
       "  0%|          | 0/18 [00:00<?, ?it/s]"
      ]
     },
     "metadata": {},
     "output_type": "display_data"
    },
    {
     "name": "stdout",
     "output_type": "stream",
     "text": [
      "M=5\t KL=6.682e-02\t gap=1.342e-01\n",
      "M=11\t KL=3.839e-02\t gap=5.536e-02\n",
      "M=13\t KL=3.060e-02\t gap=4.483e-02\n",
      "M=15\t KL=2.472e-02\t gap=3.797e-02\n",
      "M=17\t KL=2.061e-02\t gap=3.381e-02\n",
      "M=19\t KL=1.694e-02\t gap=3.054e-02\n",
      "M=21\t KL=1.413e-02\t gap=2.838e-02\n",
      "M=23\t KL=1.195e-02\t gap=2.683e-02\n",
      "M=25\t KL=1.040e-02\t gap=2.583e-02\n",
      "M=27\t KL=9.137e-03\t gap=2.507e-02\n",
      "M=29\t KL=8.121e-03\t gap=2.451e-02\n",
      "M=31\t KL=7.313e-03\t gap=2.408e-02\n",
      "M=33\t KL=6.626e-03\t gap=2.373e-02\n",
      "M=35\t KL=6.140e-03\t gap=2.350e-02\n",
      "M=37\t KL=5.775e-03\t gap=2.332e-02\n",
      "M=39\t KL=5.463e-03\t gap=2.318e-02\n",
      "M=41\t KL=5.231e-03\t gap=2.307e-02\n",
      "M=43\t KL=5.026e-03\t gap=2.297e-02\n"
     ]
    },
    {
     "data": {
      "application/vnd.jupyter.widget-view+json": {
       "model_id": "3885533be79648cba15dd683240159bc",
       "version_major": 2,
       "version_minor": 0
      },
      "text/plain": [
       "  0%|          | 0/18 [00:00<?, ?it/s]"
      ]
     },
     "metadata": {},
     "output_type": "display_data"
    },
    {
     "name": "stdout",
     "output_type": "stream",
     "text": [
      "M=5\t KL=6.682e-02\t gap=1.342e-01\n",
      "M=11\t KL=3.839e-02\t gap=5.536e-02\n",
      "M=13\t KL=3.060e-02\t gap=4.483e-02\n",
      "M=15\t KL=2.472e-02\t gap=3.797e-02\n",
      "M=17\t KL=2.061e-02\t gap=3.381e-02\n",
      "M=19\t KL=1.694e-02\t gap=3.054e-02\n",
      "M=21\t KL=1.413e-02\t gap=2.838e-02\n",
      "M=23\t KL=1.195e-02\t gap=2.683e-02\n",
      "M=25\t KL=1.040e-02\t gap=2.583e-02\n",
      "M=27\t KL=9.137e-03\t gap=2.507e-02\n",
      "M=29\t KL=8.121e-03\t gap=2.451e-02\n",
      "M=31\t KL=7.313e-03\t gap=2.408e-02\n",
      "M=33\t KL=6.626e-03\t gap=2.373e-02\n",
      "M=35\t KL=6.140e-03\t gap=2.350e-02\n",
      "M=37\t KL=5.775e-03\t gap=2.332e-02\n",
      "M=39\t KL=5.463e-03\t gap=2.318e-02\n",
      "M=41\t KL=5.231e-03\t gap=2.307e-02\n",
      "M=43\t KL=5.026e-03\t gap=2.297e-02\n"
     ]
    },
    {
     "data": {
      "application/vnd.jupyter.widget-view+json": {
       "model_id": "394d8b0b4dd146da8f6e049cd5d8faea",
       "version_major": 2,
       "version_minor": 0
      },
      "text/plain": [
       "  0%|          | 0/18 [00:00<?, ?it/s]"
      ]
     },
     "metadata": {},
     "output_type": "display_data"
    },
    {
     "name": "stdout",
     "output_type": "stream",
     "text": [
      "M=5\t KL=6.682e-02\t gap=1.342e-01\n",
      "M=11\t KL=3.839e-02\t gap=5.536e-02\n",
      "M=13\t KL=3.060e-02\t gap=4.483e-02\n",
      "M=15\t KL=2.472e-02\t gap=3.797e-02\n",
      "M=17\t KL=2.061e-02\t gap=3.381e-02\n",
      "M=19\t KL=1.694e-02\t gap=3.054e-02\n",
      "M=21\t KL=1.413e-02\t gap=2.838e-02\n",
      "M=23\t KL=1.195e-02\t gap=2.683e-02\n",
      "M=25\t KL=1.040e-02\t gap=2.583e-02\n",
      "M=27\t KL=9.137e-03\t gap=2.507e-02\n",
      "M=29\t KL=8.121e-03\t gap=2.451e-02\n",
      "M=31\t KL=7.313e-03\t gap=2.408e-02\n",
      "M=33\t KL=6.626e-03\t gap=2.373e-02\n",
      "M=35\t KL=6.140e-03\t gap=2.350e-02\n",
      "M=37\t KL=5.775e-03\t gap=2.332e-02\n",
      "M=39\t KL=5.463e-03\t gap=2.318e-02\n",
      "M=41\t KL=5.231e-03\t gap=2.307e-02\n",
      "M=43\t KL=5.026e-03\t gap=2.297e-02\n"
     ]
    },
    {
     "data": {
      "application/vnd.jupyter.widget-view+json": {
       "model_id": "76b71b20f4d64f8ebefbc0e121e65a66",
       "version_major": 2,
       "version_minor": 0
      },
      "text/plain": [
       "  0%|          | 0/18 [00:00<?, ?it/s]"
      ]
     },
     "metadata": {},
     "output_type": "display_data"
    },
    {
     "name": "stdout",
     "output_type": "stream",
     "text": [
      "M=5\t KL=6.682e-02\t gap=1.342e-01\n",
      "M=11\t KL=3.839e-02\t gap=5.536e-02\n",
      "M=13\t KL=3.060e-02\t gap=4.483e-02\n",
      "M=15\t KL=2.472e-02\t gap=3.797e-02\n",
      "M=17\t KL=2.061e-02\t gap=3.381e-02\n",
      "M=19\t KL=1.694e-02\t gap=3.054e-02\n",
      "M=21\t KL=1.413e-02\t gap=2.838e-02\n",
      "M=23\t KL=1.195e-02\t gap=2.683e-02\n",
      "M=25\t KL=1.040e-02\t gap=2.583e-02\n",
      "M=27\t KL=9.137e-03\t gap=2.507e-02\n",
      "M=29\t KL=8.121e-03\t gap=2.451e-02\n",
      "M=31\t KL=7.313e-03\t gap=2.408e-02\n",
      "M=33\t KL=6.626e-03\t gap=2.373e-02\n",
      "M=35\t KL=6.140e-03\t gap=2.350e-02\n",
      "M=37\t KL=5.775e-03\t gap=2.332e-02\n",
      "M=39\t KL=5.463e-03\t gap=2.318e-02\n",
      "M=41\t KL=5.231e-03\t gap=2.307e-02\n",
      "M=43\t KL=5.026e-03\t gap=2.297e-02\n",
      "--------------------------------\n",
      "VFF\n",
      "--------------------------------\n"
     ]
    },
    {
     "data": {
      "application/vnd.jupyter.widget-view+json": {
       "model_id": "3b72487c01194320b98f15e1b95527c9",
       "version_major": 2,
       "version_minor": 0
      },
      "text/plain": [
       "  0%|          | 0/5 [00:00<?, ?it/s]"
      ]
     },
     "metadata": {},
     "output_type": "display_data"
    },
    {
     "data": {
      "application/vnd.jupyter.widget-view+json": {
       "model_id": "fc79de4b12c84ac7874cd444ca64b69a",
       "version_major": 2,
       "version_minor": 0
      },
      "text/plain": [
       "  0%|          | 0/18 [00:00<?, ?it/s]"
      ]
     },
     "metadata": {},
     "output_type": "display_data"
    },
    {
     "name": "stdout",
     "output_type": "stream",
     "text": [
      "M=5\t KL=6.691e-02\t gap=1.367e-01\n",
      "M=11\t KL=4.122e-02\t gap=5.921e-02\n",
      "M=13\t KL=3.323e-02\t gap=4.762e-02\n",
      "M=15\t KL=2.646e-02\t gap=3.951e-02\n",
      "M=17\t KL=2.231e-02\t gap=3.511e-02\n",
      "M=19\t KL=1.829e-02\t gap=3.141e-02\n",
      "M=21\t KL=1.530e-02\t gap=2.904e-02\n",
      "M=23\t KL=1.296e-02\t gap=2.735e-02\n",
      "M=25\t KL=1.120e-02\t gap=2.620e-02\n",
      "M=27\t KL=9.684e-03\t gap=2.530e-02\n",
      "M=29\t KL=8.572e-03\t gap=2.469e-02\n",
      "M=31\t KL=7.712e-03\t gap=2.423e-02\n",
      "M=33\t KL=6.904e-03\t gap=2.383e-02\n",
      "M=35\t KL=6.335e-03\t gap=2.356e-02\n",
      "M=37\t KL=5.933e-03\t gap=2.337e-02\n",
      "M=39\t KL=5.585e-03\t gap=2.321e-02\n",
      "M=41\t KL=5.328e-03\t gap=2.310e-02\n",
      "M=43\t KL=5.103e-03\t gap=2.300e-02\n"
     ]
    },
    {
     "data": {
      "application/vnd.jupyter.widget-view+json": {
       "model_id": "626626b297c3488098f167a5a6143330",
       "version_major": 2,
       "version_minor": 0
      },
      "text/plain": [
       "  0%|          | 0/18 [00:00<?, ?it/s]"
      ]
     },
     "metadata": {},
     "output_type": "display_data"
    },
    {
     "name": "stdout",
     "output_type": "stream",
     "text": [
      "M=5\t KL=6.691e-02\t gap=1.367e-01\n",
      "M=11\t KL=4.122e-02\t gap=5.921e-02\n",
      "M=13\t KL=3.323e-02\t gap=4.762e-02\n",
      "M=15\t KL=2.646e-02\t gap=3.951e-02\n",
      "M=17\t KL=2.231e-02\t gap=3.511e-02\n",
      "M=19\t KL=1.829e-02\t gap=3.141e-02\n",
      "M=21\t KL=1.530e-02\t gap=2.904e-02\n",
      "M=23\t KL=1.296e-02\t gap=2.735e-02\n",
      "M=25\t KL=1.120e-02\t gap=2.620e-02\n",
      "M=27\t KL=9.684e-03\t gap=2.530e-02\n",
      "M=29\t KL=8.572e-03\t gap=2.469e-02\n",
      "M=31\t KL=7.712e-03\t gap=2.423e-02\n",
      "M=33\t KL=6.904e-03\t gap=2.383e-02\n",
      "M=35\t KL=6.335e-03\t gap=2.356e-02\n",
      "M=37\t KL=5.933e-03\t gap=2.337e-02\n",
      "M=39\t KL=5.585e-03\t gap=2.321e-02\n",
      "M=41\t KL=5.328e-03\t gap=2.310e-02\n",
      "M=43\t KL=5.103e-03\t gap=2.300e-02\n"
     ]
    },
    {
     "data": {
      "application/vnd.jupyter.widget-view+json": {
       "model_id": "13a7705af2cf4527b5425303aa6d8180",
       "version_major": 2,
       "version_minor": 0
      },
      "text/plain": [
       "  0%|          | 0/18 [00:00<?, ?it/s]"
      ]
     },
     "metadata": {},
     "output_type": "display_data"
    },
    {
     "name": "stdout",
     "output_type": "stream",
     "text": [
      "M=5\t KL=6.691e-02\t gap=1.367e-01\n",
      "M=11\t KL=4.122e-02\t gap=5.921e-02\n",
      "M=13\t KL=3.323e-02\t gap=4.762e-02\n",
      "M=15\t KL=2.646e-02\t gap=3.951e-02\n",
      "M=17\t KL=2.231e-02\t gap=3.511e-02\n",
      "M=19\t KL=1.829e-02\t gap=3.141e-02\n",
      "M=21\t KL=1.530e-02\t gap=2.904e-02\n",
      "M=23\t KL=1.296e-02\t gap=2.735e-02\n",
      "M=25\t KL=1.120e-02\t gap=2.620e-02\n",
      "M=27\t KL=9.684e-03\t gap=2.530e-02\n",
      "M=29\t KL=8.572e-03\t gap=2.469e-02\n",
      "M=31\t KL=7.712e-03\t gap=2.423e-02\n",
      "M=33\t KL=6.904e-03\t gap=2.383e-02\n",
      "M=35\t KL=6.335e-03\t gap=2.356e-02\n",
      "M=37\t KL=5.933e-03\t gap=2.337e-02\n",
      "M=39\t KL=5.585e-03\t gap=2.321e-02\n",
      "M=41\t KL=5.328e-03\t gap=2.310e-02\n",
      "M=43\t KL=5.103e-03\t gap=2.300e-02\n"
     ]
    },
    {
     "data": {
      "application/vnd.jupyter.widget-view+json": {
       "model_id": "521d91f4f2cf42fb814261bb02a02456",
       "version_major": 2,
       "version_minor": 0
      },
      "text/plain": [
       "  0%|          | 0/18 [00:00<?, ?it/s]"
      ]
     },
     "metadata": {},
     "output_type": "display_data"
    },
    {
     "name": "stdout",
     "output_type": "stream",
     "text": [
      "M=5\t KL=6.691e-02\t gap=1.367e-01\n",
      "M=11\t KL=4.122e-02\t gap=5.921e-02\n",
      "M=13\t KL=3.323e-02\t gap=4.762e-02\n",
      "M=15\t KL=2.646e-02\t gap=3.951e-02\n",
      "M=17\t KL=2.231e-02\t gap=3.511e-02\n",
      "M=19\t KL=1.829e-02\t gap=3.141e-02\n",
      "M=21\t KL=1.530e-02\t gap=2.904e-02\n",
      "M=23\t KL=1.296e-02\t gap=2.735e-02\n",
      "M=25\t KL=1.120e-02\t gap=2.620e-02\n",
      "M=27\t KL=9.684e-03\t gap=2.530e-02\n",
      "M=29\t KL=8.572e-03\t gap=2.469e-02\n",
      "M=31\t KL=7.712e-03\t gap=2.423e-02\n",
      "M=33\t KL=6.904e-03\t gap=2.383e-02\n",
      "M=35\t KL=6.335e-03\t gap=2.356e-02\n",
      "M=37\t KL=5.933e-03\t gap=2.337e-02\n",
      "M=39\t KL=5.585e-03\t gap=2.321e-02\n",
      "M=41\t KL=5.328e-03\t gap=2.310e-02\n",
      "M=43\t KL=5.103e-03\t gap=2.300e-02\n"
     ]
    },
    {
     "data": {
      "application/vnd.jupyter.widget-view+json": {
       "model_id": "e1c0a328b21b4d1483bd2b575886ce2c",
       "version_major": 2,
       "version_minor": 0
      },
      "text/plain": [
       "  0%|          | 0/18 [00:00<?, ?it/s]"
      ]
     },
     "metadata": {},
     "output_type": "display_data"
    },
    {
     "name": "stdout",
     "output_type": "stream",
     "text": [
      "M=5\t KL=6.691e-02\t gap=1.367e-01\n",
      "M=11\t KL=4.122e-02\t gap=5.921e-02\n",
      "M=13\t KL=3.323e-02\t gap=4.762e-02\n",
      "M=15\t KL=2.646e-02\t gap=3.951e-02\n",
      "M=17\t KL=2.231e-02\t gap=3.511e-02\n",
      "M=19\t KL=1.829e-02\t gap=3.141e-02\n",
      "M=21\t KL=1.530e-02\t gap=2.904e-02\n",
      "M=23\t KL=1.296e-02\t gap=2.735e-02\n",
      "M=25\t KL=1.120e-02\t gap=2.620e-02\n",
      "M=27\t KL=9.684e-03\t gap=2.530e-02\n",
      "M=29\t KL=8.572e-03\t gap=2.469e-02\n",
      "M=31\t KL=7.712e-03\t gap=2.423e-02\n",
      "M=33\t KL=6.904e-03\t gap=2.383e-02\n",
      "M=35\t KL=6.335e-03\t gap=2.356e-02\n",
      "M=37\t KL=5.933e-03\t gap=2.337e-02\n",
      "M=39\t KL=5.585e-03\t gap=2.321e-02\n",
      "M=41\t KL=5.328e-03\t gap=2.310e-02\n",
      "M=43\t KL=5.103e-03\t gap=2.300e-02\n"
     ]
    }
   ],
   "source": [
    "import tensorflow as tf\n",
    "from tqdm.notebook import tqdm\n",
    "\n",
    "seed = 7\n",
    "lab.set_random_seed(seed)\n",
    "\n",
    "# First make the data\n",
    "N = 10000\n",
    "L = lab.ones(1)\n",
    "D = 2\n",
    "width = 5/(L)\n",
    "sigma_f = 1.\n",
    "snr = 0.774 # some arbitrary numeber\n",
    "x = 6*width*lab.rand(N, D) -3*width\n",
    "gt_kernel = gp.kernels.Matern52(lengthscales=lab.concat(*[L for d in range(D)]))\n",
    "gt_lik = gp.likelihoods.Gaussian()\n",
    "gt_kernel.variance.assign(sigma_f)\n",
    "gt_lik.variance.assign(lab.squeeze(gt_kernel.variance / snr))\n",
    "K = gt_kernel.K(x,x) + gt_lik.variance * lab.eye(x.dtype, N)\n",
    "y = lab.squeeze(lab.mm(lab.chol(K), lab.randn(N, 1)), axis=-1)\n",
    "best_lml = vff.objectives.log_marginal_likelihood(y, x, gt_kernel, gt_lik)/N\n",
    "\n",
    "#KK = 0 # number of trials\n",
    "\n",
    "sgpr_all = {'kl' : [[]], 't' : [[]], 'gap' : [[]] }\n",
    "sgpr_opt_all = {'kl' : [[]], 't' : [[]], 'gap' : [[]] }\n",
    "iff_eff_all = {'kl' : [[]], 't' : [[]], 'gap' : [[]] }\n",
    "iff_all = {'kl' : [[]], 't' : [[]], 'gap' : [[]] }\n",
    "vff_all = {'kl' : [[]], 't' : [[]], 'gap' : [[]] }\n",
    "\n",
    "\n",
    "# Do SGPR\n",
    "print('--------------------------------')\n",
    "print('SGPR KM')\n",
    "print('--------------------------------')\n",
    "for kk in tqdm(range(0)):\n",
    "    \n",
    "    Ms_ = [10, 20, 24, 28, 32, 36, 40, 44, ]\n",
    "    Ms = [int(M**D) for M in Ms_]\n",
    "    \n",
    "    kls = []\n",
    "    gaps = []\n",
    "    times = []\n",
    "    for M in tqdm(Ms):\n",
    "        loc_kernel = gp.kernels.SquaredExponential(lengthscales=[0.2]*D)\n",
    "            \n",
    "        wc = time.perf_counter()\n",
    "        z, _ = scipy.cluster.vq.kmeans(x, M)\n",
    "        model = vff.sgpr.SGPR(\n",
    "            data = (x, lab.expand_dims(y, axis=-1)),\n",
    "            kernel = loc_kernel,\n",
    "            inducing_variable = z,\n",
    "        )\n",
    "        optim = gp.optimizers.Scipy()\n",
    "        opt_logs = optim.minimize(model.training_loss, model.trainable_variables, options=dict(maxiter=100))\n",
    "        wc = time.perf_counter() - wc\n",
    "        \n",
    "        elbo = model.elbo()/N\n",
    "        kls = kls + [vff.objectives.log_marginal_likelihood(y, model.data[0], model.kernel, model.likelihood)/N - elbo]\n",
    "        gaps = gaps + [best_lml - elbo]\n",
    "        print(\"M={}\\t KL={:.3e}\\t gap={:.3e}\".format(M**(1/D), lab.squeeze(lab.to_numpy(kls[-1])), \n",
    "                                                   lab.squeeze(lab.to_numpy(gaps[-1]))\n",
    "                                                  ))\n",
    "\n",
    "        times = times + [wc]\n",
    "    sgpr_all['kl'] += [lab.squeeze(lab.to_numpy(kls))]\n",
    "    sgpr_all['gap'] += [lab.squeeze(lab.to_numpy(gaps))]\n",
    "    sgpr_all['t'] += [times]\n",
    "fpath ='./redux_km_m52_{}'.format(D)\n",
    "\n",
    "results_filename = f\"{fpath}.json\"\n",
    "#with open(results_filename, \"w\") as fp:\n",
    "#    json.dump(sgpr_all, fp, indent=4)\n",
    "\n",
    "# Do SGPR\n",
    "print('--------------------------------')\n",
    "print('SGPR')\n",
    "print('--------------------------------')\n",
    "for kk in tqdm(range(0)):\n",
    "    \n",
    "    Ms_ = [10, 20, 24, 28, 32, 36, 40, 44, ]\n",
    "    Ms = [int(M**D) for M in Ms_]\n",
    "    kls = []\n",
    "    gaps = []\n",
    "    times = []\n",
    "    for M in tqdm(Ms):\n",
    "        loc_kernel = gp.kernels.SquaredExponential(lengthscales=[0.2]*D)\n",
    "            \n",
    "        wc = time.perf_counter()\n",
    "        initialiser = vff.initialise.ConditionalVariance(seed=seed)\n",
    "        z, _ = initialiser(lab.to_numpy(x), M, loc_kernel)\n",
    "        model = vff.sgpr.SGPR(\n",
    "            data = (x, lab.expand_dims(y, axis=-1)),\n",
    "            kernel = loc_kernel,\n",
    "            inducing_variable = z,\n",
    "        )\n",
    "        optim = gp.optimizers.Scipy()\n",
    "        vff.initialise.minimise_reinit(optim, model, initialiser)\n",
    "        wc = time.perf_counter() - wc\n",
    "        \n",
    "        elbo = model.elbo()/N\n",
    "        kls = kls + [vff.objectives.log_marginal_likelihood(y, model.data[0], model.kernel, model.likelihood)/N - elbo]\n",
    "        gaps = gaps + [best_lml - elbo]\n",
    "        print(\"M={}\\t KL={:.3e}\\t gap={:.3e}\".format(M**(1/D), lab.squeeze(lab.to_numpy(kls[-1])), \n",
    "                                                   lab.squeeze(lab.to_numpy(gaps[-1]))\n",
    "                                                  ))\n",
    "\n",
    "        times = times + [wc]\n",
    "    sgpr_all['kl'] += [lab.squeeze(lab.to_numpy(kls))]\n",
    "    sgpr_all['gap'] += [lab.squeeze(lab.to_numpy(gaps))]\n",
    "    sgpr_all['t'] += [times]\n",
    "fpath ='./redux_cv_m52_{}'.format(D)\n",
    "\n",
    "results_filename = f\"{fpath}.json\"\n",
    "#with open(results_filename, \"w\") as fp:\n",
    "#    json.dump(sgpr_all, fp, indent=4)\n",
    "    \n",
    "    \n",
    "print('--------------------------------')\n",
    "print('IFF')\n",
    "print('--------------------------------')\n",
    "for kk in tqdm(range(0)):\n",
    "    # Now, our method\n",
    "    iff_Ms = [10, 22, 26, 30, 34, 38, 42, 46, 50, 54, 58, 62, 66]\n",
    "    kls = []\n",
    "    gaps = []\n",
    "    times = []\n",
    "    for M in tqdm(iff_Ms):\n",
    "        loc_kernel = gp.kernels.SquaredExponential(lengthscales=[0.2]*D)\n",
    "\n",
    "        eps = .95/(6*width)\n",
    "        \n",
    "        optim = gp.optimizers.Scipy()\n",
    "        wc = time.perf_counter()\n",
    "        u = vff.inducing_variables.MaskedProductIFF(\n",
    "            [vff.inducing_variables.IntegratedFourierFeature1D(eps, M//2) for d in range(D)]\n",
    "        )\n",
    "        model = vff.sgpr.SGPR(\n",
    "            data = (x, lab.expand_dims(y, axis=-1)),\n",
    "            kernel = loc_kernel,\n",
    "            inducing_variable = u,\n",
    "        )\n",
    "        opt_logs = optim.minimize(model.training_loss, model.trainable_variables, options=dict(maxiter=100))\n",
    "        wc = time.perf_counter() - wc\n",
    "\n",
    "        elbo = model.elbo()/N\n",
    "        kls = kls + [vff.objectives.log_marginal_likelihood(y, x, model.kernel, model.likelihood)/N - elbo]\n",
    "        gaps = gaps + [best_lml - elbo]\n",
    "        print(\"M={}\\t KL={:.3e}\\t gap={:.3e}\".format(M, lab.squeeze(lab.to_numpy(kls[-1])), \n",
    "                                                   lab.squeeze(lab.to_numpy(gaps[-1]))\n",
    "                                                  ))\n",
    "        times = times + [wc]\n",
    "    iff_eff_all['kl'] += [lab.squeeze(lab.to_numpy(kls))]\n",
    "    iff_eff_all['gap'] += [lab.squeeze(lab.to_numpy(gaps))]\n",
    "    iff_eff_all['t'] += [times]\n",
    "fpath ='./redux_iff_m52_{}'.format(D)\n",
    "\n",
    "results_filename = f\"{fpath}.json\"\n",
    "#with open(results_filename, \"w\") as fp:\n",
    "#    json.dump(iff_eff_all, fp, indent=4)\n",
    "\n",
    "print('--------------------------------')\n",
    "print('IFF naive')\n",
    "print('--------------------------------')\n",
    "for kk in tqdm(range(0)):\n",
    "    # Now, our method\n",
    "    iff_Ms = [10, 22, 26, 30, 34, 38, 42, 46, 50, 54, 58, 62, 66]\n",
    "    kls = []\n",
    "    gaps = []\n",
    "    times = []\n",
    "    for M in tqdm(iff_Ms):\n",
    "        loc_kernel = gp.kernels.SquaredExponential(lengthscales=[0.2]*D)\n",
    "\n",
    "        eps = .95/(6*width)\n",
    "        \n",
    "        optim = gp.optimizers.Scipy()\n",
    "        wc = time.perf_counter()\n",
    "        u = vff.inducing_variables.MaskedProductIFF(\n",
    "            [vff.inducing_variables.IntegratedFourierFeature1D(eps, M//2) for d in range(D)], mask_type=\"none\",\n",
    "        )\n",
    "        model = vff.sgpr.SGPR(\n",
    "            data = (x, lab.expand_dims(y, axis=-1)),\n",
    "            kernel = loc_kernel,\n",
    "            inducing_variable = u,\n",
    "        )\n",
    "        opt_logs = optim.minimize(model.training_loss, model.trainable_variables, options=dict(maxiter=100))\n",
    "        wc = time.perf_counter() - wc\n",
    "\n",
    "        elbo = model.elbo()/N\n",
    "        kls = kls + [vff.objectives.log_marginal_likelihood(y, x, model.kernel, model.likelihood)/N - elbo]\n",
    "        gaps = gaps + [best_lml - elbo]\n",
    "        print(\"M={}\\t KL={:.3e}\\t gap={:.3e}\".format(M, lab.squeeze(lab.to_numpy(kls[-1])), \n",
    "                                                   lab.squeeze(lab.to_numpy(gaps[-1]))\n",
    "                                                  ))\n",
    "        times = times + [wc]\n",
    "    iff_eff_all['kl'] += [lab.squeeze(lab.to_numpy(kls))]\n",
    "    iff_eff_all['gap'] += [lab.squeeze(lab.to_numpy(gaps))]\n",
    "    iff_eff_all['t'] += [times]\n",
    "fpath ='./redux_iff_naive_m52_{}'.format(D)\n",
    "\n",
    "results_filename = f\"{fpath}.json\"\n",
    "#with open(results_filename, \"w\") as fp:\n",
    " #   json.dump(iff_eff_all, fp, indent=4)\n",
    "\n",
    "print('--------------------------------')\n",
    "print('VFF naive')\n",
    "print('--------------------------------')\n",
    "for kk in tqdm(range(5)):\n",
    "    iff_Ms = [5, 11, 13, 15, 17, 19, 21, 23, 25, 27, 29, 31, 33, 35, 37, 39, 41, 43]\n",
    "\n",
    "    kls = []\n",
    "    gaps = []\n",
    "    times = []\n",
    "    for M in tqdm(iff_Ms):\n",
    "        a = np.array([x.min()-0.05]*D)\n",
    "        b = np.array([x.max()+0.05]*D)\n",
    "        loc_kernel = [gp.kernels.Matern52(.2, active_dims=[d]) for d in range(D)]\n",
    "        optim = gp.optimizers.Scipy()\n",
    "        wc = time.perf_counter() \n",
    "        u = vff.inducing_variables.VariationalFourierFeatureProduct(a=np.array(a), b=np.array(b), Md=M, D=D, \n",
    "                                                                    mask_type=\"none\")\n",
    "        model = vff.sgpr.SGPR(\n",
    "            data = (x, lab.expand_dims(y, axis=-1)),\n",
    "            kernel = gp.kernels.Product(loc_kernel),\n",
    "            inducing_variable = u,\n",
    "        )\n",
    "        opt_logs = optim.minimize(model.training_loss, model.trainable_variables, options=dict(maxiter=100))\n",
    "        wc = time.perf_counter() - wc      \n",
    "\n",
    "        elbo = model.elbo()/N\n",
    "        kls = kls + [vff.objectives.log_marginal_likelihood(y, x, model.kernel, model.likelihood)/N - elbo]\n",
    "        gaps = gaps + [best_lml - elbo]\n",
    "        print(\"M={}\\t KL={:.3e}\\t gap={:.3e}\".format(M, lab.squeeze(lab.to_numpy(kls[-1])), \n",
    "                                                   lab.squeeze(lab.to_numpy(gaps[-1]))\n",
    "                                                  ))\n",
    "        times = times + [wc]\n",
    "    vff_all['kl'] += [lab.squeeze(lab.to_numpy(kls))]\n",
    "    vff_all['gap'] += [lab.squeeze(lab.to_numpy(gaps))]\n",
    "    vff_all['t'] += [times]\n",
    "fpath ='./redux_vff_naive_m52_{}'.format(D)\n",
    "\n",
    "results_filename = f\"{fpath}.json\"\n",
    "with open(results_filename, \"w\") as fp:\n",
    "    json.dump(vff_all, fp, indent=4)\n",
    "\n",
    "print('--------------------------------')\n",
    "print('VFF')\n",
    "print('--------------------------------')\n",
    "for kk in tqdm(range(5)):\n",
    "    iff_Ms = [5, 11, 13, 15, 17, 19, 21, 23, 25, 27, 29, 31, 33, 35, 37, 39, 41, 43]\n",
    "\n",
    "    kls = []\n",
    "    gaps = []\n",
    "    times = []\n",
    "    for M in tqdm(iff_Ms):\n",
    "        a = np.array([x.min()-0.05]*D)\n",
    "        b = np.array([x.max()+0.05]*D)\n",
    "        loc_kernel = [gp.kernels.Matern52(.2, active_dims=[d]) for d in range(D)]\n",
    "        optim = gp.optimizers.Scipy()\n",
    "        wc = time.perf_counter() \n",
    "        u = vff.inducing_variables.VariationalFourierFeatureProduct(a=np.array(a), b=np.array(b), Md=M, D=D, \n",
    "                                                                    mask_type=\"spherical_vff\")\n",
    "        model = vff.sgpr.SGPR(\n",
    "            data = (x, lab.expand_dims(y, axis=-1)),\n",
    "            kernel = gp.kernels.Product(loc_kernel),\n",
    "            inducing_variable = u,\n",
    "        )\n",
    "        opt_logs = optim.minimize(model.training_loss, model.trainable_variables, options=dict(maxiter=100))\n",
    "        wc = time.perf_counter() - wc      \n",
    "\n",
    "        elbo = model.elbo()/N\n",
    "        kls = kls + [vff.objectives.log_marginal_likelihood(y, x, model.kernel, model.likelihood)/N - elbo]\n",
    "        gaps = gaps + [best_lml - elbo]\n",
    "        print(\"M={}\\t KL={:.3e}\\t gap={:.3e}\".format(M, lab.squeeze(lab.to_numpy(kls[-1])), \n",
    "                                                   lab.squeeze(lab.to_numpy(gaps[-1]))\n",
    "                                                  ))\n",
    "        times = times + [wc]\n",
    "    vff_all['kl'] += [lab.squeeze(lab.to_numpy(kls))]\n",
    "    vff_all['gap'] += [lab.squeeze(lab.to_numpy(gaps))]\n",
    "    vff_all['t'] += [times]\n",
    "fpath ='./redux_vff_m52_{}'.format(D)\n",
    "\n",
    "results_filename = f\"{fpath}.json\"\n",
    "with open(results_filename, \"w\") as fp:\n",
    "    json.dump(vff_all, fp, indent=4)"
   ]
  },
  {
   "cell_type": "code",
   "execution_count": 30,
   "id": "56411cdf-483c-40e3-bad5-46ce98c367d7",
   "metadata": {},
   "outputs": [
    {
     "data": {
      "image/png": "[encoded data removed]",
      "text/plain": [
       "<Figure size 864x1152 with 6 Axes>"
      ]
     },
     "metadata": {
      "needs_background": "light"
     },
     "output_type": "display_data"
    }
   ],
   "source": [
    "import matplotlib\n",
    "\n",
    "fig, axs = plt.subplots(3, 2, sharey=True, figsize=(12, 16))\n",
    "\n",
    "D=1\n",
    "\n",
    "models = [\n",
    "    'iff',\n",
    "    'vff',\n",
    "    'cv',\n",
    "    'km',\n",
    "]\n",
    "\n",
    "results = {}\n",
    "for model in models: # load the data\n",
    "    f = open('./redux_{}_m52_{}.json'.format(model, D))\n",
    "    results[model] = json.load(f)\n",
    "    \n",
    "    results[model]['gap'] = lab.concat(*[lab.expand_dims(np.array(a), axis=0) for a in results[model]['gap'][1:]], axis=0)\n",
    "    results[model]['kl'] = lab.concat(*[lab.expand_dims(np.array(a), axis=0) for a in results[model]['kl'][1:]], axis=0)\n",
    "    results[model]['t'] = lab.concat(*[lab.expand_dims(np.array(a), axis=0) for a in results[model]['t'][1:]], axis=0)\n",
    "\n",
    "means = {}\n",
    "stds = {}\n",
    "for model in models:\n",
    "    means[model] = {}\n",
    "    stds[model] = {}\n",
    "    for key in ['gap', 'kl', 't']:\n",
    "        means[model][key] = lab.mean(results[model][key], axis=0)\n",
    "        stds[model][key] = lab.std(results[model][key], axis=0)/lab.sqrt(results[model][key].shape[0])\n",
    "    \n",
    "    \n",
    "base_t = means['cv']['t'][-1]\n",
    "for model in models:\n",
    "    means[model]['t'] = means[model]['t']/base_t\n",
    "    stds[model]['t'] = stds[model]['t']/base_t\n",
    "\n",
    "# plot style for each method\n",
    "styles = {\n",
    "    'iff' : ('r', 'solid', 1),\n",
    "    'vff' : ('b', 'solid', 1),\n",
    "    'km' : ('k', 'dashed', 1.),\n",
    "    'cv' : ('k', 'solid', 1.),\n",
    "}\n",
    "\n",
    "labels = {\n",
    "    'iff' : 'IFF (ours)',\n",
    "    'vff' : 'VFF (Hensman et al, 2017)',\n",
    "    'km' : 'Inducing points + k-means',\n",
    "    'cv' : 'Inducing points + k-DPP\\n(Burt et al, 2019)',\n",
    "    }\n",
    "\n",
    "Ms = {\n",
    "    'iff' : [50, 100, 200, 300, 400, 500, 600, 700, 800, 900, 1000, 1500, 3000],\n",
    "    'vff' :  [25, 51, 101, 151, 201, 251, 301, 351, 401, 451, 501, 751, 1501],\n",
    "    'km' : [50, 100, 200, 300, 400, 500, 600, 700, 800, 900, 1000],\n",
    "    'cv' :  [50, 100, 200, 300, 400, 500, 600, 700, 800, 900, 1000],\n",
    "}\n",
    "\n",
    "for model in models:\n",
    "    axs[0][0].errorbar(x=means[model]['t'][1:], y=means[model]['kl'][1:], \n",
    "                 yerr=2*stds[model]['kl'][1:], xerr=2*stds[model]['kl'][1:], label=labels[model], color=styles[model][0],\n",
    "                                   linestyle = styles[model][1], alpha=styles[model][2])\n",
    "axs[0][0].set_xlabel(r'Execution time (normalised)', weight='bold')\n",
    "axs[0][0].set_ylabel(r'Gap to $\\mathcal{L}$',  weight='bold')\n",
    "#plt.legend(handlelength=5)\n",
    "#plt.xlim(0.5, 5)\n",
    "#plt.savefig('../images/D_{}_N_{}_kl_t.png'.format(D, N),  bbox_inches=\"tight\")\n",
    "\n",
    "\n",
    "\n",
    "for model in models:\n",
    "    axs[1][0].errorbar(x=means[model]['t'][1:], y=means[model]['kl'][1:], \n",
    "                 yerr=2*stds[model]['gap'][1:], xerr=2*stds[model]['gap'][1:], label=labels[model], color=styles[model][0],\n",
    "                                   linestyle = styles[model][1], alpha=styles[model][2])\n",
    "axs[1][0].set_xlabel(r'Execution time (normalised)', weight='bold')\n",
    "axs[1][0].set_ylabel(r'Gap to groundtruth $\\mathcal{L}$',  weight='bold')\n",
    "#plt.legend()\n",
    "#plt.xlim(0.5, 5)\n",
    "#plt.savefig('../images/D_{}_N_{}_gap_t.png'.format(D, N),  bbox_inches=\"tight\")\n",
    "\n",
    "\n",
    "for model in models:\n",
    "    axs[2][0].errorbar(x=Ms[model][1:], y=means[model]['kl'][1:], \n",
    "                 yerr=2*stds[model]['kl'][1:], label=labels[model], color=styles[model][0],\n",
    "                                   linestyle = styles[model][1], alpha=styles[model][2])\n",
    "axs[2][0].set_xlabel(r'M', weight='bold')\n",
    "axs[2][0].set_ylabel(r'Gap to $\\mathcal{L}$',  weight='bold')\n",
    "#plt.legend()\n",
    "#plt.xlim(0.5, 5)\n",
    "#plt.savefig('../images/D_{}_N_{}kl_M.png'.format(D, N),  bbox_inches=\"tight\")\n",
    "\n",
    "D=2\n",
    "\n",
    "# Need eps, a, and b to recover the number of features in IFF and VFF\n",
    "seed = 7\n",
    "lab.set_random_seed(seed)\n",
    "\n",
    "N = 10000\n",
    "L = lab.ones(1)\n",
    "D = 2\n",
    "width = 5/(L)\n",
    "sigma_f = 1.\n",
    "snr = 0.774 # some arbitrary numeber\n",
    "x = 6*width*lab.rand(N, D) -3*width\n",
    "eps = .95/(6*width)\n",
    "a = np.array([x.min()-0.05]*D)\n",
    "b = np.array([x.max()+0.05]*D)\n",
    "\n",
    "models = [\n",
    "    'iff',\n",
    "    'iff_naive',\n",
    "    'vff',\n",
    "    'vff_naive',\n",
    "    'cv',\n",
    "    'km',\n",
    "]\n",
    "\n",
    "results = {}\n",
    "for model in models: # load the data\n",
    "    f = open('./redux_{}_m52_{}.json'.format(model, D))\n",
    "    results[model] = json.load(f)\n",
    "    \n",
    "    results[model]['gap'] = lab.concat(*[lab.expand_dims(np.array(a), axis=0) for a in results[model]['gap'][1:]], axis=0)\n",
    "    results[model]['kl'] = lab.concat(*[lab.expand_dims(np.array(a), axis=0) for a in results[model]['kl'][1:]], axis=0)\n",
    "    results[model]['t'] = lab.concat(*[lab.expand_dims(np.array(a), axis=0) for a in results[model]['t'][1:]], axis=0)\n",
    "\n",
    "means = {}\n",
    "stds = {}\n",
    "for model in models:\n",
    "    means[model] = {}\n",
    "    stds[model] = {}\n",
    "    for key in ['gap', 'kl', 't']:\n",
    "        means[model][key] = lab.mean(results[model][key], axis=0)\n",
    "        stds[model][key] = lab.std(results[model][key], axis=0)/lab.sqrt(results[model][key].shape[0])\n",
    "    \n",
    "    \n",
    "base_t = means['cv']['t'][-1]\n",
    "for model in models:\n",
    "    means[model]['t'] = means[model]['t']/base_t\n",
    "    stds[model]['t'] = stds[model]['t']/base_t\n",
    "\n",
    "# plot style for each method\n",
    "styles = {\n",
    "    'iff' : ('r', 'solid', 1),\n",
    "    'iff_naive' : ('r', 'dashed', 1),\n",
    "    'vff' : ('b', 'solid', 1),\n",
    "    'vff_naive' : ('b', 'dashed', 1),\n",
    "    'km' : ('k', 'dashed', 1.),\n",
    "    'cv' : ('k', 'solid', 1.),\n",
    "}\n",
    "\n",
    "labels = {\n",
    "    'iff' : 'IFF (ours)',\n",
    "    'iff_naive' : 'IFF naive (ours)',\n",
    "    'vff' : 'VFF reduced',\n",
    "    'vff_naive' : 'VFF (Hensman et al, 2017)',\n",
    "    'km' : 'Inducing points + k-means',\n",
    "    'cv' : 'Inducing points + k-DPP\\n(Burt et al, 2019)',\n",
    "    }\n",
    "\n",
    "def get_number_of_iff_features(m):\n",
    "    u = vff.inducing_variables.MaskedProductIFF(\n",
    "            [vff.inducing_variables.IntegratedFourierFeature1D(eps, m//2) for d in range(D)]\n",
    "        )\n",
    "    return u.M\n",
    "\n",
    "def get_number_of_vff_features(m, mask_type):\n",
    "    u = vff.inducing_variables.VariationalFourierFeatureProduct(a=np.array(a), b=np.array(b), Md=m, D=D, \n",
    "                                                                    mask_type=mask_type)\n",
    "    return u.M    \n",
    "    \n",
    "Ms = {\n",
    "    'iff' : [get_number_of_iff_features(M) for M in [10, 22, 26, 30, 34, 38, 42, 46, 50, 54, 58, 62, 66]],\n",
    "    'iff_naive' : [M**D for M in [10, 22, 26, 30, 34, 38, 42, 46, 50, 54, 58, 62, 66]],\n",
    "    'vff' : [get_number_of_vff_features(M, \"spherical_vff\") for M in [5, 11, 13, 15, 17, 19, 21, 23, 25, 27, 29, 31, 33, 35, 37, 39, 41, 43]],\n",
    "    'vff_naive' : [get_number_of_vff_features(M, \"none\") for M in [5, 11, 13, 15, 17, 19, 21, 23, 25, 27, 29, 31, 33, 35, 37, 39, 41, 43]],\n",
    "    'km' : [M**D for M in [10, 20, 24, 28, 32, 36, 40, 44,]],\n",
    "    'cv' :  [M**D for M in [10, 20, 24, 28, 32, 36, 40, 44,]],\n",
    "}\n",
    "\n",
    "for model in models:\n",
    "    axs[0][1].errorbar(x=means[model]['t'][1:], y=means[model]['kl'][1:], \n",
    "                 yerr=2*stds[model]['kl'][1:], xerr=2*stds[model]['kl'][1:], label=labels[model], color=styles[model][0],\n",
    "                                   linestyle = styles[model][1], alpha=styles[model][2])\n",
    "axs[0][1].set_xlabel(r'Execution time (normalised)', weight='bold')\n",
    "#plt.legend(handlelength=5)\n",
    "#plt.xlim(0.5, 5)\n",
    "#plt.savefig('../images/D_{}_N_{}_kl_t.png'.format(D, N),  bbox_inches=\"tight\")\n",
    "\n",
    "for model in models:\n",
    "    axs[1][1].errorbar(x=means[model]['t'][1:], y=means[model]['kl'][1:], \n",
    "                 yerr=2*stds[model]['gap'][1:], xerr=2*stds[model]['gap'][1:], label=labels[model], color=styles[model][0],\n",
    "                                   linestyle = styles[model][1], alpha=styles[model][2])\n",
    "axs[1][1].set_xlabel(r'Execution time (normalised)', weight='bold')\n",
    "#plt.legend()\n",
    "#plt.xlim(0.5, 5)\n",
    "#plt.savefig('../images/D_{}_N_{}_gap_t.png'.format(D, N),  bbox_inches=\"tight\")\n",
    "\n",
    "\n",
    "for model in models:\n",
    "    axs[2][1].errorbar(x=Ms[model][1:], y=means[model]['kl'][1:], \n",
    "                 yerr=2*stds[model]['kl'][1:], label=labels[model], color=styles[model][0],\n",
    "                                   linestyle = styles[model][1], alpha=styles[model][2])\n",
    "axs[2][1].set_xlabel(r'M', weight='bold')\n",
    "#plt.legend()\n",
    "#plt.xlim(0.5, 5)\n",
    "#plt.savefig('../images/D_{}_N_{}kl_M.png'.format(D, N),  bbox_inches=\"tight\")\n",
    "\n",
    "\n",
    "axs[2][1].legend(handlelength=5, loc=\"upper right\", fontsize=13)\n",
    "\n",
    "\n",
    "axs[2][0].set_xlim(0, 1000)\n",
    "axs[2][1].set_xlim(0, 4000)\n",
    "axs[0][0].set_xscale(\"log\", base=2)\n",
    "axs[1][0].set_xscale(\"log\", base=2)\n",
    "axs[0][1].set_xscale(\"log\", base=2)\n",
    "axs[1][1].set_xscale(\"log\", base=2)\n",
    "def format_func(n, tn):\n",
    "    for i in range(9):\n",
    "        if n == 1/(2**i):\n",
    "            break\n",
    "    if i == 0:\n",
    "        return r\"1\"\n",
    "    else:\n",
    "        return r\"$\\frac{{1}}{{{}}}$\".format(2**i)\n",
    "        return r\"$\\frac{1}{2}$\"\n",
    "axs[0][0].xaxis.set_major_locator(matplotlib.ticker.FixedLocator([1/256, 1/128, 1/64, 1/32, 1/16, 1/8, 1/4, 1/2, 1.]))\n",
    "axs[0][0].xaxis.set_major_formatter(plt.FuncFormatter(format_func))\n",
    "axs[0][1].xaxis.set_major_locator(matplotlib.ticker.FixedLocator([1/256, 1/128, 1/64, 1/32, 1/16, 1/8, 1/4, 1/2, 1.]))\n",
    "axs[0][1].xaxis.set_major_formatter(plt.FuncFormatter(format_func))\n",
    "axs[1][0].xaxis.set_major_locator(matplotlib.ticker.FixedLocator([1/256, 1/128, 1/64, 1/32, 1/16, 1/8, 1/4, 1/2, 1.]))\n",
    "axs[1][0].xaxis.set_major_formatter(plt.FuncFormatter(format_func))\n",
    "axs[1][1].xaxis.set_major_locator(matplotlib.ticker.FixedLocator([1/256, 1/128, 1/64, 1/32, 1/16, 1/8, 1/4, 1/2, 1.]))\n",
    "axs[1][1].xaxis.set_major_formatter(plt.FuncFormatter(format_func))\n",
    "axs[1][0].set_xlim(2**(-8), 1.)\n",
    "axs[1][1].set_xlim(2**(-8), 1.)\n",
    "axs[0][0].set_xlim(2**(-8), 1.)\n",
    "axs[0][1].set_xlim(2**(-8), 1.)\n",
    "\n",
    "\n",
    "axs[0][0].set_ylim(0., 0.03)\n",
    "axs[1][0].set_ylim(0., 0.04)\n",
    "\n",
    "\n",
    "plt.tight_layout()\n",
    "\n",
    "\n",
    "plt.savefig(f\"../images/matern52_tableau.png\", bbox_inches=\"tight\")\n",
    "plt.savefig(f\"../images/matern52_tableau.svg\", bbox_inches=\"tight\")\n",
    "plt.show()\n",
    "\n",
    "\n",
    "    \n"
   ]
  }
 ],
 "metadata": {
  "kernelspec": {
   "display_name": "fourier",
   "language": "python",
   "name": "fourier"
  },
  "language_info": {
   "codemirror_mode": {
    "name": "ipython",
    "version": 3
   },
   "file_extension": ".py",
   "mimetype": "text/x-python",
   "name": "python",
   "nbconvert_exporter": "python",
   "pygments_lexer": "ipython3",
   "version": "3.8.13"
  }
 },
 "nbformat": 4,
 "nbformat_minor": 5
}
